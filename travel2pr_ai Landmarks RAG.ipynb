{
 "cells": [
  {
   "cell_type": "code",
   "execution_count": 1,
   "metadata": {},
   "outputs": [],
   "source": [
    "import chromadb\n",
    "from langchain.vectorstores import Chroma\n",
    "from langchain.embeddings import OpenAIEmbeddings, HuggingFaceEmbeddings\n",
    "from langchain.schema import Document\n",
    "import json\n",
    "import os"
   ]
  },
  {
   "cell_type": "code",
   "execution_count": 8,
   "metadata": {},
   "outputs": [],
   "source": [
    "import os\n",
    "from dotenv import load_dotenv, find_dotenv\n",
    "_ = load_dotenv(find_dotenv())\n",
    "\n",
    "OPENAI_API_KEY  = os.getenv('OPENAI_API_KEY')"
   ]
  },
  {
   "cell_type": "markdown",
   "metadata": {},
   "source": [
    "# **Step 1: Analyze Document Lengths & Metadata Completeness**"
   ]
  },
  {
   "cell_type": "code",
   "execution_count": null,
   "metadata": {},
   "outputs": [
    {
     "name": "stdout",
     "output_type": "stream",
     "text": [
      "Total landmarks processed: 574\n",
      "Average document length: 773.43 words\n",
      "Max length: 14946 words | Min length: 47 words\n",
      "Standard deviation of lengths: 1438.14\n",
      "Landmarks missing geo_metadata: 454 (79.09%)\n"
     ]
    }
   ],
   "source": [
    "import os\n",
    "import json\n",
    "import numpy as np\n",
    "\n",
    "# Define the path to final cleaned landmark data\n",
    "cleaned_data_path = r\"C:\\Users\\larry\\OneDrive\\Documents\\GitHub\\project-aieng-interactive-travel-planner\\data\\landmarks_cleanng\\final_step_cleaned_data\"\n",
    "\n",
    "# Collect document statistics\n",
    "lengths = []\n",
    "geo_metadata_missing = 0\n",
    "total_files = 0\n",
    "\n",
    "for file in os.listdir(cleaned_data_path):\n",
    "    file_path = os.path.join(cleaned_data_path, file)\n",
    "\n",
    "    with open(file_path, \"r\", encoding=\"utf-8\") as f:\n",
    "        landmark_data = json.load(f)\n",
    "\n",
    "    text_content = landmark_data.get(\"main_content\", \"\")\n",
    "    lengths.append(len(text_content.split()))  # Count words\n",
    "    total_files += 1\n",
    "\n",
    "    if not landmark_data.get(\"geo_metadata\"):\n",
    "        geo_metadata_missing += 1\n",
    "\n",
    "# Compute statistics\n",
    "avg_length = np.mean(lengths)\n",
    "max_length = np.max(lengths)\n",
    "min_length = np.min(lengths)\n",
    "std_dev = np.std(lengths)\n",
    "\n",
    "print(f\"Total landmarks processed: {total_files}\")\n",
    "print(f\"Average document length: {avg_length:.2f} words\")\n",
    "print(f\"Max length: {max_length} words | Min length: {min_length} words\")\n",
    "print(f\"Standard deviation of lengths: {std_dev:.2f}\")\n",
    "print(f\"Landmarks missing geo_metadata: {geo_metadata_missing} ({geo_metadata_missing / total_files:.2%})\")"
   ]
  },
  {
   "cell_type": "markdown",
   "metadata": {},
   "source": [
    "# **Step 2: Data Chunking, embedding and into DB**"
   ]
  },
  {
   "cell_type": "code",
   "execution_count": null,
   "metadata": {},
   "outputs": [],
   "source": [
    "#!pip install langchain_openai"
   ]
  },
  {
   "cell_type": "code",
   "execution_count": 7,
   "metadata": {},
   "outputs": [],
   "source": [
    "import os\n",
    "import json\n",
    "from langchain_community.vectorstores import Chroma\n",
    "from langchain_openai import OpenAIEmbeddings\n",
    "from langchain_text_splitters import RecursiveCharacterTextSplitter"
   ]
  },
  {
   "cell_type": "code",
   "execution_count": 10,
   "metadata": {},
   "outputs": [
    {
     "name": "stdout",
     "output_type": "stream",
     "text": [
      "RAG setup for landmarks completed. Vector database is ready.\n"
     ]
    },
    {
     "name": "stderr",
     "output_type": "stream",
     "text": [
      "C:\\Users\\larry\\AppData\\Local\\Temp\\ipykernel_21196\\1650405425.py:48: LangChainDeprecationWarning: Since Chroma 0.4.x the manual persistence method is no longer supported as docs are automatically persisted.\n",
      "  vectorstore.persist()\n"
     ]
    }
   ],
   "source": [
    "# Define the paths\n",
    "cleaned_data_path = r\"C:\\\\Users\\\\larry\\\\OneDrive\\\\Documents\\\\GitHub\\\\project-aieng-interactive-travel-planner\\\\data\\\\landmarks_cleanng\\\\final_step_cleaned_data\"\n",
    "vectorstore_path = r\"C:\\\\chromadb\\\\landmarks\"\n",
    "\n",
    "# Initialize OpenAI embeddings\n",
    "embeddings = OpenAIEmbeddings()\n",
    "\n",
    "# Initialize text splitter\n",
    "chunk_size = 1024\n",
    "chunk_overlap = 0\n",
    "text_splitter = RecursiveCharacterTextSplitter(chunk_size=chunk_size, chunk_overlap=chunk_overlap)\n",
    "\n",
    "# Prepare documents for indexing\n",
    "documents = []\n",
    "for file in os.listdir(cleaned_data_path):\n",
    "    file_path = os.path.join(cleaned_data_path, file)\n",
    "    with open(file_path, \"r\", encoding=\"utf-8\") as f:\n",
    "        landmark_data = json.load(f)\n",
    "\n",
    "    main_content = landmark_data.get(\"main_content\", \"\")\n",
    "    relevant_links = landmark_data.get(\"relevant_links\", [])\n",
    "    geo_metadata = landmark_data.get(\"geo_metadata\", None) or \"\"  # Leave empty for now\n",
    "\n",
    "    # Split main content into chunks\n",
    "    chunks = text_splitter.split_text(main_content)\n",
    "\n",
    "    for chunk in chunks:\n",
    "        document = {\n",
    "            \"content\": chunk,\n",
    "            \"metadata\": {\n",
    "                \"relevant_links\": \", \".join(relevant_links),  # Convert list to string\n",
    "                \"geo_metadata\": json.dumps(geo_metadata) if geo_metadata else \"\"  # Convert dict to JSON string\n",
    "            }\n",
    "        }\n",
    "        documents.append(document)\n",
    "\n",
    "# Initialize ChromaDB\n",
    "if not os.path.exists(vectorstore_path):\n",
    "    os.makedirs(vectorstore_path)\n",
    "\n",
    "vectorstore = Chroma(persist_directory=vectorstore_path, embedding_function=embeddings)\n",
    "\n",
    "# Add documents to the vector database\n",
    "for doc in documents:\n",
    "    vectorstore.add_texts(texts=[doc[\"content\"]], metadatas=[doc[\"metadata\"]])\n",
    "\n",
    "# Persist the database\n",
    "vectorstore.persist()\n",
    "\n",
    "print(\"RAG setup for landmarks completed. Vector database is ready.\")"
   ]
  },
  {
   "cell_type": "markdown",
   "metadata": {},
   "source": [
    "# **Original RAG Test and Log Approach - Not Used**\n",
    "import time\n",
    "import psutil\n",
    "import pandas as pd\n",
    "from langchain_community.vectorstores import Chroma\n",
    "from langchain_openai import OpenAIEmbeddings, OpenAI\n",
    "\n",
    "# Initialize embedding model\n",
    "embedding_model = OpenAIEmbeddings(model=\"text-embedding-ada-002\")\n",
    "\n",
    "# Path to vector database\n",
    "vectorstore_path = \"C:\\\\Users\\\\larry\\\\OneDrive\\\\Documents\\\\GitHub\\\\project-aieng-interactive-travel-planner\\\\data\\\\landmarks_vectorstore\"\n",
    "vectorstore = Chroma(persist_directory=vectorstore_path, embedding_function=embedding_model)\n",
    "\n",
    "# Initialize LLM\n",
    "llm = OpenAI(model=\"gpt-4\", temperature=0.5)\n",
    "\n",
    "# Performance log file\n",
    "log_file = \"performance_logs.csv\"\n",
    "\n",
    "# Function to log performance metrics\n",
    "def log_performance(query, retrieval_time, embedding_time, generation_time, total_time):\n",
    "    cpu_usage = psutil.cpu_percent(interval=1)\n",
    "    memory_info = psutil.virtual_memory()\n",
    "    ram_usage = memory_info.percent\n",
    "    \n",
    "    log_data = {\n",
    "        \"query\": query,\n",
    "        \"retrieval_time\": retrieval_time,\n",
    "        \"embedding_time\": embedding_time,\n",
    "        \"generation_time\": generation_time,\n",
    "        \"total_time\": total_time,\n",
    "        \"cpu_usage\": cpu_usage,\n",
    "        \"ram_usage\": ram_usage\n",
    "    }\n",
    "    \n",
    "    df = pd.DataFrame([log_data])\n",
    "    df.to_csv(log_file, mode=\"a\", header=False, index=False)\n",
    "    print(f\"Logged performance for query: {query}\")\n",
    "\n",
    "# Example query for testing\n",
    "query = \"What are the most famous landmarks in Puerto Rico?\"\n",
    "\n",
    "# Measure embedding time\n",
    "start_embedding = time.time()\n",
    "query_embedding = embedding_model.embed_query(query)\n",
    "embedding_time = time.time() - start_embedding\n",
    "\n",
    "# Measure retrieval time\n",
    "start_retrieval = time.time()\n",
    "retrieved_docs = vectorstore.similarity_search(query, k=5)\n",
    "retrieval_time = time.time() - start_retrieval\n",
    "\n",
    "# Measure response generation time\n",
    "start_generation = time.time()\n",
    "response = llm.generate(query, retrieved_docs)\n",
    "generation_time = time.time() - start_generation\n",
    "\n",
    "# Measure total pipeline time\n",
    "total_time = embedding_time + retrieval_time + generation_time\n",
    "\n",
    "# Log performance metrics\n",
    "log_performance(query, retrieval_time, embedding_time, generation_time, total_time)\n",
    "\n",
    "# Display response\n",
    "print(\"Response:\")\n",
    "print(response)"
   ]
  },
  {
   "cell_type": "markdown",
   "metadata": {},
   "source": [
    "# **RAG - Landmarks: Retreival Performance Test and Metrics**"
   ]
  },
  {
   "cell_type": "code",
   "execution_count": null,
   "metadata": {},
   "outputs": [],
   "source": [
    "#!pip install matplotlib"
   ]
  },
  {
   "cell_type": "code",
   "execution_count": null,
   "metadata": {},
   "outputs": [],
   "source": [
    "#!pip install nltk"
   ]
  },
  {
   "cell_type": "code",
   "execution_count": null,
   "metadata": {},
   "outputs": [],
   "source": [
    "#!pip install rouge"
   ]
  },
  {
   "cell_type": "code",
   "execution_count": 10,
   "metadata": {},
   "outputs": [],
   "source": [
    "import os\n",
    "import json\n",
    "import time\n",
    "import psutil\n",
    "import chromadb\n",
    "import matplotlib.pyplot as plt\n",
    "from langchain.vectorstores import Chroma\n",
    "from langchain_openai import OpenAIEmbeddings\n",
    "from nltk.translate.bleu_score import sentence_bleu\n",
    "from rouge import Rouge\n",
    "from nltk.translate.meteor_score import meteor_score\n",
    "from nltk.tokenize import word_tokenize"
   ]
  },
  {
   "cell_type": "code",
   "execution_count": 11,
   "metadata": {},
   "outputs": [
    {
     "name": "stderr",
     "output_type": "stream",
     "text": [
      "c:\\Users\\larry\\anaconda3\\envs\\travel2pr_ai\\lib\\site-packages\\nltk\\translate\\bleu_score.py:577: UserWarning: \n",
      "The hypothesis contains 0 counts of 3-gram overlaps.\n",
      "Therefore the BLEU score evaluates to 0, independently of\n",
      "how many N-gram overlaps of lower order it contains.\n",
      "Consider using lower n-gram order or use SmoothingFunction()\n",
      "  warnings.warn(_msg)\n",
      "c:\\Users\\larry\\anaconda3\\envs\\travel2pr_ai\\lib\\site-packages\\nltk\\translate\\bleu_score.py:577: UserWarning: \n",
      "The hypothesis contains 0 counts of 4-gram overlaps.\n",
      "Therefore the BLEU score evaluates to 0, independently of\n",
      "how many N-gram overlaps of lower order it contains.\n",
      "Consider using lower n-gram order or use SmoothingFunction()\n",
      "  warnings.warn(_msg)\n"
     ]
    },
    {
     "name": "stdout",
     "output_type": "stream",
     "text": [
      "RAG evaluation completed. Results saved to C:\\Users\\larry\\OneDrive\\Documents\\GitHub\\project-aieng-interactive-travel-planner\\RAG Tests\\lm_test01\\rag_evaluation_results.json\n"
     ]
    },
    {
     "data": {
      "image/png": "[encoded data removed]",
      "text/plain": [
       "<Figure size 1000x500 with 1 Axes>"
      ]
     },
     "metadata": {},
     "output_type": "display_data"
    },
    {
     "data": {
      "image/png": "[encoded data removed]",
      "text/plain": [
       "<Figure size 1000x500 with 1 Axes>"
      ]
     },
     "metadata": {},
     "output_type": "display_data"
    }
   ],
   "source": [
    "# Set paths\n",
    "VECTORSTORE_PATH = r\"C:\\chromadb\\landmarks\"\n",
    "TEST_SET_PATH = r\"C:\\Users\\larry\\OneDrive\\Documents\\GitHub\\project-aieng-interactive-travel-planner\\RAG Tests\\lm_test01\\rag_test_queries.json\"\n",
    "RESULTS_OUTPUT_PATH = r\"C:\\Users\\larry\\OneDrive\\Documents\\GitHub\\project-aieng-interactive-travel-planner\\RAG Tests\\lm_test01\\rag_evaluation_results.json\"\n",
    "\n",
    "# Load embeddings & vectorstore\n",
    "embeddings = OpenAIEmbeddings()\n",
    "vectorstore = Chroma(persist_directory=VECTORSTORE_PATH, embedding_function=embeddings)\n",
    "\n",
    "# Load test queries\n",
    "with open(TEST_SET_PATH, \"r\", encoding=\"utf-8\") as f:\n",
    "    test_queries = json.load(f)\n",
    "\n",
    "# Initialize performance log\n",
    "evaluation_results = []\n",
    "\n",
    "def measure_cpu():\n",
    "    \"\"\"Returns CPU usage as a percentage.\"\"\"\n",
    "    return psutil.cpu_percent(interval=1)\n",
    "\n",
    "def evaluate_retrieval(query):\n",
    "    \"\"\"Runs the query, retrieves documents, measures similarity, and evaluates the response.\"\"\"\n",
    "    start_time = time.time()\n",
    "    cpu_before = measure_cpu()\n",
    "\n",
    "    # Run retrieval\n",
    "    docs = vectorstore.similarity_search(query, k=3)  # Using top-k = 3\n",
    "\n",
    "    cpu_after = measure_cpu()\n",
    "    latency = time.time() - start_time\n",
    "\n",
    "    # Extract retrieved texts\n",
    "    retrieved_texts = [doc.page_content for doc in docs]\n",
    "    retrieved_titles = [doc.metadata.get(\"title\", \"Unknown\") for doc in docs]\n",
    "\n",
    "    return retrieved_texts, retrieved_titles, cpu_before, cpu_after, latency\n",
    "\n",
    "# Initialize evaluation metrics\n",
    "rouge = Rouge()\n",
    "rouge_scores, meteor_scores, bleu_scores = [], [], []\n",
    "\n",
    "# Run evaluation on all queries\n",
    "for entry in test_queries:\n",
    "    query = entry[\"query\"]\n",
    "    expected_answers = entry[\"expected_answers\"]\n",
    "\n",
    "    # Retrieve the text using the RAG retriever\n",
    "    retrieved_texts, retrieved_titles, cpu_before, cpu_after, latency = evaluate_retrieval(query)\n",
    "\n",
    "    # Tokenize the expected answers and retrieved texts for METEOR\n",
    "    expected_tokens = [word_tokenize(answer) for answer in expected_answers]\n",
    "    retrieved_tokens = word_tokenize(\" \".join(retrieved_texts))\n",
    "\n",
    "    # Calculate evaluation metrics\n",
    "    rouge_score = rouge.get_scores(\" \".join(retrieved_texts), \" \".join(expected_answers))[0][\"rouge-l\"][\"f\"]\n",
    "    meteor_score_value = meteor_score(expected_tokens, retrieved_tokens)\n",
    "    bleu_score = sentence_bleu([answer.split() for answer in expected_answers], \" \".join(retrieved_texts).split())\n",
    "\n",
    "    rouge_scores.append(rouge_score)\n",
    "    meteor_scores.append(meteor_score_value)\n",
    "    bleu_scores.append(bleu_score)\n",
    "\n",
    "    avg_rouge = sum(rouge_scores) / len(rouge_scores)\n",
    "    avg_meteor = sum(meteor_scores) / len(meteor_scores)\n",
    "    avg_bleu = sum(bleu_scores) / len(bleu_scores)\n",
    "\n",
    "    # Log results\n",
    "    result_entry = {\n",
    "        \"query\": query,\n",
    "        \"expected_answers\": expected_answers,\n",
    "        \"retrieved_texts\": retrieved_texts,\n",
    "        \"retrieved_titles\": retrieved_titles,\n",
    "        \"retrieval_scores\": {\n",
    "            \"ROUGE-L\": avg_rouge,\n",
    "            \"METEOR\": avg_meteor,\n",
    "            \"BLEU\": avg_bleu\n",
    "        },\n",
    "        \"cpu_usage\": f\"{cpu_before}% -> {cpu_after}%\",\n",
    "        \"latency\": f\"{latency:.4f} seconds\"\n",
    "    }\n",
    "    evaluation_results.append(result_entry)\n",
    "\n",
    "# Save results\n",
    "with open(RESULTS_OUTPUT_PATH, \"w\", encoding=\"utf-8\") as f:\n",
    "    json.dump(evaluation_results, f, indent=4, ensure_ascii=False)\n",
    "\n",
    "print(f\"RAG evaluation completed. Results saved to {RESULTS_OUTPUT_PATH}\")\n",
    "\n",
    "# Visualization (CPU vs. Latency)\n",
    "cpu_usage_data = [float(entry[\"cpu_usage\"].split(\"->\")[1].strip()[:-1]) for entry in evaluation_results]\n",
    "latency_data = [float(entry[\"latency\"].split()[0]) for entry in evaluation_results]\n",
    "\n",
    "plt.figure(figsize=(10, 5))\n",
    "plt.plot(cpu_usage_data, label=\"CPU Usage (%)\", marker=\"o\", linestyle=\"--\")\n",
    "plt.plot(latency_data, label=\"Latency (seconds)\", marker=\"s\", linestyle=\"-\")\n",
    "plt.xlabel(\"Test Query\")\n",
    "plt.ylabel(\"Value\")\n",
    "plt.title(\"CPU Usage vs. Latency per Query\")\n",
    "plt.legend()\n",
    "plt.grid(True)\n",
    "plt.show()\n",
    "\n",
    "# Visualization (Retrieval Scores)\n",
    "bleu_scores = [entry[\"retrieval_scores\"][\"BLEU\"] for entry in evaluation_results]\n",
    "rouge_scores = [entry[\"retrieval_scores\"][\"ROUGE-L\"] for entry in evaluation_results]\n",
    "meteor_scores = [entry[\"retrieval_scores\"][\"METEOR\"] for entry in evaluation_results]\n",
    "\n",
    "plt.figure(figsize=(10, 5))\n",
    "plt.bar(range(len(bleu_scores)), bleu_scores, color=\"blue\", label=\"BLEU\")\n",
    "plt.bar(range(len(rouge_scores)), rouge_scores, color=\"red\", label=\"ROUGE-L\", alpha=0.7)\n",
    "plt.bar(range(len(meteor_scores)), meteor_scores, color=\"green\", label=\"METEOR\", alpha=0.7)\n",
    "plt.xlabel(\"Test Query\")\n",
    "plt.ylabel(\"Score\")\n",
    "plt.title(\"Retrieval Quality Metrics\")\n",
    "plt.legend()\n",
    "plt.show()"
   ]
  },
  {
   "cell_type": "code",
   "execution_count": null,
   "metadata": {},
   "outputs": [],
   "source": []
  }
 ],
 "metadata": {
  "kernelspec": {
   "display_name": "travel2pr_ai",
   "language": "python",
   "name": "python3"
  },
  "language_info": {
   "codemirror_mode": {
    "name": "ipython",
    "version": 3
   },
   "file_extension": ".py",
   "mimetype": "text/x-python",
   "name": "python",
   "nbconvert_exporter": "python",
   "pygments_lexer": "ipython3",
   "version": "3.10.16"
  }
 },
 "nbformat": 4,
 "nbformat_minor": 2
}
