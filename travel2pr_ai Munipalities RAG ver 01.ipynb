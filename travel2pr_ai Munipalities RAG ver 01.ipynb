{
 "cells": [
  {
   "cell_type": "code",
   "execution_count": 16,
   "metadata": {},
   "outputs": [],
   "source": [
    "import os\n",
    "import json\n",
    "import chromadb\n",
    "from langchain_openai import OpenAIEmbeddings\n",
    "from langchain_chroma import Chroma\n",
    "from langchain.schema import Document\n",
    "from chromadb.config import Settings"
   ]
  },
  {
   "cell_type": "code",
   "execution_count": 17,
   "metadata": {},
   "outputs": [],
   "source": [
    "import os\n",
    "from dotenv import load_dotenv, find_dotenv\n",
    "_ = load_dotenv(find_dotenv())\n",
    "\n",
    "OPENAI_API_KEY  = os.getenv('OPENAI_API_KEY')"
   ]
  },
  {
   "cell_type": "markdown",
   "metadata": {},
   "source": [
    "*Step 1: Release the database with the following code*"
   ]
  },
  {
   "cell_type": "code",
   "execution_count": 1,
   "metadata": {},
   "outputs": [
    {
     "data": {
      "text/plain": [
       "0"
      ]
     },
     "execution_count": 1,
     "metadata": {},
     "output_type": "execute_result"
    }
   ],
   "source": [
    "vectorstore = None  # Release the vector database\n",
    "import gc\n",
    "gc.collect()"
   ]
  },
  {
   "cell_type": "markdown",
   "metadata": {},
   "source": [
    "*Step 2: Restart the Kernel associated to the use of the Vectorstore database*\n",
    "\n",
    "*Step 3: Delete the vectorstore by running the following code*"
   ]
  },
  {
   "cell_type": "code",
   "execution_count": null,
   "metadata": {},
   "outputs": [
    {
     "name": "stdout",
     "output_type": "stream",
     "text": [
      "Previous RAG deleted successfully.\n"
     ]
    }
   ],
   "source": [
    "import os\n",
    "import shutil\n",
    "\n",
    "VECTORSTORE_PATH = r\"C:\\Users\\larry\\chromadb_store\\municipalities_db\"  # Update to the actual path\n",
    "\n",
    "# Delete the existing database folder\n",
    "if os.path.exists(VECTORSTORE_PATH):\n",
    "    shutil.rmtree(VECTORSTORE_PATH)\n",
    "    print(\"Previous RAG deleted successfully.\")\n",
    "else:\n",
    "    print(\"No existing RAG found. Proceeding with a fresh build.\")"
   ]
  },
  {
   "cell_type": "markdown",
   "metadata": {},
   "source": [
    "# **Step 1: Data pre-treatment and Loading**"
   ]
  },
  {
   "cell_type": "code",
   "execution_count": 2,
   "metadata": {},
   "outputs": [
    {
     "name": "stdout",
     "output_type": "stream",
     "text": [
      "          title            coordinates  \\\n",
      "0      Adjuntas  [18.16278, -66.72222]   \n",
      "1        Aguada  [18.37944, -67.18833]   \n",
      "2     Aguadilla     [18.43, -67.15444]   \n",
      "3  Aguas Buenas  [18.25694, -66.10306]   \n",
      "4      Aibonito     [18.14, -66.26611]   \n",
      "\n",
      "                                      relevant_links  \\\n",
      "0  [https://en.wikipedia.org/w/index.php?title=Ad...   \n",
      "1  [https://en.wikivoyage.org/wiki/Aguada, https:...   \n",
      "2  [https://es.wikipedia.org/wiki/Aguadilla, http...   \n",
      "3  [https://en.wikivoyage.org/wiki/Aguas_Buenas, ...   \n",
      "4  [https://en.wikivoyage.org/wiki/Aibonito, http...   \n",
      "\n",
      "                                             content  \n",
      "0  Contents\\nAdjuntas, Puerto Rico\\n\\n\\nAdjuntas ...  \n",
      "1  Contents\\nAguada, Puerto Rico\\n\\n\\nAguada , or...  \n",
      "2  Contents\\nAguadilla, Puerto Rico\\n\\n\\nAguadill...  \n",
      "3  Contents\\nAguas Buenas, Puerto Rico\\n\\n\\nAguas...  \n",
      "4  Contents\\nAibonito, Puerto Rico\\n\\n\\nAibonito ...  \n",
      "Shape of NumPy array: (78, 4)\n"
     ]
    }
   ],
   "source": [
    "import os\n",
    "import json\n",
    "import pandas as pd\n",
    "import numpy as np\n",
    "\n",
    "# Ruta donde están los archivos .txt de municipios\n",
    "municipalities_folder = r\"C:\\Users\\larry\\OneDrive\\Documents\\GitHub\\project-aieng-interactive-travel-planner\\data\\municipalities_cleaning\\step3_final_cleaned_data\"\n",
    "\n",
    "# Lista para almacenar la información procesada\n",
    "processed_municipalities = []\n",
    "\n",
    "# Recorrer cada archivo en el folder de municipios\n",
    "for filename in os.listdir(municipalities_folder):\n",
    "    if filename.endswith(\".txt\"):\n",
    "        file_path = os.path.join(municipalities_folder, filename)\n",
    "        \n",
    "        # Leer el archivo JSON\n",
    "        with open(file_path, \"r\", encoding=\"utf-8\") as f:\n",
    "            data = json.load(f)\n",
    "        \n",
    "        # Extraer los valores de interés\n",
    "        geo_metadata = data.get(\"geo_metadata\", {})\n",
    "        \n",
    "        processed_entry = {\n",
    "            \"title\": geo_metadata.get(\"title\", \"Unknown\"),  # Nombre del municipio\n",
    "            \"coordinates\": geo_metadata.get(\"coordinates\", \"N/A\"),  # Coordenadas geográficas\n",
    "            \"relevant_links\": data.get(\"relevant_links\", []),  # Enlaces relevantes\n",
    "            \"content\": data.get(\"main_content\", \"\")  # Contenido principal\n",
    "        }\n",
    "        \n",
    "        processed_municipalities.append(processed_entry)\n",
    "\n",
    "# Convertir a DataFrame\n",
    "df_municipalities = pd.DataFrame(processed_municipalities)\n",
    "\n",
    "# Mostrar información\n",
    "print(df_municipalities.head())  # Vista previa de los datos\n",
    "\n",
    "# Convertir a un NumPy array si es necesario\n",
    "municipalities_array = df_municipalities.to_numpy()\n",
    "print(f\"Shape of NumPy array: {municipalities_array.shape}\")  # Dimensiones del array\n"
   ]
  },
  {
   "cell_type": "code",
   "execution_count": 3,
   "metadata": {},
   "outputs": [
    {
     "name": "stdout",
     "output_type": "stream",
     "text": [
      "<class 'pandas.core.frame.DataFrame'>\n",
      "RangeIndex: 78 entries, 0 to 77\n",
      "Data columns (total 4 columns):\n",
      " #   Column          Non-Null Count  Dtype \n",
      "---  ------          --------------  ----- \n",
      " 0   title           78 non-null     object\n",
      " 1   coordinates     77 non-null     object\n",
      " 2   relevant_links  78 non-null     object\n",
      " 3   content         78 non-null     object\n",
      "dtypes: object(4)\n",
      "memory usage: 2.6+ KB\n"
     ]
    }
   ],
   "source": [
    "df_municipalities.info()"
   ]
  },
  {
   "cell_type": "code",
   "execution_count": 5,
   "metadata": {},
   "outputs": [
    {
     "name": "stdout",
     "output_type": "stream",
     "text": [
      "Total landmarks processed: 78\n",
      "Average document length: 2048.62 words\n",
      "Max length: 11387 words | Min length: 641 words\n",
      "Standard deviation of lengths: 1792.54\n"
     ]
    }
   ],
   "source": [
    "# Statistics on the document lengths for evaluation and decision-making on the chunking strategy\n",
    "import numpy as np\n",
    "\n",
    "# Compute document lengths again\n",
    "lengths = [len(doc.split()) for doc in df_municipalities[\"content\"]]\n",
    "\n",
    "# Compute statistics\n",
    "avg_length = np.mean(lengths)\n",
    "max_length = np.max(lengths)\n",
    "min_length = np.min(lengths)\n",
    "std_dev = np.std(lengths)\n",
    "\n",
    "print(f\"Total landmarks processed: {len(df_municipalities)}\")\n",
    "print(f\"Average document length: {avg_length:.2f} words\")\n",
    "print(f\"Max length: {max_length} words | Min length: {min_length} words\")\n",
    "print(f\"Standard deviation of lengths: {std_dev:.2f}\")\n"
   ]
  },
  {
   "cell_type": "code",
   "execution_count": 7,
   "metadata": {},
   "outputs": [
    {
     "name": "stdout",
     "output_type": "stream",
     "text": [
      "Sample Processed Docs: [Document(metadata={'title': 'Adjuntas', 'coordinates': '18.16278, -66.72222', 'relevant_links': 'https://en.wikipedia.org/w/index.php?title=Adjuntas,_Puerto_Rico&oldid=1248121926, https://en.wikivoyage.org/wiki/Adjuntas, https://es.wikipedia.org/wiki/Adjuntas, https://geohack.toolforge.org/geohack.php?pagename=Adjuntas,_Puerto_Rico&params=18_09_46_N_66_43_20_W_region:US-PR_type:city(18020), https://en.wikipedia.org/wiki/Adjuntas,_Puerto_Rico'}, page_content='Contents\\nAdjuntas, Puerto Rico\\n\\\\n\\nAdjuntas  is a small mountainside town and municipality in Puerto Rico located central midwestern portion of the island on the Cordillera Central , north of Yauco , Guayanilla , and Peñuelas ; southeast of Utuado ; east of Lares and Yauco; and northwest of Ponce . Adjuntas is spread over 16 barrios and Adjuntas Pueblo (the downtown area and the administrative center of the city). Adjuntas is about two hours by car westward from the capital, San Juan .\\\\n\\nAdjuntas is nicknamed \"the Switzerland of Puerto Rico\", because of its relatively chilly weather. Many Puerto Rican mountain towns have cooler weather than the rest of the island; Adjuntas is no exception: the average yearly weather is 70 °F (21 °C ) (High: 83\\xa0°F/28\\xa0°C; Low: 58\\xa0°F/14\\xa0°C).  Puerto Rico\\\\\\'s lowest temperature were recorded in Adjuntas at 38\\xa0°F in 2018.  Its mild climate attracts a good number of island tourists during the summer months. The town has a small hotel named Monte Rio and a good-sized parador , or country inn, called Villa Sotomayor.  \\\\n\\nAdjuntas\\\\\\' ZIP Code, 00601, is the lowest standard ZIP code in the United States ZIP code system .\\\\n\\nEtymology and nicknames\\nThe name Adjuntas literally translates to \"attached\" in Spanish. The name is most likely a shortening of \" tierras adjuntas a Coamo \" or \\\\\\'lands attached (or in proximity ) to Coamo\" as the territory was originally part of the lands of Villa de San Blas de Illescas , one of the oldest settlements in Puerto Rico , which the municipality gained autonomy from in 1739.  \\\\n\\nThe municipality has received numerous nicknames throughout its history, such as La Ciudad del Gigante Dormido , Spanish for \"city of the sleeping giant\" after the mountain that overlooks the town ; La Suiza de Puerto Rico (\"Puerto Rico\\\\\\'s Switzerland \") due to its relative cool temperatures and mountainous terrain; and La Tierra de los Lagos (\"Land of the Lakes\") after the many natural pools or charcas that are formed by the numerous rivers that flow through the municipality.\\\\n\\nHistory\\nAlthough there are petroglyphs and traces of Taíno people in Adjuntas, there is no proof that the region was dominated by any specific cacique . Nearby caciques like Guarionex and Urayoán could have had some control over the area.\\\\n\\nAccording to historian Aurelio Tió, during the Spanish colonization of Puerto Rico in the 16th century, it is believed that a Spanish interpreter called Juan González settled in the region. Also, historian Cayetano Coll y Toste wrote a legend about Spanish people looking for gold in the region of Adjuntas.\\\\n\\nAs colonization progressed, Adjuntas became part of the San Blas de Illescas (Coamo village) ,  which was founded in 1579 and became the most important settlement in the south. It is believed that the name \"Adjuntas\" derives from the term of \"being close\" to Coamo. As population shifted to Ponce , Adjuntas became more linked to that town, and then to Utuado , being a barrio of this municipality in 1739.\\\\n\\nWith 20 families established in the region, the residents of Adjuntas asked for the settlement to be officially recognized. The town of Adjuntas was then founded on August 11, 1815, with Diego Maldonado being elected as its representative. A city hall and public square were built shortly after.  \\\\n\\nAdjuntas was one of the main cities where the Anusim , Maranos , and other Sephardi Jews settled in Puerto Rico.  \\\\n\\nAfter the mid-19th century, Adjuntas welcomed many immigrants from the Mediterranean islands Corsica and Majorca . Some of them established coffee plantations . During the last decades of the 19th century, the coffee produced in Adjuntas was exported to Europe, United States and even the Vatican .  \\\\n\\nAdjuntas was proclaimed a \"villa\", or a first order municipality, by the Spanish Government Monarchy in 1894.  Several years after, the town was occupied by the United States Army forces during the Spanish-American War of 1898 and was visited by President Theodore Roosevelt in 1906.  \\\\n\\nThe discovery of rich deposits of copper, gold and other minerals during the 1960s motivated some local community and environmental leaders to oppose the mining. Casa Pueblo , a local community organization settled in Adjuntas, opposed to the mining and advocates for the preservation of natural resources in Puerto Rico.    \\\\n\\nIn 1992, Southern Gold Resources , a US company, was granted permission to explore for gold in Adjuntas and Utuado, Puerto Rico.  \\\\n\\nHurricane Maria on September 20, 2017, triggered numerous landslides all across Adjuntas, with its winds and significant amount of rain, 18.38 inches in Adjuntas.   The hurricane winds and rain damaged infrastructure and the electrical system of Adjuntas collapsed leaving its over 18,000 residents with no electrical power. PR-10 which connects Adjuntas to Utuado collapsed by 9 feet, and according to the mayor of Adjuntas, 1500 homes were completely destroyed. Nearly 62% of the residents of Adjuntas were already living below the poverty level when Hurricane María hit Puerto Rico.  The municipality was also affected by the 2020 earthquakes which caused landslides and power outages in the region.  \\\\n\\nEl Gigante Dormido (\"the sleeping giant\") is a mountain (Cerro El Gigante) and panoramic view that resembles the shape of a man lying on his back, the profile of his face is reflected in the mountain ridges of Adjuntas. Legend says that many years ago a sole resident lived in the region, and he was a giant. The people wanted to live in those fertile lands, but they would observe the giant stretching his arms widely over the area, even peeping his head over the mountain peaks. A witch learned that to kill the giant she would have to hit him in his right eye with a poisoned arrow, which she did one day as he stood up. Being hit in the eye, the giant leapt in pain and fell flat on his back but not before punching the ground hard and that formed an area from where water foamed up. Eventually, the giant on his back became petrified in that position forming the panorama of the profile of his face.  \\\\n\\nGeography\\nThe terrain of Adjuntas is very mountainous due to its location in the Cordillera Central . It borders Utuado in the north and east, Lares and Yauco to the west, and Guayanilla , Peñuelas , and Ponce to the south.  \\\\n\\nHistorian Pedro Tomás de Córdova described the terrain as \"high, and mountainous, and very healthy\". He also praised the quality of the terrain for agriculture.  Adjuntas\\\\\\' highest peak is Monte Guilarte (3,773\\xa0ft; 1,150\\xa0m),  followed by Vaquiñas (3,346\\xa0ft; 1,020\\xa0m). Guilarte itself is the sixth highest peak in Puerto Rico and is located in Guilarte State Forest . Córdova also mentioned the water features, describing 26 rivers and 16 creeks that ran through the region.\\\\n\\nThe following rivers flow through Adjuntas: Río Cidra , Río Corcho , Rio de la Ciénaga ,  Río Garzas , Río Guilarte , Río Limaní , Río Saltillo , Río Toro , Río Vacas , and Río Yahuecas . There aren\\\\\\'t any beaches in Adjuntas given that it is landlocked.  \\\\n\\nThe municipality of Adjuntas is made up of 17 barrios , including the barrio-pueblo.     \\\\n\\nBarrios (which are like minor civil divisions )  and subbarrios,  are further subdivided into smaller areas called sectores ( sectors in English). The types of sectores may vary, from normally sector to urbanización to reparto to barriada to residencial , among others.    \\\\n\\nAdjuntas features a tropical rainforest climate that borders on a subtropical highland climate . While the town technically features a tropical rainforest climate, due to its high elevation, the climate is noticeably cooler than the norm for this climate category. Summers are warm (83°-85\\xa0°F) in the daytime and mild at nighttime (60°-63\\xa0°F).\\\\nMeanwhile, winters are moderately warm with cool temperatures at night. During daytime, high temperatures are around 79\\xa0°F (26\\xa0°C) in the town and 68\\xa0°F (20\\xa0°C) in the nearby mountains. Winter night temperatures are between in the 55\\xa0°F (13\\xa0°C) and 60\\xa0°F (16\\xa0°C) range, but after cold fronts temperatures can drop down to 45\\xa0°F (7\\xa0°C).  Adjuntas\\\\\\' summer climate is comparable to higher altitude locations near the equator (albeit with warmer winters), such as Medellin , while its winters are comparable to higher latitude locations at the limit of the tropics such as West Palm Beach .\\\\n\\nDemographics\\nIn 2020, Adjuntas had a population of 18,020.   \\\\n\\n80% of the per capita income of Adjuntas is a product of agriculture. In 2010, unemployment hit 20.2%. According to mayor, Jaime Barlucea , it decreased to 18.7 in 2011. However, according to the Department of Employment of Puerto Rico, it increased to 21.3.  \\\\n\\nThe municipality of Adjuntas previously formed the Adjuntas Micropolitan Statistical Area , and it has been included in the Ponce Metropolitan Statistical Area since the 2020 US Census.  \\\\n\\nComunidades Especiales de Puerto Rico (Special Communities of Puerto Rico) are marginalized communities whose citizens are experiencing a certain amount of social exclusion . A map shows these communities occur in nearly every municipality of the commonwealth. Of the 742 places that were on the list in 2014, the following barrios, communities, sectors, or neighborhoods were in Adjuntas: Acueducto neighborhood, Calle del Agua, Guayo barrio, Rullán neighborhood, Saltillo Vaca, Tanamá barrio, and Yahuecas barrio.  \\\\n\\nEconomy\\nSince its foundation in the 19th century, the production of coffee, sugarcane , small fruits, and cattle have formed the foundation of the economy of Adjuntas. During the middle of the 20th century, however, the production of sugar declined with the arrival of manufacturing industries.  \\\\n\\nAdjuntas is still the main producer of coffee on the island.    Other products produced in Adjuntas are tropical crops such as bananas, citron and peaches .\\\\n\\nAfter the economic hardships caused by Hurricane Maria in 2017, some economic gains were being made by a number of women working in agriculture in Adjuntas.  \\\\n\\nDuring the middle of the 20th century, some manufacturing industries established themselves in town as part of Operation Bootstrap . However, as of 2012, most of them have already closed. One of the last manufacturing companies in town, a military uniforms company, closed in March 2012.  \\\\n\\nAlthough tourism hasn\\\\\\'t been an integral part of the economy of Adjuntas, according to historic records, it has been present since the 19th century. Historian Lidio Cruz Monclóva noted that around 1871, some doctors requested patients to travel to Adjuntas to stay in a hotel called \"La Adjunteña\". The hotel was the property of C.L. Ginestre, and served both tourists and the sick. Cruz noted that doctors believed the colder temperatures of the town were beneficial to health.  \\\\n\\nIn 2018, Adjuntas received approximately 700 tourists on weekends, according to mayor Jaime Barlucea .  Most of them want to visit the haciendas established there during past centuries. Some of them are: Hacienda Don Juan,  Hacienda Bareal, Hacienda El Muerto, Hacienda Arbela, and Hacienda Pietri. Other landmarks are Monte Guilarte , and the Inabón waterfall .\\\\n\\nAnother known tourist stop in Adjuntas is Casa Pueblo , a local museum and cultural institution founded by a group of activists that fought against the copper mine exploitation of the area for decades. Casa Pueblo is responsible for many environmental projects, namely the preservation of hundreds of acres of woods and bodies of water.\\\\n\\nHowever, some residents and businesspeople from Adjuntas maintain that the government has not taken advantage of the many tourist attractions in town, which include three forests , waterfalls , lakes, and many renowned restaurants.  One of the projects that has received media coverage is the Castillo de los Niños , built during the mayoralty of Barlucea. Castillo de los Niños is a recreational park resembling a castle, with gazebos .   \\\\n\\nVilla Sotomayor is a parador , featuring ecotourism. Villa Sotomayor features food prepared with local ingredients, from a nearby estate Hacienda Nur .  \\\\n\\nIn early 2021, in alliance with neighboring Lares , Adjuntas launched agri-tourism for tourists to visit haciendas where coffee is grown and processed.  \\\\n\\nThere are two places in Adjuntas recognized for their historic significance: Las Cabañas Bridge , a one-lane bridge made of steel and concrete, which was built in 1919,  and Quinta Vendrell , a country house built in 1918.  The Washington Irving Grade School was also added to the US National Register of Historic Places in 2015.  \\\\n\\nTo stimulate local tourism during the COVID-19 pandemic in Puerto Rico , the Puerto Rico Tourism Company launched the Voy Turistiendo (I\\\\\\'m Touring) campaign in 2021. The campaign featured a passport book with a page for each municipality. The Voy Turisteando Adjuntas passport page lists the Hacienda Tres Angeles (for agritourism ), the Bosque Guilarte , and Lago Garza as places of interest for locals.  \\\\n\\nHuman resources\\nIn all of the island\\\\\\'s municipalities, public education is overseen by the Puerto Rico Department of Education . When Puerto Rico was ceded by Spain in the aftermath of the Spanish-American War under the terms of the Treaty of Paris of 1898 and became a territory of the United States, there were already six public schools established in Adjuntas. Historian Cayetano Coll y Toste offered a detailed account of each of them, including the number of students, which at the time totaled 402.  \\\\n\\nAs of 2018-2019 the following public schools were operational in Adjuntas:   \\\\n\\nAlthough there are no hospitals in Adjuntas, the town does have a small treatment and diagnostic center located in Adjuntas Pueblo. Also, Castañer Hospital, which is located on the border between Adjuntas, Lares , and Maricao , offers services to the municipality.  \\\\n\\nAccording to sources, there has not been a murder in Adjuntas since 2009.  However, burglary and theft have increased. Some residents attribute the rise in crime to unemployment and the lack of activities for the youth.  \\\\n\\nCulture\\nAdjuntas celebrates its patron saint festival in late July / early August. The Fiestas Patronales de San Joaquin & Santa Ana is a religious and cultural celebration in honor of Saint Joachim and Saint Anne . The festival generally features parades, games, artisans, amusement rides, regional food, and live entertainment.  \\\\n\\nOther festivals and events celebrated in Adjuntas include:\\\\n  \\\\n\\nThe town has a professional volleyball team called Gigantes de Adjuntas that plays on the LVSM in Puerto Rico.   \\\\n\\nTransportation\\nIn 1874, General José Laureano Sanz, Governor of Puerto Rico , sponsored a road from Ponce to Arecibo , going across Adjuntas and Utuado . In 1885, it is believed that the road was under construction.  \\\\n\\nNowadays, the main road to Adjuntas is PR-10 , that connects the cities of Ponce in the south and Arecibo in the north, going across Adjuntas in the center. Before the PR-10 was built, roads like the PR-123 , and other small roads were used to reach town.\\\\n\\nThere is also a small airport in Adjuntas that caters to private airplanes.  \\\\n\\nAdjuntas has 30 bridges.  Built in 1919, Las Cabañas Bridge , made of steel and concrete is a one-lane, historic bridge which remains in operation.  \\\\n\\nGovernment\\nAll municipalities in Puerto Rico are administered by a mayor, elected every four years. As of 2021, the mayor of Adjuntas is José Hiram Soto Rivera, of the Popular Democratic Party (PPD) .  The mayor before him was Jaime Barlucea.  Barlucea has been reelected three times since ( 2008 , 2012 , and 2016 ).  \\\\n\\nThe city belongs to the Puerto Rico Senatorial district V , which is represented by two senators. In 2016, Luis A. Berdiel Rivera and Nelson Cruz, from the New Progressive Party , were elected as district senators.  \\\\n\\nSymbols\\nThe municipio has an official flag and coat of arms.  \\\\n\\nThe coat of arms of Adjuntas is divided in two. The left side features a shepherd\\\\\\'s staff crossed with a yarnwinder in a purple field. They symbolize the Old Testament patriarchs, representing Saint Joachim and Saint Anne , parents of the Virgin Mary . An eight-pointed star sits above them representing the Virgin.  \\\\n\\nThe right side of the coat of arms is divided in three fields. The upper and lower field have green crosses in white fields. The crosses, known as \" flory or fleury \" are also present in the symbols of Coamo , because of the relationship between both towns. Two bells lie in the middle field, also a representation of the name of \"Adjuntas\".\\\\n\\nTwo coffee branches surround the coat of arms, representing Adjuntas location and its importance in the coffee industry of the island. The castle at the top represents the title of village given to Adjuntas by Spain in 1894.  \\\\n\\nThe flag of Adjuntas has similar symbolisms. A white diagonal stripe divides the flag in two triangles. The upper one is purple, while the lower one is green. In the middle of each triangle lies a white \"cross fleury\". The white color symbolizes purity, while purple represents Saint Joachim \\\\\\'s cloth and green the nature of the town.  \\\\n\\nThe anthem of Adjuntas was written by José Nieves Pérez and is called \"Adjuntas, mi amor\".  \\\\n\\nAdjuntas has several nicknames. One is \" La ciudad del gigante dormido \" (\"The city of the sleeping giant\"). This is a reference to one of the mountains of the city, which is compared to a \"sleeping giant\".  Another nickname is \" La Suiza de Puerto Rico \" (\"The Switzerland of Puerto Rico\") which is a reference to Adjuntas\\\\\\' relatively low temperatures. Adjuntas has an average yearly weather of 70 degrees Fahrenheit .  Finally, Adjuntas is also called \" La tierra de lagos \" (\"The land of lakes\") because of its many lakes.  \\\\n\\nNotable Adjunteños\\nAmong the notable Adjunteños are the following:\\\\n\\nSee also\\nReferences\\nFurther reading\\nExternal links'), Document(metadata={'title': 'Aguada', 'coordinates': '18.37944, -67.18833', 'relevant_links': 'https://en.wikivoyage.org/wiki/Aguada, https://geohack.toolforge.org/geohack.php?pagename=Aguada,_Puerto_Rico&params=18_22_46_N_67_11_18_W_type:city_region:US-PR, https://en.wikipedia.org/w/index.php?title=Aguada,_Puerto_Rico&oldid=1248122471, https://es.wikipedia.org/wiki/Aguada_(Puerto_Rico), https://en.wikipedia.org/wiki/Aguada,_Puerto_Rico'}, page_content='Contents\\nAguada, Puerto Rico\\n\\\\n\\nAguada , originally San Francisco de Asís de la Aguada , is a town and municipality of Puerto Rico , located in the northwestern coastal valley region bordering the Atlantic Ocean, east of Rincón , south of Aguadilla , west of Moca ; and north of Añasco and Mayagüez . It is part of the Aguadilla-Isabela-San Sebastián Metropolitan Statistical Area . Aguada\\\\\\'s population is spread over 17 barrios and Aguada Pueblo (the downtown area and the administrative center of the city).\\\\n\\nEtymology and nicknames\\nThe name Aguada is a shortening of the town\\\\\\'s original name San Francisco de Asís de la Aguada. The word aguada literally translates to \"watery\" or \"watered down\" from Spanish, possibly a reference to the town\\\\\\'s strategic importance as a port in the Mona Passage and the Atlantic Ocean.\\\\n\\nThe municipality has many nicknames: La Villa de Sotomayor (\"Sotomayor\\\\\\'s Villa\") is a reference to one of the town\\\\\\'s Spanish founders, Cristóbal de Sotomayor; La Ciudad del Descubrimiento (\"City of the Discovery\") is a reference to the possibility that Christopher Columbus first landed in Puerto Rico at what is today the municipality\\\\\\'s territory; El Pueblo Playero translates to \"the beach town\" and La Ciudad del Vaticano (\"the Vatican \\\\\\'s City\") which references the town\\\\\\'s early importance for Catholicism in the island.  \\\\n\\nHistory\\nA Taíno settlement called Aymamón was located close to the Culebrinas River .   \\\\n\\nBahía de Aguada (Aguada Bay) in Aguada has historically been recognized as the location where Christopher Columbus first landed in Puerto Rico during his second voyage on 19 November 1493. However, it is believed by most historians that Bahía de Añasco (Añasco Bay) in the neighboring town of Añasco was the place of Columbus\\' first landing and stay of two days in Puerto Rico before continuing to La Navidad , first European settlement in the Americas , in Haiti in Hispaniola .    \\\\n\\nIn July 1510, Cristóbal de Sotomayor received control of the area from Juan Ponce de León and renamed the town Villa de Sotomayor (Sotomayor Village) .  However, in 1511 the settlement was attacked and burned by the local Taínos . That same year, the Spanish crown ordered a monastery be established in Puerto Rico, and the Ermita de Espinar was founded. The name of the area was then changed to San Francisco de Asís de la Aguada , since the friars were Franciscan . The monastery was finished in 1516. \\\\n\\nIn 1526, King Charles I of Spain officially founded the Aguada settlement. However, in 1529, Taínos attacked the monastery killing the friars and burning the settlement.  The Taínos , indigenous people of Puerto Rico, were believed to have practiced polytheism . As the Spanish began to colonize the Caribbean area, they wanted to convert the natives to Catholicism .  The Caribs destroyed a church of Franciscans in Aguada and killed five of its members in 1579.  \\\\n\\nStill, Aguada resurfaced and became a stopover point for ships on their way to Spain from South America.  On September 17, 1692, King Charles II of Spain emitted a Royal Decree declaring Aguada a \"village\" and assigning Captain Juan López de Segura as War Lieutenant and Ordinary Mayor of the Villa de San Francisco de Asís de la Aguada.  \\\\n\\nIn 1737, Philip V , King of Spain , declared that all mail en route to Venezuela and other South American countries from Puerto Rico should exit from Aguada\\\\\\'s ports, leading to the area\\\\\\'s economic growth. Also, an increase in population has been attributed to possible desertions from foreign merchant ships.  \\\\n\\nPuerto Rico was ceded by Spain in the aftermath of the Spanish-American War under the terms of the Treaty of Paris of 1898 and became an unincorporated territory of the United States. In 1899, the United States Department of War conducted its first census of Puerto Rico finding that the population of Aguada was 10,581.\\\\n\\nIn the early years of the 20th century, two disasters affected the town of Aguada. First, a huge fire in 1912 destroyed most of the town buildings, including the old city hall , which contained all the city archives. On October 11, 1918, at 10:14:42 local time an earthquake known as the San Fermín earthquake destroyed the church and other structures.  At Rio Culebrinas , 1000\\xa0kg blocks of limestone from the wrecked Columbus monument were carried inland to distances of 46-76 meters (151-249 feet) by waves 4.0\\xa0m (13.1\\xa0ft) high.  \\\\n\\nHurricane María on September 20, 2017, triggered numerous landslides in Aguada, with its strong winds and heavy rain.   Infrastructure and an estimated 8,000 homes in Aguada were damaged or destroyed. Two police officers died when they were caught in the flooded Culebrinas River .  \\\\n\\nOn July 16, 2023 a tornado touched down in Aguada, producing EF1 damage which included tearing a roof from a house and damage to power lines.  The city is notorious for stormy weather. \\\\n\\nEl Matador de Tiburones (The Aguada Shark Killer) is folklore that comes out of Aguada and was written around 1640. It tells of a young man who was accustomed to fighting sharks but was without his religious charm . When asked to demonstrate his shark-fighting capabilities to visiting Spanish dignitaries, he hesitated. All day and night he pondered whether he could fight a shark without his religious charm. Even though the Spaniards had increased their offer to 3 bars of gold the matador was hesitant. In the morning, as the shark came into the bay, the spectators who were gathered on the beach yelled in anticipation, and El Matador de Tiburones , as the young man was called, was unable to stop himself. He jumped into the open sea pursuing the shark and fought it with his bare hands. He was nearly killed and after receiving his prize of gold, vowed to never again fight a shark.  \\\\n\\nGeography\\nAguada is located in the west coast of the island of Puerto Rico . It borders the Atlantic Ocean and Aguadilla on the north, Moca on the east, Añasco on the south, and Rincón on the west. Aguada is part of the Coastal Plains of the West, which features alluvial and fertile terrain. Although the terrain is mostly plain, there are some mountains to the south and southeast.   \\\\n\\nAmong the mountains located in Aguada are the Atalaya Peak, located within the limits of Aguada and Rincón. Also, San Francisco Mountain, which is popularly known as the birth point of the Cordillera Central , and Cerro Gordo, peaking at 853 feet (260 meters).  \\\\n\\nAguada\\\\\\'s hydrographic system is composed of the Río Culebrinas , Río Grande , Río Cañas , Río Culebra , Río Guayabo , and Río Ingenio . All of these rivers flow into the Mona Passage .  According to a news article by Primera Hora , there are ten beaches in Aguada.  Aguada has an area of 45.55 square miles and 14.62% are water bodies.  \\\\n\\nLike all municipalities of Puerto Rico, Aguada is subdivided into barrios :     \\\\n\\nBarrios (which are, in contemporary times, roughly comparable to minor civil divisions )  in turn are further subdivided into smaller local populated place areas/units called sectores (which means sectors in English). The types of sectores may vary, from normally sector to urbanización to reparto to barriada to residencial , among others.   \\\\n\\nComunidades Especiales de Puerto Rico (Special Communities of Puerto Rico) are marginalized communities whose citizens are experiencing a certain amount of social exclusion . A map shows these communities occur in nearly every municipality of the commonwealth. Of the 742 places that were on the list in 2014, the following barrios, communities, sectors, or neighborhoods were in Aguada: Parcelas Noboa Vieja and Parcelas Noboa Nuevas in Guanaquilla barrio, Calle San Francisco, Calle San José, Comunidad Las Flores, Sector Las Bimbas in Luyando comunidad, Parcelas Matías, Parcelas Nieves , and Sector García .  \\\\n\\nDemographics\\nIn 2020, the population of Aguada decreased by 9.1% to 38,136. In 2010, the population of Aguada was 41,959, which represented a small decrease from the 42,042 registered in the 2000 Census.  Until its decrease in 2010, Aguada\\\\\\'s population had been increasing steadily.  \\\\n\\nAccording to the 2020 Census, 22.7% of the population identifies themselves as White, and 10.6% as Black. Also, according to the census, the population is equally divided by gender (49.1% are males, while 50.1% are females). Finally, 23.7% of the population is under 18 years old. The next biggest percentage of population (20.8%) is between 35 and 49 years old.  \\\\n\\nEconomy\\nHistorically, the economy of Aguada was mostly based on the processing of sugarcane . The Central Coloso , located in the Guanábano barrio of Aguada, was one of the most important refineries in the island. It was also the last one to cease operations, officially closing in 2003.   Aside from sugar mills, there was also a cattle and wood industry. \\\\n\\nThe commercial economy in Aguada reached a great boom in the 1950s. There were many commercial stores selling merchandise, grocery, hardware, and food products of all categories. \" La Villa de Sotomayor \" by Rivera & Rivera, Inc., founded around 1912 by Remigio Rivera Bonet, was the biggest and most important business in Aguada with an estimated income that exceeded the million dollars annually at that time.  Rivera & Rivera, Inc. had department stores, hardware stores, bakeries, travel agencies and LPG gas distribution, among other business in Aguada and the region. As of 2012, the Aguada economy relies mostly on small businesses and manufacturing.  \\\\n\\nIn late 2014, the government announced a $172\\xa0million deal with private investors to restart sugar production in Puerto Rico for the purpose of supplying the island rum producers with up to 56% of the molasses needed. The plan involved building a new processing plant on the grounds of the old Coloso Sugar Cane factory in Aguada.  \\\\n\\nAguada is part of the Porta del Sol touristic region in Puerto Rico. The Porta del Sol website highlights Aguada\\\\\\'s town square and beaches as its most notable touristic attractions.\\\\n\\nTo stimulate local tourism during the COVID-19 pandemic in Puerto Rico , the Puerto Rico Tourism Company launched the Voy Turistiendo (I\\\\\\'m Touring) campaign in 2021. The campaign featured a passport book with a page for each municipality. The Voy Turisteando Aguada passport page lists the Ermita Espinar which are ruins, Jeanmarie Chocolat , which was the first commercial chocolate farm in Puerto Rico, and Pirámide , the only pyramid in Puerto Rico, as places of interest.  \\\\n\\nThe Puente de Coloso , built in 1928, is an 85-ft-long bridge which crosses over the Culebrinas River , and is located between the Guanábano and Espinar barrios in Aguada. It is recognized for its historic significance.   \\\\n\\nThe only Oriental Orthodox Church in Puerto Rico specifically the Syriac Catholic Orthodox Church is located in Aguada near the downtown area in the Novoa II Community.  \\\\n\\nHuman resources\\nLike all other municipalities in the island, public education is overseen by the Puerto Rico Department of Education . In 2020, there were 11 public schools in Aguada, most of them in the elementary level.   \\\\n\\nAlthough there are no hospitals in Aguada, the town does have a small emergency medical center located near the town center. Most important emergency procedures are carried out in Mayagüez and Aguadilla, Puerto Rico local hospitals.\\\\n\\nCulture\\nAguada celebrates its patron saint festival in October. The Fiestas Patronales de San Francisco de Asis is a religious and cultural celebration in honor of Saint Francis of Assisi that generally features parades, games, artisans, amusement rides, regional food, and live entertainment.    The festival has featured live performances by well-known artists such as Kany García , Tito Rojas , Andy Montañez , and Cano Estremera .  \\\\n\\nOther festivals and events celebrated in Aguada include:\\\\n\\nFestival de Reyes ( Three Kings Festival ) which is celebrated in January at Paraíso de los Niños park. It is an activity dedicated to children of Aguada and is celebrated with gifts, music, clowns, and raffles.  \\\\n\\nFestival de Playa (Beach Festival) is celebrated on June 24, the day of San Juan Bautista ( Saint John the Baptist ), at the Pico de Piedra Beach.\\\\n\\nFestival y Feria de Artesanías (Arts & Craft Fair) takes place from November 17-20 at the Plaza Cristóbal Colón .  \\\\n\\nEvery year in November, a parade called La Parada del Descubrimento takes place to remember the discovery of Puerto Rico by Christopher Columbus . In this parade the people walk from the Catholic church in the town square to the Santurario Histórico a Colón (Cross of Columbus) next to the beach in Guaniquilla .  \\\\n\\nFestival de Cabras de Raza is held on the last weekend of May in the Atalaya barrio, with exhibitions of different goat breeds and competitions.  \\\\n\\nParranda del Octavón is a one-day annual, cultural activity that takes place in January at the Plaza Cristóbal Colón , with local music.  \\\\n\\nEncuentro de Talladores (Carvers\\\\\\' Meeting) is a one-day annual celebration that takes place the first weekend of July at the Plaza Cristóbal Colón , to commemorate the birthday of Don Zoilo Cajigas a carver of wooden saints. Carved wooden saints are on exhibition and for sale.  \\\\n\\nLos Santeros de Aguada is the name of Aguada\\\\\\'s current basketball team.  \\\\n\\nTransportation\\nThe main road leading to Aguada is PR-115 , if you\\\\\\'re coming from the north. If you\\\\\\'re traveling from the south, you have to take PR-2 .\\\\n\\nThere are 18 bridges in Aguada.  \\\\n\\nGovernment\\nAll municipalities in Puerto Rico are administered by a mayor, elected every four years. The mayor of Aguada is Christian Cortes .  \\\\n\\nThis is a list of registered and known mayors of Aguada, until present time.  \\\\n\\nThe city belongs to the Puerto Rico Senatorial district IV of Mayagüez-Aguadilla, which is represented by two Senators.\\\\n\\nThe city is represented in the 18th District which is represented by one representative.\\\\n\\nAll municipalities have a local legislature.\\\\n\\nSymbols\\nThe municipio has an official flag and coat of arms.  \\\\n\\nAguada\\\\\\'s flag was designed by Pedro Vélez Adróvar. It features three main colors: white, red, and yellow. White represents purity and the waters of Culebrinas River . Over the white field, a blue triangle with a white dove is featured. The dove is the symbol of peace that unites the towns. Red symbolizes the martyrdom of Franciscan friars from Espinal. Over the red field, there\\\\\\'s a black cross which represents the birth of Christianity in Puerto Rico. The name of \"Aguada\" is also above the cross. The yellow field represents happiness and hospitality of the residents. Over the yellow field, there\\\\\\'s a white star which symbolizes the hope of the town for more development and progress.   \\\\n\\nThe coat of arms is divided into two main fields. The upper field features a cross, with the interlaced arms of Christ and Father Saint Francis. It is taken from the badge of the Order of Friars Minor . It represents the motto \"Pax et Bonum\", which means \"peace and good will between man and the Redeemer\". The sun below the cross symbolizes the light that brightens the world. The lower part of the shield consists of five ships that symbolize the second voyage of Christopher Columbus , who allegedly arrived at the western \"Guaniquilla\" coast on November 19, 1493, to gather water. Although the precise location is disputed, the Aguada wells ( Puerto de los pozos de la Aguada de Colón ) is a plausible site for the actual event.   \\\\n\\nThe mural crown in the upper part of the shield signifies the title of village, that was given to this town by King Charles III in 1778. The official colors of the shield are red, which stands for the fraternal love in Aguada; gold, for the Spanish royalty in Puerto Rico; green, for the island\\\\\\'s hope and fertility; black, for the wooden beam of the cross; blue, for the sky and the kingship of God; and white, for Christ\\\\\\'s purity and the purity of the people of the town toward the cultural patrimony.   \\\\n\\nAguada has various nicknames, most of them pertaining to its origins. One is \"La Villa del Sotomayor\" (\"Sotomayor Village\"), which was the name originally given to it by Cristóbal de Sotomayor during its colonization in 1510. It is also called \"Villa de San Francisco de Asís de la Aguada\" , which was the name given to the region when the Franciscan friars took control of it. Aguada is also called \"La Ciudad del Descubrimiento\" (\"City of the Discovery\") in reference to it being one of the possible places where Christopher Columbus entered the island. Other nicknames are \"El Pueblo Playero\" (\"The Beach Town\") for its many beaches, and \"La Ciudad del Vaticano\" (\"The Vatican City\") for being considered the \"capital of Catholicism \" in the island.   \\\\n\\nAguada\\\\\\'s anthem was written by Rolando Acevedo Lorenzo.  \\\\n\\nSaint Francis of Assisi is Aguada\\\\\\'s patron saint.\\\\n\\nNotable \"Aguadeños\"\\nGallery\\nSee also\\nReferences\\nFurther reading\\nExternal links'), Document(metadata={'title': 'Aguadilla', 'coordinates': '18.43, -67.15444', 'relevant_links': 'https://es.wikipedia.org/wiki/Aguadilla, https://geohack.toolforge.org/geohack.php?pagename=Aguadilla,_Puerto_Rico&params=18_25_48_N_67_9_16_W_region:US-PR_type:city, https://en.wikipedia.org/w/index.php?title=Aguadilla,_Puerto_Rico&oldid=1248122801, https://en.wikivoyage.org/wiki/Aguadilla, https://en.wikipedia.org/wiki/Aguadilla,_Puerto_Rico'}, page_content='Contents\\nAguadilla, Puerto Rico\\n\\\\n\\nAguadilla , founded in 1775 by Luis de Córdova, is a city and municipality located in the northwestern tip of Puerto Rico , bordered by the Atlantic Ocean to the north and west, north of Aguada , and Moca and west of Isabela . Aguadilla is spread over 15 barrios and Aguadilla Pueblo (the downtown area and the administrative center of the city). It is a principal city and core of the Aguadilla-Isabela-San Sebastián Metropolitan Statistical Area .\\\\n\\nEtymology and nicknames\\nAguadilla is a shortening of the town\\\\\\'s original name San Carlos de La Aguadilla . The name Aguadilla is a diminutive of Aguada , which is the name of the town and municipality located to the south. Some of the municipality\\\\\\'s nicknames are: Jardín del Atlántico (\"Garden of the Atlantic \"), Pueblo de los Tiburones (\" Shark Town\") and La Villa del Ojo de Agua (\"Villa of the Water Spring \") after the natural water spring that was used by early settlers and Spanish soldiers as a water source which is now located in El Parterre Square in Aguadilla Pueblo .  \\\\n\\nHistory\\nAccording to sources, a Taíno settlement called Aymamón was located close to the Culebrinas River .  \\\\n\\nThe present territory of Aguadilla was originally part of the territory of Aguada . In 1775, the foundation of Aguadilla by Don Luis de Córdova was approved.  But it was not until 1780 that the territory was properly segregated, making the founding of the town official. Originally, Aguadilla was constituted by the Victoria and Higüey barrios.  This region was already inhabited and known as Aguadilla before 1770. In 1776, Fray \\\\xc3\\\\x8dñigo Abbad y Lasierra in his description of the towns of the island, mentioned it as the \"new Town of San Carlos de La Aguadilla .\" Nevertheless, according to Dr. Agustín Stahl in his Foundation of Aguadilla , it was not until 1780 that the town was officially founded. The construction of a new church and the proceedings to become an independent village began in 1775.  \\\\n\\nThe population in the Village of Aguadilla continued to increase constantly mainly due to its excellent port and strategic location in the route of the boats. In 1776, when Santo Domingo became independent for the first time, the loyalists of Spanish descent emigrated to Puerto Rico, mainly to Aguadilla, which caused the population to continue increasing significantly. In 1831, according to Don Pedro Tomás de Córdova, the area or \"party\" of Aguadilla belonged to Aguada. At this time, the territorial organization of Aguadilla was as follows: Pueblo Norte (North Town), Pueblo Sur (South Town), Ceiba Alta, Ceiba Baja, Montaña, Malezas, Aguacate, Dos Palmas, Camaseyes, Plainela, Borinquen, Arenales, Higüey, Corrales, Victoria, and Mangual. [ citation needed ] \\\\n\\nDon Pedro Tomás de Córdova mentions the road of Aguadilla formed by Punta Borinquen and San Francisco, as the \"anchorage of the ships that travel from Europe to Havana and Mexico \". He adds that its \"port is the most frequented in the Island due to the proportions that it offers to refresh all class of ship.\" [ citation needed ] \\\\n\\nIn 1860, Aguadilla was officially declared a village.  Several years later, when the island was territorially organized into seven departments, Aguadilla became the head of the third department that included the municipalities of Aguada, Isabela , Lares , Moca , Rincón , and San Sebastián . In January 1841 a Royal Order transferred the judicial party from Aguada to Aguadilla. In 1878, according to Don Manuel Ebeda y Delgado, the territorial organization of Aguadilla had varied a little. At this time Plainela, Higüey, and Mangual barrios are not mentioned. The Dos Palmas barrio appears as Palmar. Also at this time, three new barrios are mentioned: Guerrero, Caimital Alto, and Caimital Bajo. In 1898, even with the change of sovereignty in the island, the territorial organization of Aguadilla is the same to that of 1878. Nevertheless, in the Census of 1899, downtown Aguadilla appears constituted by Higüey, Iglesia, Nueva, Santa Barbara, and Tamarindo barrios. Malezas barrio appears subdivided into Maleza Alta and Maleza Baja. From that time, the territorial organization of Aguadilla did not change, until 1948, when the Puerto Rico Department of Planning prepared the map of the city and its barrios, and following instructions of city authorities, Higüey and parts of Caimital Alto barrios are annexed to Downtown Aguadilla . [ citation needed ] \\\\n\\nAguadilla was the site of the U.S. military\\\\\\'s Ramey Air Force Base for almost five decades. During this period, Aguadilla was home to the Strategic Air Command , equipped with RB-36s and 72d Bombardment Wing, Heavy equipped with B-52s , an important strategic facility during the Cold War .\\\\nActivated in June 1952 as a\\xa0Strategic Air Command\\xa0very long-range reconnaissance unit at\\xa0Ramey AFB,\\xa0Puerto Rico, but not operational until October 1952. Redesignated as\\xa072d Strategic Reconnaissance Wing\\xa0and received 3 (60th, 73rd and 301st) squadrons of\\xa0RB-36D/E/F/H Peacemaker bombers. Also, the 915th Air Rescue Squadron. Conducted global strategic reconnaissance 1953-1955, gradually shifting to a bombardment training mission beginning in 1954, being upgraded to B-36J and B-36J(III) Featherweights by 1955. Redesignated\\xa072d Bombardment Wing\\xa0in 1958. \\\\nWith the phaseout of the B-36s in 1958, received\\xa0B-52G Stratofortress\\xa0intercontinental strategic bombers.\\\\n\\nThough the infrastructure still exists, the airport was handed over to the Government of Puerto Rico in 1973. The aerial facilities are now controlled by the Puerto Rico Ports Authority and comprise the Rafael Hernández International Airport . The barracks now host the Faro Inn Suites, a 79-room hotel. The Officer\\\\\\'s Club now hosts the Faro Conference Center, a 22,000-square-foot (2,000\\xa0m 2 ) meeting facility. The hospital is now the Courtyard by Marriott Punta Borinquen Resort & Casino,  a 150-room hotel with a casino and the first Marriott in Puerto Rico outside of the San Juan Metropolitan Area.\\\\n\\nRamey also hosts the University of Puerto Rico at Aguadilla and the Friedrich Froebel Bilingual School (K-9).  The high school became Ramey Job Corps Campus  and the elementary school became the Esther Feliciano Mendoza Middle School. Centro de Adiestramiento y Bellas Artes (CABA) since 1979 has been the only public school of arts in Puerto Rico (7-12). Ramey is also the site of the new Ramey Skating Park and a new mariposario (butterfly farm) and the Ramey Shopping Center.\\\\n\\nThere is still an active part of the base that hosts the Coast Guard Borinquen Air Station. There are also other government agencies based at Ramey, including the United States Department of Homeland Security , U.S. Customs & Border Protection\\\\\\'s Office of Air and Marine and Office of Border Patrol , the Fuerzas Unidas de Rápida Acción (United Forces for Rapid Action) of the Puerto Rico Police Department and the Puerto Rico National Guard .\\\\n\\nThere is also a post office, the Centro de Servicios al Conductor (Driver\\\\\\'s Services Center), a bakery, and a Banco Popular de Puerto Rico location.\\\\n\\nSan Antonio village was established in the mid-19th century. It was populated by 60 families. Originally the place where these families were located was known as Bajura de Vadi , the place later to become known as San Antonio.\\\\n\\nIn 1918, as a consequence of the 1918 San Fermín earthquake , the village was completely destroyed by a tsunami . The families suffered the struggles caused by this natural disaster due by the proximity of the village to the shore.\\\\n\\nThe residents of the village decided re-localize the village in a higher area further from shore. The new location was what today is known as Ramey .\\\\n\\nThe village\\\\\\'s infrastructure started its evolution. Luis R. Esteves and Juan Garcia established the first two theaters in the area. A new was social club form, known as \"Luz del Porvenir\" (Light of the Future). A new school system was the pride of the village because it offered them the opportunity to give their children an education without having to go 9 miles (14\\xa0km) south downtown. There was also a new bakery and a post office, among other facilities. At this time, the village also began its Patron Festival.\\\\n\\nThe clothing industry was a major source of employment.\\\\n\\nIn September 1939, some 3,796 acres (15.4\\xa0km 2 ) covered by sugar cane, was expropriated for the military at the cost of $1,215,000, in order to build an air base that came to be known as Ramey Air Force Base .\\\\n\\nSince the foundation, the village has suffered three expropriations as a result of expansions to Ramey Air Force Base . These expropriations delayed and ended the plans to turn San Antonio into a town.\\\\n\\nToday, the population of San Antonio consists of approximately ten thousand people. It has a modern square, a Puerto Rico State Police Station, a coliseum, an industrial park, public housing, a baseball park, a public school system, shops, and many other characteristics of a small town. The town also has a flag and an emblem. Roberto Román Acevedo designed the town flag and emblem.\\\\n\\nOn the early morning hours of November 7, 1944, Puerto Rico suffered the worst railroad accident in its history.  Train No. 3 was traveling from San Juan to Ponce carrying passengers to their hometowns for the island general elections being held that same day. It stopped at the Jiménez Station in Aguadilla for a routine engineer and boilerman exchange with Train No. 4, which was heading to San Juan. The engineer assigned to Train No. 3\\\\\\'s ride from Jiménez Station to Ponce was José Antonio Román, an experienced freight train engineer who had never worked on passenger trains.  When the train left the station at 2:00 am, it comprised 6 passenger cars with hundreds of passengers and two freight cars.\\\\n\\nAt 2:20\\xa0a.m. the train started to descend a hill section in Aguadilla known as Cuesta Vieja (Old Hill) at, what some witnesses described as, excessive speed. When the train reached the leveling-off point at the bottom of the hill it derailed . The steam locomotive ran into a ditch, where it exploded, and one of the freight cars crashed into one of the passenger cars, killing many inside. Witnesses described the scene as horrendous, with some accounts stating that parents were throwing their children out the windows to save them from the wreckage.  Chief of Police Guillermo Arroyo stated that the locomotive (No. 72), the express car, and three second class passenger cars were completely destroyed. Oscar Valle, an Aguadilla correspondent to El Mundo newspaper, summarized the scene with: \"The locomotive suffered a terrible explosion as it derailed, and the impact was so strong that 3 passenger cars were converted into a fantastic mound of wreckage\".  In the end, 16 passengers lost their lives, including the engineer and the boilerman, and 50 were injured in the crash.  \\\\n\\nHurricane Maria struck Puerto Rico on September 20, 2017, causing large-scale damage and destruction to infrastructure.   In Aguadilla 10 inches of rain were recorded and its more than 54,000 residents were left with no electrical power.  \\\\n\\nThe four radar systems used by the Federal Aviation Administration for flights in and around Puerto Rico were damaged by Hurricane Maria , and it took nearly two weeks to fix them. One of the radar systems is located in Aguadilla.  \\\\n\\nGeography\\nAguadilla is located in the northwest coast of the island of Puerto Rico , in the Western Coastal Plains. It is bordered by the Atlantic Ocean in the north, the municipalities of Isabela on the east, and Moca and Aguada in the south.  \\\\n\\nThe area of the municipality is 35.5 square miles. It is mostly plain, with some notable hills being Jiménez (728 feet) and Viñet (689 feet). It has only one river, the Culebrinas , which separates Aguadilla from Aguada. Also, Cedro Creek which separates Aguadilla from Isabela in the north.  \\\\n\\nLike all municipalities of Puerto Rico, Aguadilla is subdivided into barrios ( wards ). The municipal government buildings, central square and large Catholic church are located in barrio Pueblo.   \\\\n\\nBarrios (which are, in contemporary times, roughly comparable to minor civil divisions )  in turn are further subdivided into smaller local populated place areas/units called sectores (which means sectors in English). The types of sectores may vary, from normally sector to urbanización to reparto to barriada to residencial , among others.  \\\\n\\nComunidades Especiales de Puerto Rico (Special Communities of Puerto Rico) are marginalized communities whose citizens are experiencing a certain amount of social exclusion . A map shows these communities occur in nearly every municipality of the commonwealth. Of the 742 places that were on the list in 2014, the following barrios, communities, sectors, or neighborhoods were in Aguadilla: El Palmar, Cerro Calero, Cerro Visbal, Cuesta Vieja, La Vía , and Poblado San Antonio .  \\\\n\\nEconomy\\nThe city is currently home to a variety of industrial and pharmaceutical plants such sa LifeScan , Symmetricom, Honeywell , and Hewlett Packard Enterprise . Most of them are located at San Antonio Technological Park. The airport has Lufthansa Technik ,  while others like Suiza Dairy, Lockheed Martin and Productos La Aguadillana are located in Camaseyes Industrial Park. Other industries that are based in Aguadilla are rubber, plastics, leather, textiles, steel, wood, machinery, and food processing.   \\\\n\\nThe retail sector is another source of economy in Aguadilla. Shopping malls like Aguadilla Mall, Aguadilla Shopping Center, Aguadilla Town Center, and others are some of the main commercial and retail centers of the city. [ citation needed ] \\\\n\\nIn 2018, Suiza Dairy , a milk brand, opened a plant in Aguadilla at the cost of $40,000,000 United States dollars . The plant is expected to earn $160,000,000 US dollars in the period form 2018 to 2038.  \\\\n\\nIn 2019, Aguadilla received the City Livability Award from the United States Conference of Mayors and honored the efforts spearheaded by Carlos Méndez Martínez. Specifically mentioned was \"Pintalto\", a project where Cerro Cabrero area, in the downtown area of Aguadilla was painted in rich, lively colors.  \\\\n\\nAguadilla is part of the Porta del Sol touristic region in Puerto Rico. The Porta del Sol website highlights Aguadilla\\\\\\'s beaches for surfing .  \\\\n\\nAccording to the Puerto Rico Department of Natural and Environmental Resources , Aguadilla has the most beaches on the island, with nineteen in total.  Some of the beaches are considered among the best for surfing , like Surfer\\\\\\'s Beach, Gas Chambers , Crash Boat , Wilderness, among others.   Because of this, Aguadilla has served as host to surfing competitions, like the ISA World Championship in 1988.  \\\\n\\nOther attractions of the town are Las Cascadas Water Park and the Aguadilla Ice Skating Arena , which is the only ice skating complex in the Caribbean .\\\\n\\nThere are nine places in Aguadilla listed on the US National Register of Historic Places :  \\\\n\\nOther places of interest in Aguadilla include:\\\\n\\nTo stimulate local tourism during the COVID-19 pandemic in Puerto Rico , the Puerto Rico Tourism Company launched the Voy Turistiendo (\"I\\\\\\'m Touring\") campaign in 2021. The campaign featured a passport book with a page for each municipality. The Voy Turisteando Aguadilla passport page lists Crash Boat Beach, Survival Beach, Rompeolas Beach, and Peña Blanca Beach as places of interest for locals.  \\\\n\\nThere are 32 beaches in Aguadilla.  Some of the more well-known beaches include:\\\\n\\nCulture\\nAguadilla celebrates its patron saint festival in October. The Fiestas Patronales de San Carlos Borromeo is a religious and cultural celebration that generally features parades, games, artisans, amusement rides, regional food, and live entertainment.  \\\\n\\nOther festivals and events celebrated in Aguadilla include:\\\\n\\nAguadilla is home to several professional and amateur sports teams. The most notable are the Aguadilla Divas of the Female Superior Volleyball League , and the Aguadilla Sharks of the Superior Baseball League (Double-A). The Divas play their home games in the Luis T. Díaz Coliseum in Downtown Aguadilla from January to March, while the Sharks play their home games at Luis A. Canena Márquez Stadium from February to May.\\\\n\\nAguadilla also had a professional basketball team called the Aguadilla Sharks, that played for the BSN league. This team was merged into the Cangrejeros de Santurce in 1998.\\\\n\\nAguadilla is also a place where many famous baseball players originate from. There are plans for a future ECHL Minor League Hockey franchise for the city.\\\\n\\nCommunication\\nDemographics\\nThe 1887 census conducted by Spain showed Aguadilla had a population of 16,140.  \\\\n\\nAccording to the US 2010 Census, there were 60,949 people in the city. This represents a decrease of more than 3,000 from the 2000 Census.   The population density was 1,668.5 inhabitants per square mile (644.2/km 2 ). The 2020 Census indicated the municipality has 55,101 residents representing a decline of over 5,000 residents.  \\\\n\\nAs a whole, Puerto Rico is populated mainly by people from Creole or Spanish and European descent. Statistics taken from the 2000 census shows that 83.6% of Aguadillanos identify as having Spanish or white origin, 5.0% are black , 0.2% are Amerindian , 0.2% Asian , 0.1% Native Hawaiian / Pacific Islander , 8.2% were some other race, and 2.8% two or more races.\\\\n\\nIn March 2012, unemployment was at 16.2%, which is the same percent it was in November 2010.  \\\\n\\nMost Aguadillanos are Christian with a majority being Roman Catholic . Like most cities in Puerto Rico Aguadilla has their Catholic church located on the main square in their downtown. There is also a significant community of Jehovah\\\\\\'s Witnesses and Protestants including Pentecostals and Adventists . Aguadilla has an Islamic community with and Islamic Center located on PR-111 in Palmar barrio.\\\\n\\nGovernment\\nAll municipalities in Puerto Rico are administered by a mayor, elected every four years. The current mayor of Aguadilla is Julio Roldán Concepción, of the Popular Democratic Party (PPD).  \\\\n\\nMost state agencies are based at the Government Center Building with the exception of the Corporación del Seguro del Estado (State Insurance Agency) and the Centro de Servicios al Conductor (Driver\\\\\\'s Services Center). Most state agencies left their offices after the Senatorial District was taken away from Aguadilla.\\\\n\\nAguadilla has its own police department, Policía Municipal Aguadilla (Aguadilla City Police Department), located in Aguadilla Pueblo . The A.C.P.D. only has jurisdiction in the municipality of Aguadilla and provide service and protection to local citizens and travelers alike.\\\\n\\nAguadilla also hosts the Puerto Rico Police Department Command for its Region. This region covers Aguada, Aguadilla, Isabela , Moca , Rincón and San Sebastián . It also hosts the PRPD Highway Patrol Division for its region, the FURA Division of the PRPD, the US Army Reserve Center, PR National Guard, U.S. Coast Guard , and the Border Patrol. It is also served by another PRPD station in San Antonio Village (Precinct 203 Ramey-San Antonio).\\\\n\\nThe city has a single correctional facility, Guerrero Correctional Institution , operated by the Puerto Rico Department of Corrections and Rehabilitation .\\\\n\\nIn recent years, Aguadilla has seen an increase in Type I crimes, which include murder , burglary , and theft .  \\\\n\\nThere is an FBI satellite office located in Aguadilla.  \\\\n\\nThe city belongs to the Puerto Rico Senatorial district IV , which is represented by two Senators. In 2016, Evelyn Vázquez and Luis Daniel Muñiz were elected as District Senators.\\\\n\\nSymbols\\nThe municipio has an official flag and coat of arms.  \\\\n\\nThe flag consists of two horizontal stripes of equal size. The upper one is blue and the lower gold, which are the predominant colors in the shield, which is placed in the center of it. \\\\n  \\\\n\\nBased on a design by Alberto Vadi, the coat of arms was organized by Herman Reichard Esteves and José J. Santa-Pinter under the direction of the Aguadilla municipal administration and was approved by the municipal assembly on June 29, 1972.  \\\\n\\nEducation\\nIn all of the island\\\\\\'s municipalities, public education is overseen by the Puerto Rico Department of Education . Aguadilla hosts the Head Start Program for Aguadilla, Aguada , Moca , Rincón , and San Sebastián and a number of private institutions.\\\\n\\nAs of 2018-2019 the following public schools were operational in Aguadilla:   \\\\n\\nAguadilla hosts the following universities:\\\\n\\nThere is a digital library in San Antonio Village and another in downtown Aguadilla (Aguadilla barrio-pueblo).\\\\n\\nHealth\\nThere are two major medical facilities in Aguadilla.\\\\n\\nTransportation\\nRafael Hernández Airport is located in the city of Aguadilla. In recent years, it has seen a resurgence as an international airport in the island, with several airlines planning flights to the US from Aguadilla. [ citation needed ] \\\\n\\nInterstate PR-2 (Rafael Henández Highway). Plans are underway for a new expressway, an expansion to existing Puerto Rico Highway 22 (José de Diego Expressway) from Hatillo and it will probably end at Puerto Rico Highway 111 .\\\\nThere are 13 bridges in Aguadilla.  \\\\n\\nNotable people from Aguadilla\\nGallery\\nSee also\\nReferences\\nFurther reading\\nExternal links')]\n"
     ]
    }
   ],
   "source": [
    "import json\n",
    "import os\n",
    "from langchain.schema import Document\n",
    "\n",
    "def process_txt_file(filepath):\n",
    "    \"\"\" Extract metadata and content from a .txt file \"\"\"\n",
    "    with open(filepath, \"r\", encoding=\"utf-8\") as f:\n",
    "        data = json.loads(f.read())  # Assuming JSON structure inside .txt\n",
    "\n",
    "    # Extract content\n",
    "    content = data.get(\"main_content\", \"\")\n",
    "\n",
    "    # Extract metadata\n",
    "    geo_metadata = data.get(\"geo_metadata\", {}) or {}\n",
    "    title = geo_metadata.get(\"title\", \"Unknown Title\")\n",
    "\n",
    "    # Ensure coordinates is always a list\n",
    "    coordinates = geo_metadata.get(\"coordinates\", [])\n",
    "    if not isinstance(coordinates, list) or len(coordinates) != 2:\n",
    "        coordinates_str = \"Unknown\"\n",
    "    else:\n",
    "        coordinates_str = f\"{coordinates[0]}, {coordinates[1]}\"\n",
    "\n",
    "    # Extract relevant links\n",
    "    relevant_links = \", \".join(data.get(\"relevant_links\", []))  \n",
    "\n",
    "    return Document(\n",
    "        page_content=content,\n",
    "        metadata={\n",
    "            \"title\": title,\n",
    "            \"coordinates\": coordinates_str,\n",
    "            \"relevant_links\": relevant_links\n",
    "        }\n",
    "    )\n",
    "\n",
    "# Process all .txt files\n",
    "documents = []\n",
    "for filename in os.listdir(municipalities_folder):\n",
    "    if filename.endswith(\".txt\"):\n",
    "        filepath = os.path.join(municipalities_folder, filename)\n",
    "        doc = process_txt_file(filepath)\n",
    "        documents.append(doc)\n",
    "\n",
    "# Check some processed documents\n",
    "print(\"Sample Processed Docs:\", documents[:3])"
   ]
  },
  {
   "cell_type": "code",
   "execution_count": 8,
   "metadata": {},
   "outputs": [
    {
     "name": "stdout",
     "output_type": "stream",
     "text": [
      "Successfully saved 78 documents to C:\\Users\\larry\\OneDrive\\Documents\\GitHub\\project-aieng-interactive-travel-planner\\data\\pre-chunk clean data\\municipalities_step1_docs_ext.json\n"
     ]
    }
   ],
   "source": [
    "import json\n",
    "\n",
    "# Define the output file path\n",
    "output_file = r\"C:\\Users\\larry\\OneDrive\\Documents\\GitHub\\project-aieng-interactive-travel-planner\\data\\pre-chunk clean data\\municipalities_step1_docs_ext.json\"\n",
    "\n",
    "# Convert Document objects to a serializable format\n",
    "serializable_docs = [\n",
    "    {\n",
    "        \"metadata\": doc.metadata,\n",
    "        \"page_content\": doc.page_content\n",
    "    }\n",
    "    for doc in documents\n",
    "]\n",
    "\n",
    "# Save to JSON file\n",
    "with open(output_file, \"w\", encoding=\"utf-8\") as f:\n",
    "    json.dump(serializable_docs, f, indent=4, ensure_ascii=False)\n",
    "\n",
    "print(f\"Successfully saved {len(documents)} documents to {output_file}\")"
   ]
  },
  {
   "cell_type": "markdown",
   "metadata": {},
   "source": [
    "# **Step 2: Chunking Data Process**"
   ]
  },
  {
   "cell_type": "code",
   "execution_count": 9,
   "metadata": {},
   "outputs": [
    {
     "name": "stdout",
     "output_type": "stream",
     "text": [
      "Total chunks created: 1998\n"
     ]
    }
   ],
   "source": [
    "from langchain.text_splitter import RecursiveCharacterTextSplitter\n",
    "\n",
    "# Adaptive chunking strategy for municipalities\n",
    "SMALL_DOC_THRESHOLD = 700  # Increased to better fit the dataset\n",
    "MEDIUM_DOC_THRESHOLD = 2048  # Adjusted to match the average document length\n",
    "\n",
    "# Define chunking parameters dynamically\n",
    "def get_chunk_parameters(doc_length):\n",
    "    if doc_length <= SMALL_DOC_THRESHOLD:\n",
    "        return None  # No chunking needed\n",
    "    elif doc_length <= MEDIUM_DOC_THRESHOLD:\n",
    "        return {\"chunk_size\": 512, \"chunk_overlap\": 100}\n",
    "    else:\n",
    "        return {\"chunk_size\": 1024, \"chunk_overlap\": 200}\n",
    "\n",
    "chunked_documents = []\n",
    "\n",
    "processed_docs = documents.copy()  # Assuming updated_docs has been pre-processed\n",
    "\n",
    "for doc in processed_docs:\n",
    "    title = doc.metadata.get(\"title\", \"Unknown Title\")\n",
    "    coordinates = doc.metadata.get(\"coordinates\", \"Unknown\")\n",
    "    relevant_links = doc.metadata.get(\"relevant_links\", \"\")\n",
    "\n",
    "    doc_length = len(doc.page_content.split())\n",
    "\n",
    "    chunk_params = get_chunk_parameters(doc_length)\n",
    "    if chunk_params is None:\n",
    "        # Small docs, no chunking, add as-is\n",
    "        chunked_documents.append({\n",
    "            \"content\": doc.page_content,\n",
    "            \"metadata\": {\n",
    "                \"title\": title,\n",
    "                \"coordinates\": coordinates,\n",
    "                \"relevant_links\": relevant_links\n",
    "            }\n",
    "        })\n",
    "    else:\n",
    "        # Apply optimized chunking\n",
    "        text_splitter = RecursiveCharacterTextSplitter(\n",
    "            chunk_size=chunk_params[\"chunk_size\"],\n",
    "            chunk_overlap=chunk_params[\"chunk_overlap\"]\n",
    "        )\n",
    "        chunks = text_splitter.split_documents([doc])  # Maintain document structure\n",
    "\n",
    "        for chunk in chunks:\n",
    "            chunked_documents.append({\n",
    "                \"content\": chunk.page_content,\n",
    "                \"metadata\": {\n",
    "                    \"title\": title,\n",
    "                    \"coordinates\": coordinates,\n",
    "                    \"relevant_links\": relevant_links\n",
    "                }\n",
    "            })\n",
    "\n",
    "print(f\"Total chunks created: {len(chunked_documents)}\")"
   ]
  },
  {
   "cell_type": "markdown",
   "metadata": {},
   "source": [
    "**Step No. 2a: Qucik Chunks Verification**"
   ]
  },
  {
   "cell_type": "code",
   "execution_count": 10,
   "metadata": {},
   "outputs": [
    {
     "name": "stdout",
     "output_type": "stream",
     "text": [
      "🔹 Chunk 1: 84 words | Title: Adjuntas\n",
      "Contents\n",
      "Adjuntas, Puerto Rico\n",
      "\\n\n",
      "Adjuntas  is a small mountainside town and municipality in Puerto Rico located central midwestern portion of the island on the Cordillera Central , north of Yauco , Guayanilla , and Peñuelas ; southeast of Utuado ; east of Lares and Yauco; and northwest of Ponce . A\n",
      "--------------------------------------------------------------------------------\n",
      "🔹 Chunk 2: 119 words | Title: Adjuntas\n",
      "Adjuntas is nicknamed \"the Switzerland of Puerto Rico\", because of its relatively chilly weather. Many Puerto Rican mountain towns have cooler weather than the rest of the island; Adjuntas is no exception: the average yearly weather is 70 °F (21 °C ) (High: 83 °F/28 °C; Low: 58 °F/14 °C).  Puerto Ri\n",
      "--------------------------------------------------------------------------------\n",
      "🔹 Chunk 3: 168 words | Title: Adjuntas\n",
      "Adjuntas\\' ZIP Code, 00601, is the lowest standard ZIP code in the United States ZIP code system .\\n\n",
      "Etymology and nicknames\n",
      "The name Adjuntas literally translates to \"attached\" in Spanish. The name is most likely a shortening of \" tierras adjuntas a Coamo \" or \\'lands attached (or in proximity ) to\n",
      "--------------------------------------------------------------------------------\n",
      "🔹 Chunk 4: 161 words | Title: Adjuntas\n",
      "History\n",
      "Although there are petroglyphs and traces of Taíno people in Adjuntas, there is no proof that the region was dominated by any specific cacique . Nearby caciques like Guarionex and Urayoán could have had some control over the area.\\n\n",
      "According to historian Aurelio Tió, during the Spanish colo\n",
      "--------------------------------------------------------------------------------\n",
      "🔹 Chunk 5: 165 words | Title: Adjuntas\n",
      "With 20 families established in the region, the residents of Adjuntas asked for the settlement to be officially recognized. The town of Adjuntas was then founded on August 11, 1815, with Diego Maldonado being elected as its representative. A city hall and public square were built shortly after.  \\n\n",
      "\n",
      "--------------------------------------------------------------------------------\n"
     ]
    }
   ],
   "source": [
    "# Check first 5 chunks for verification\n",
    "for i, chunk in enumerate(chunked_documents[:5]):\n",
    "    print(f\"🔹 Chunk {i+1}: {len(chunk['content'].split())} words | Title: {chunk['metadata']['title']}\")\n",
    "    print(chunk['content'][:300])  # Preview first 300 chars\n",
    "    print(\"-\" * 80)"
   ]
  },
  {
   "cell_type": "code",
   "execution_count": 11,
   "metadata": {},
   "outputs": [
    {
     "name": "stdout",
     "output_type": "stream",
     "text": [
      "Successfully saved 1998 chunks to C:\\Users\\larry\\OneDrive\\Documents\\GitHub\\project-aieng-interactive-travel-planner\\data\\chunked data\\municipalities_chunks.json\n"
     ]
    }
   ],
   "source": [
    "import json\n",
    "\n",
    "# Define the output file path\n",
    "output_file = r\"C:\\Users\\larry\\OneDrive\\Documents\\GitHub\\project-aieng-interactive-travel-planner\\data\\chunked data\\municipalities_chunks.json\"\n",
    "\n",
    "# Save chunked documents as JSON\n",
    "with open(output_file, \"w\", encoding=\"utf-8\") as f:\n",
    "    json.dump(chunked_documents, f, indent=4, ensure_ascii=False)\n",
    "\n",
    "print(f\"Successfully saved {len(chunked_documents)} chunks to {output_file}\")"
   ]
  },
  {
   "cell_type": "code",
   "execution_count": 14,
   "metadata": {},
   "outputs": [
    {
     "name": "stdout",
     "output_type": "stream",
     "text": [
      "Loaded 5088 chunks\n",
      "Sample Chunk: {'content': 'Contents\\nAcademia del Perpetuo Socorro\\nMrs. Jeannette Sánchez (1-6)\\\\n\\nAcademia del Perpetuo Socorro (English: \"Academy of Our Lady of Perpetual Help\") was founded in 1921 as a Catholic parochial school of the Perpetuo Socorro Parish at the Archdiocese of San Juan, Puerto Rico . The school is located in Miramar in Puerto Rico \\\\\\'s capital city of San Juan . Students, teachers and alumni commonly refer to their school as Perpetuo.  \\\\n\\nMission\\nThe goal of the  Academia del Perpetuo Socorro is the complete development of the student - spiritually, mentally, morally, socially, culturally, and physically in order to live a full life and to prepare for his/her final goal - union with God. To this end, the school works to create a Catholic academic community in which faith, knowledge, and recreation are shared in a spirit of freedom, love, and creativity. The school, however, does not emphasize religion over other subjects, accepts students of all faiths and does not impose religious requirements such as baptism, confirmation or church attendance as a condition for continued attendance.\\\\n\\nMotto\\n\"Esto Perpetua\" translated as \"This Endures\" stressing how the Catholic values and formal academic education learned at this school, symbolized in the school seal by the oil lamp over the open book, (as in burning the midnight oil) are to permeate individuals and society forever.\\\\n\\nClubs\\nSports teams\\nAcademia del Perpetuo Socorro has the largest gymnasium in the Caribbean. This gymnasium has three wooden volleyball courts that can also be transformed into two basketball courts. The gymnasium also has a small gym where athletes, faculty members, and students can go to do exercise.\\\\n\\nPerpetuo has a varsity program in ten sports:\\\\n\\nIn popular media\\nThe school is featured prominently in Magali García Ramis \\\\\\'s novel Felices Días, Tío Sergio . The school was the main film location for the movie Casi casi (2006) and forms the basis for the fictional school featured in the film.\\\\n\\nNotable alumni\\nReferences', 'metadata': {'title': 'Academia del Perpetuo Socorro', 'coordinates': '18.45444, -66.08472', 'categories': 'Educational Institution, Religion', 'relevant_links': 'https://en.wikipedia.org/w/index.php?title=Academia_del_Perpetuo_Socorro&oldid=1225685073, https://en.wikipedia.org/wiki/academia_del_perpetuo_socorro'}}\n"
     ]
    }
   ],
   "source": [
    "print(f\"Loaded {len(chunked_documents)} chunks\")\n",
    "print(\"Sample Chunk:\", chunked_documents[0])"
   ]
  },
  {
   "cell_type": "markdown",
   "metadata": {},
   "source": [
    "# **Step 3: Initialize ChromaDB**"
   ]
  },
  {
   "cell_type": "code",
   "execution_count": 12,
   "metadata": {},
   "outputs": [],
   "source": [
    "import chromadb\n",
    "from langchain_openai import OpenAIEmbeddings\n",
    "from langchain_chroma import Chroma\n",
    "from langchain.schema import Document\n",
    "from chromadb.config import Settings"
   ]
  },
  {
   "cell_type": "markdown",
   "metadata": {},
   "source": [
    "# **Step 3: Create a Persistent ChromaDB Client**"
   ]
  },
  {
   "cell_type": "code",
   "execution_count": 13,
   "metadata": {},
   "outputs": [],
   "source": [
    "municipalitiesdb_path = r\"C:\\Users\\larry\\chromadb_store\\municipalities_db\"\n",
    "chroma_client = chromadb.PersistentClient(path=municipalitiesdb_path)"
   ]
  },
  {
   "cell_type": "markdown",
   "metadata": {},
   "source": [
    "# **Step 4: Create a Collection**"
   ]
  },
  {
   "cell_type": "code",
   "execution_count": 14,
   "metadata": {},
   "outputs": [],
   "source": [
    "# Define the name of the collection\n",
    "collection_name = \"municipalities_rag\"\n",
    "\n",
    "# Check if the collection already exists and delete it to avoid duplication\n",
    "existing_collections = [col.name for col in chroma_client.list_collections()]\n",
    "if collection_name in existing_collections:\n",
    "    chroma_client.delete_collection(name=collection_name)\n",
    "\n",
    "# Create a new collection in ChromaDB\n",
    "collection = chroma_client.get_or_create_collection(name=collection_name)"
   ]
  },
  {
   "cell_type": "markdown",
   "metadata": {},
   "source": [
    "# **Step 5: Embeddings Preparation Using OpenAI**"
   ]
  },
  {
   "cell_type": "code",
   "execution_count": 18,
   "metadata": {},
   "outputs": [],
   "source": [
    "# Initialize OpenAI's embedding model\n",
    "embedding_model = OpenAIEmbeddings(model=\"text-embedding-ada-002\", api_key=OPENAI_API_KEY)\n",
    "\n",
    "# Prepare lists to store data before inserting into ChromaDB\n",
    "documents = []  # Store the main content (text) of each landmark\n",
    "metadatas = []  # Store metadata (title, coordinates, categories, etc.)\n",
    "ids = []        # Unique document IDs for ChromaDB\n",
    "embeddings = [] # Store generated embedding vectors"
   ]
  },
  {
   "cell_type": "markdown",
   "metadata": {},
   "source": [
    "# **Step 6: Process and Embed the Municipalities Data**"
   ]
  },
  {
   "cell_type": "code",
   "execution_count": 19,
   "metadata": {},
   "outputs": [],
   "source": [
    "for idx, doc in enumerate(chunked_documents):\n",
    "    doc_id = f\"chunk_{idx}\"  # Ensure unique ID per chunk\n",
    "    document_text = doc[\"content\"]\n",
    "\n",
    "    # Generate embedding for each chunk\n",
    "    embedding_vector = embedding_model.embed_query(document_text)\n",
    "\n",
    "    # Store metadata\n",
    "    metadata = doc[\"metadata\"]\n",
    "\n",
    "    # Store in lists for batch insertion\n",
    "    documents.append(document_text)\n",
    "    metadatas.append(metadata)\n",
    "    ids.append(doc_id)\n",
    "    embeddings.append(embedding_vector)\n"
   ]
  },
  {
   "cell_type": "markdown",
   "metadata": {},
   "source": [
    "# **Step 7: Insert Data into ChromaDB**"
   ]
  },
  {
   "cell_type": "code",
   "execution_count": 20,
   "metadata": {},
   "outputs": [
    {
     "name": "stdout",
     "output_type": "stream",
     "text": [
      "Number of chunks stored in ChromaDB: 1998\n",
      "Number of documents chunks: 1998\n"
     ]
    }
   ],
   "source": [
    "# Insert chunked embeddings into ChromaDB\n",
    "collection.add(\n",
    "    ids=ids,                 # Unique document IDs\n",
    "    embeddings=embeddings,   # Precomputed embeddings\n",
    "    metadatas=metadatas,     # Metadata for filtering and retrieval\n",
    "    documents=documents      # Original landmark descriptions\n",
    ")\n",
    "\n",
    "# Confirm successful insertion by checking the number of documents stored\n",
    "print(f\"Number of chunks stored in ChromaDB: {collection.count()}\")\n",
    "print(f\"Number of documents chunks: {len(chunked_documents)}\")"
   ]
  },
  {
   "cell_type": "markdown",
   "metadata": {},
   "source": [
    "# **Step 8: Perform a Test Query**"
   ]
  },
  {
   "cell_type": "code",
   "execution_count": 27,
   "metadata": {},
   "outputs": [
    {
     "name": "stdout",
     "output_type": "stream",
     "text": [
      "\n",
      "**Search Results with Similarity Scores:**\n",
      "\n"
     ]
    }
   ],
   "source": [
    "# Load the stored vectorstore from ChromaDB\n",
    "vectorstore = Chroma(\n",
    "    persist_directory=municipalitiesdb_path, \n",
    "    embedding_function=embedding_model\n",
    ")\n",
    "\n",
    "# Define a sample query\n",
    "query_text = \"Which municipalities of Puerto Rico have more spanish heritage\"\n",
    "\n",
    "# Perform a similarity search in ChromaDB\n",
    "retrieval_results = vectorstore.similarity_search(query_text, k=5)  # Retrieve top 5 most relevant results\n",
    "\n",
    "# Display retrieved results with similarity scores\n",
    "print(\"\\n**Search Results with Similarity Scores:**\\n\")\n",
    "for idx, (doc, score) in enumerate(retrieval_results):\n",
    "    print(f\"Result {idx+1}:\")\n",
    "    print(f\"Title: {doc.metadata.get('title', 'Unknown')}\")\n",
    "    print(f\"Similarity Score: {score:.4f}\")  # Display similarity score\n",
    "    print(f\"Snippet: {doc.page_content[:300]}...\")  # Show first 300 characters\n",
    "    print(\"-\" * 80)"
   ]
  }
 ],
 "metadata": {
  "kernelspec": {
   "display_name": "travel2pr_ai",
   "language": "python",
   "name": "python3"
  },
  "language_info": {
   "codemirror_mode": {
    "name": "ipython",
    "version": 3
   },
   "file_extension": ".py",
   "mimetype": "text/x-python",
   "name": "python",
   "nbconvert_exporter": "python",
   "pygments_lexer": "ipython3",
   "version": "3.10.16"
  }
 },
 "nbformat": 4,
 "nbformat_minor": 2
}
