{
 "cells": [
  {
   "cell_type": "code",
   "execution_count": 4,
   "metadata": {},
   "outputs": [],
   "source": [
    "import chromadb\n",
    "from langchain.vectorstores import Chroma\n",
    "from langchain.embeddings import OpenAIEmbeddings, HuggingFaceEmbeddings\n",
    "from langchain.schema import Document\n",
    "import json\n",
    "import os"
   ]
  },
  {
   "cell_type": "code",
   "execution_count": 57,
   "metadata": {},
   "outputs": [],
   "source": [
    "import os\n",
    "from dotenv import load_dotenv, find_dotenv\n",
    "_ = load_dotenv(find_dotenv())\n",
    "\n",
    "OPENAI_API_KEY  = os.getenv('OPENAI_API_KEY')"
   ]
  },
  {
   "cell_type": "markdown",
   "metadata": {},
   "source": [
    "# **RAG Delition Code if necessary to Fresh Start**"
   ]
  },
  {
   "cell_type": "markdown",
   "metadata": {},
   "source": [
    "*Step 1: Release the database with the following code*"
   ]
  },
  {
   "cell_type": "code",
   "execution_count": 75,
   "metadata": {},
   "outputs": [
    {
     "data": {
      "text/plain": [
       "1808"
      ]
     },
     "execution_count": 75,
     "metadata": {},
     "output_type": "execute_result"
    }
   ],
   "source": [
    "vectorstore = None  # Release the vector database\n",
    "import gc\n",
    "gc.collect()"
   ]
  },
  {
   "cell_type": "markdown",
   "metadata": {},
   "source": [
    "*Step 2: Restart the Kernel associated to the use of the Vectorstore database*\n",
    "\n",
    "*Step 3: Delete the vectorstore by running the following code*"
   ]
  },
  {
   "cell_type": "code",
   "execution_count": 76,
   "metadata": {},
   "outputs": [
    {
     "ename": "PermissionError",
     "evalue": "[WinError 32] The process cannot access the file because it is being used by another process: 'C:\\\\chromadb\\\\landmarks_db\\\\9812a419-54c4-422b-8e21-a2a79ebc8ada\\\\data_level0.bin'",
     "output_type": "error",
     "traceback": [
      "\u001b[1;31m---------------------------------------------------------------------------\u001b[0m",
      "\u001b[1;31mPermissionError\u001b[0m                           Traceback (most recent call last)",
      "Cell \u001b[1;32mIn[76], line 8\u001b[0m\n\u001b[0;32m      6\u001b[0m \u001b[38;5;66;03m# Delete the existing database folder\u001b[39;00m\n\u001b[0;32m      7\u001b[0m \u001b[38;5;28;01mif\u001b[39;00m os\u001b[38;5;241m.\u001b[39mpath\u001b[38;5;241m.\u001b[39mexists(VECTORSTORE_PATH):\n\u001b[1;32m----> 8\u001b[0m     \u001b[43mshutil\u001b[49m\u001b[38;5;241;43m.\u001b[39;49m\u001b[43mrmtree\u001b[49m\u001b[43m(\u001b[49m\u001b[43mVECTORSTORE_PATH\u001b[49m\u001b[43m)\u001b[49m\n\u001b[0;32m      9\u001b[0m     \u001b[38;5;28mprint\u001b[39m(\u001b[38;5;124m\"\u001b[39m\u001b[38;5;124mPrevious RAG deleted successfully.\u001b[39m\u001b[38;5;124m\"\u001b[39m)\n\u001b[0;32m     10\u001b[0m \u001b[38;5;28;01melse\u001b[39;00m:\n",
      "File \u001b[1;32mc:\\Users\\larry\\anaconda3\\envs\\travel2pr_ai\\lib\\shutil.py:750\u001b[0m, in \u001b[0;36mrmtree\u001b[1;34m(path, ignore_errors, onerror)\u001b[0m\n\u001b[0;32m    748\u001b[0m     \u001b[38;5;66;03m# can't continue even if onerror hook returns\u001b[39;00m\n\u001b[0;32m    749\u001b[0m     \u001b[38;5;28;01mreturn\u001b[39;00m\n\u001b[1;32m--> 750\u001b[0m \u001b[38;5;28;01mreturn\u001b[39;00m \u001b[43m_rmtree_unsafe\u001b[49m\u001b[43m(\u001b[49m\u001b[43mpath\u001b[49m\u001b[43m,\u001b[49m\u001b[43m \u001b[49m\u001b[43monerror\u001b[49m\u001b[43m)\u001b[49m\n",
      "File \u001b[1;32mc:\\Users\\larry\\anaconda3\\envs\\travel2pr_ai\\lib\\shutil.py:615\u001b[0m, in \u001b[0;36m_rmtree_unsafe\u001b[1;34m(path, onerror)\u001b[0m\n\u001b[0;32m    613\u001b[0m         onerror(os\u001b[38;5;241m.\u001b[39mpath\u001b[38;5;241m.\u001b[39mislink, fullname, sys\u001b[38;5;241m.\u001b[39mexc_info())\n\u001b[0;32m    614\u001b[0m         \u001b[38;5;28;01mcontinue\u001b[39;00m\n\u001b[1;32m--> 615\u001b[0m     \u001b[43m_rmtree_unsafe\u001b[49m\u001b[43m(\u001b[49m\u001b[43mfullname\u001b[49m\u001b[43m,\u001b[49m\u001b[43m \u001b[49m\u001b[43monerror\u001b[49m\u001b[43m)\u001b[49m\n\u001b[0;32m    616\u001b[0m \u001b[38;5;28;01melse\u001b[39;00m:\n\u001b[0;32m    617\u001b[0m     \u001b[38;5;28;01mtry\u001b[39;00m:\n",
      "File \u001b[1;32mc:\\Users\\larry\\anaconda3\\envs\\travel2pr_ai\\lib\\shutil.py:620\u001b[0m, in \u001b[0;36m_rmtree_unsafe\u001b[1;34m(path, onerror)\u001b[0m\n\u001b[0;32m    618\u001b[0m             os\u001b[38;5;241m.\u001b[39munlink(fullname)\n\u001b[0;32m    619\u001b[0m         \u001b[38;5;28;01mexcept\u001b[39;00m \u001b[38;5;167;01mOSError\u001b[39;00m:\n\u001b[1;32m--> 620\u001b[0m             \u001b[43monerror\u001b[49m\u001b[43m(\u001b[49m\u001b[43mos\u001b[49m\u001b[38;5;241;43m.\u001b[39;49m\u001b[43munlink\u001b[49m\u001b[43m,\u001b[49m\u001b[43m \u001b[49m\u001b[43mfullname\u001b[49m\u001b[43m,\u001b[49m\u001b[43m \u001b[49m\u001b[43msys\u001b[49m\u001b[38;5;241;43m.\u001b[39;49m\u001b[43mexc_info\u001b[49m\u001b[43m(\u001b[49m\u001b[43m)\u001b[49m\u001b[43m)\u001b[49m\n\u001b[0;32m    621\u001b[0m \u001b[38;5;28;01mtry\u001b[39;00m:\n\u001b[0;32m    622\u001b[0m     os\u001b[38;5;241m.\u001b[39mrmdir(path)\n",
      "File \u001b[1;32mc:\\Users\\larry\\anaconda3\\envs\\travel2pr_ai\\lib\\shutil.py:618\u001b[0m, in \u001b[0;36m_rmtree_unsafe\u001b[1;34m(path, onerror)\u001b[0m\n\u001b[0;32m    616\u001b[0m \u001b[38;5;28;01melse\u001b[39;00m:\n\u001b[0;32m    617\u001b[0m     \u001b[38;5;28;01mtry\u001b[39;00m:\n\u001b[1;32m--> 618\u001b[0m         \u001b[43mos\u001b[49m\u001b[38;5;241;43m.\u001b[39;49m\u001b[43munlink\u001b[49m\u001b[43m(\u001b[49m\u001b[43mfullname\u001b[49m\u001b[43m)\u001b[49m\n\u001b[0;32m    619\u001b[0m     \u001b[38;5;28;01mexcept\u001b[39;00m \u001b[38;5;167;01mOSError\u001b[39;00m:\n\u001b[0;32m    620\u001b[0m         onerror(os\u001b[38;5;241m.\u001b[39munlink, fullname, sys\u001b[38;5;241m.\u001b[39mexc_info())\n",
      "\u001b[1;31mPermissionError\u001b[0m: [WinError 32] The process cannot access the file because it is being used by another process: 'C:\\\\chromadb\\\\landmarks_db\\\\9812a419-54c4-422b-8e21-a2a79ebc8ada\\\\data_level0.bin'"
     ]
    }
   ],
   "source": [
    "import os\n",
    "import shutil\n",
    "\n",
    "VECTORSTORE_PATH = r\"C:\\chromadb\\landmarks_db\"  # Update to the actual path\n",
    "\n",
    "# Delete the existing database folder\n",
    "if os.path.exists(VECTORSTORE_PATH):\n",
    "    shutil.rmtree(VECTORSTORE_PATH)\n",
    "    print(\"Previous RAG deleted successfully.\")\n",
    "else:\n",
    "    print(\"No existing RAG found. Proceeding with a fresh build.\")"
   ]
  },
  {
   "cell_type": "markdown",
   "metadata": {},
   "source": [
    "# **Step 1: Analyze Document Lengths & Metadata Completeness**"
   ]
  },
  {
   "cell_type": "code",
   "execution_count": 2,
   "metadata": {},
   "outputs": [
    {
     "name": "stdout",
     "output_type": "stream",
     "text": [
      "Total landmarks processed: 574\n",
      "Average document length: 768.64 words\n",
      "Max length: 14949 words | Min length: 41 words\n",
      "Standard deviation of lengths: 1438.23\n",
      "Landmarks missing geo_metadata: 0 (0.00%)\n"
     ]
    }
   ],
   "source": [
    "import os\n",
    "import json\n",
    "import numpy as np\n",
    "\n",
    "# Define the path to final cleaned landmark data\n",
    "cleaned_data_path = r\"C:\\Users\\larry\\OneDrive\\Documents\\GitHub\\project-aieng-interactive-travel-planner\\data\\landmarks_cleaning\\10Feb25_final_step02_links_clean\"\n",
    "\n",
    "# Collect document statistics\n",
    "lengths = []\n",
    "geo_metadata_missing = 0\n",
    "total_files = 0\n",
    "\n",
    "for file in os.listdir(cleaned_data_path):\n",
    "    file_path = os.path.join(cleaned_data_path, file)\n",
    "\n",
    "    with open(file_path, \"r\", encoding=\"utf-8\") as f:\n",
    "        landmark_data = json.load(f)\n",
    "\n",
    "    text_content = landmark_data.get(\"main_content\", \"\")\n",
    "    lengths.append(len(text_content.split()))  # Count words\n",
    "    total_files += 1\n",
    "\n",
    "    if not landmark_data.get(\"geo_metadata\"):\n",
    "        geo_metadata_missing += 1\n",
    "\n",
    "# Compute statistics\n",
    "avg_length = np.mean(lengths)\n",
    "max_length = np.max(lengths)\n",
    "min_length = np.min(lengths)\n",
    "std_dev = np.std(lengths)\n",
    "\n",
    "print(f\"Total landmarks processed: {total_files}\")\n",
    "print(f\"Average document length: {avg_length:.2f} words\")\n",
    "print(f\"Max length: {max_length} words | Min length: {min_length} words\")\n",
    "print(f\"Standard deviation of lengths: {std_dev:.2f}\")\n",
    "print(f\"Landmarks missing geo_metadata: {geo_metadata_missing} ({geo_metadata_missing / total_files:.2%})\")"
   ]
  },
  {
   "cell_type": "markdown",
   "metadata": {},
   "source": [
    "# **Step 2: Data Chunking, embedding and into DB**"
   ]
  },
  {
   "cell_type": "code",
   "execution_count": null,
   "metadata": {},
   "outputs": [],
   "source": [
    "#!pip install langchain_openai"
   ]
  },
  {
   "cell_type": "code",
   "execution_count": 6,
   "metadata": {},
   "outputs": [],
   "source": [
    "import os\n",
    "import json\n",
    "from langchain_community.vectorstores import Chroma\n",
    "from langchain_openai import OpenAIEmbeddings\n",
    "from langchain_text_splitters import RecursiveCharacterTextSplitter"
   ]
  },
  {
   "cell_type": "code",
   "execution_count": 8,
   "metadata": {},
   "outputs": [
    {
     "name": "stdout",
     "output_type": "stream",
     "text": [
      "✅ RAG setup for landmarks completed. Vector database is ready.\n"
     ]
    }
   ],
   "source": [
    "# Define the paths\n",
    "cleaned_data_path = r\"C:\\Users\\larry\\OneDrive\\Documents\\GitHub\\project-aieng-interactive-travel-planner\\data\\landmarks_cleaning\\10Feb25_final_step02_links_clean\"\n",
    "vectorstore_path = r\"C:\\\\chromadb\\\\landmarks_db\"\n",
    "\n",
    "# Initialize OpenAI embeddings\n",
    "embeddings = OpenAIEmbeddings()\n",
    "\n",
    "# Initialize text splitter\n",
    "chunk_size = 1024\n",
    "chunk_overlap = 0\n",
    "text_splitter = RecursiveCharacterTextSplitter(chunk_size=chunk_size, chunk_overlap=chunk_overlap)\n",
    "\n",
    "# Prepare documents for indexing\n",
    "documents = []\n",
    "for file in os.listdir(cleaned_data_path):\n",
    "    file_path = os.path.join(cleaned_data_path, file)\n",
    "    with open(file_path, \"r\", encoding=\"utf-8\") as f:\n",
    "        landmark_data = json.load(f)\n",
    "\n",
    "    # Extract and normalize metadata\n",
    "    geo_metadata = landmark_data.get(\"geo_metadata\", {}) or {}\n",
    "    title = geo_metadata.get(\"title\", \"Unknown Title\")\n",
    "    coordinates = geo_metadata.get(\"coordinates\", [None, None])\n",
    "    categories = \", \".join(landmark_data.get(\"categories\", []))  # Convert list to string\n",
    "    relevant_links = \", \".join(landmark_data.get(\"relevant_links\", []))  # Convert list to string\n",
    "\n",
    "    main_content = landmark_data.get(\"main_content\", \"\")\n",
    "\n",
    "    # Convert coordinates into a string format\n",
    "    coordinates_str = f\"{coordinates[0]}, {coordinates[1]}\" if coordinates[0] is not None else \"Unknown\"\n",
    "\n",
    "    # Split main content into chunks\n",
    "    chunks = text_splitter.split_text(main_content)\n",
    "\n",
    "    for chunk in chunks:\n",
    "        document = {\n",
    "            \"content\": chunk,\n",
    "            \"metadata\": {\n",
    "                \"title\": title,\n",
    "                \"coordinates\": coordinates_str,  # Coordinates as a string\n",
    "                \"categories\": categories,  # Converted list to string\n",
    "                \"relevant_links\": relevant_links  # Converted list to string\n",
    "            }\n",
    "        }\n",
    "        documents.append(document)\n",
    "\n",
    "# Initialize ChromaDB\n",
    "if not os.path.exists(vectorstore_path):\n",
    "    os.makedirs(vectorstore_path)\n",
    "\n",
    "vectorstore = Chroma(persist_directory=vectorstore_path, embedding_function=embeddings)\n",
    "\n",
    "# Add documents to the vector database\n",
    "for doc in documents:\n",
    "    vectorstore.add_texts(texts=[doc[\"content\"]], metadatas=[doc[\"metadata\"]])\n",
    "\n",
    "print(\"✅ RAG setup for landmarks completed. Vector database is ready.\")"
   ]
  },
  {
   "cell_type": "markdown",
   "metadata": {},
   "source": [
    "# **New Approach for RAG System Creation**"
   ]
  },
  {
   "cell_type": "markdown",
   "metadata": {},
   "source": [
    "# **This approach does not work**\n",
    "\n",
    "import os\n",
    "import json\n",
    "import chromadb\n",
    "from langchain_openai import OpenAIEmbeddings\n",
    "from langchain_chroma import Chroma\n",
    "from langchain.text_splitter import RecursiveCharacterTextSplitter\n",
    "\n",
    "# Define paths\n",
    "DATA_PATH = r\"C:\\Users\\larry\\OneDrive\\Documents\\GitHub\\project-aieng-interactive-travel-planner\\data\\landmarks_cleaning\\10Feb25_final_step02_links_clean\"\n",
    "VECTORSTORE_PATH = r\"C:\\chromadb\\landmarks_db\"\n",
    "\n",
    "# Initialize embeddings and vectorstore\n",
    "embeddings = OpenAIEmbeddings()\n",
    "vectorstore = Chroma(persist_directory=VECTORSTORE_PATH, embedding_function=embeddings)\n",
    "\n",
    "# Initialize chunking strategy\n",
    "text_splitter = RecursiveCharacterTextSplitter(chunk_size=500, chunk_overlap=100)\n",
    "\n",
    "# Process all .txt files and add to vectorstore\n",
    "for file_name in os.listdir(DATA_PATH):\n",
    "    if file_name.endswith(\".txt\"):\n",
    "        file_path = os.path.join(DATA_PATH, file_name)\n",
    "\n",
    "        # Read JSON metadata file\n",
    "        json_file_path = file_path.replace(\".txt\", \".json\")  # Metadata should be in a .json file\n",
    "        if not os.path.exists(json_file_path):\n",
    "            print(f\"Metadata file missing for {file_name}. Skipping...\")\n",
    "            continue\n",
    "\n",
    "        with open(json_file_path, \"r\", encoding=\"utf-8\") as meta_file:\n",
    "            metadata = json.load(meta_file)\n",
    "\n",
    "        # Extract metadata values\n",
    "        main_content = metadata.get(\"main_content\", \"\")  # Corrected content retrieval\n",
    "        geo_metadata = metadata.get(\"geo_metadata\", {}) or {}  # Ensure it's a dictionary\n",
    "        title = geo_metadata.get(\"title\", \"Unknown Title\")\n",
    "        coordinates = geo_metadata.get(\"coordinates\", [None, None])  # Ensure it's always a list\n",
    "        categories = \", \".join(metadata.get(\"categories\", []))  # Convert list to string\n",
    "        relevant_links = \", \".join(metadata.get(\"relevant_links\", []))  # Convert list to string\n",
    "\n",
    "        # Chunk text for better retrieval\n",
    "        chunks = text_splitter.split_text(main_content)\n",
    "\n",
    "        for chunk in chunks:\n",
    "            vectorstore.add_texts(\n",
    "                texts=[chunk],\n",
    "                metadatas=[{\n",
    "                    \"title\": title,\n",
    "                    \"content\": chunk,\n",
    "                    \"coordinates\": f\"{coordinates[0]}, {coordinates[1]}\",\n",
    "                    \"categories\": categories,\n",
    "                    \"relevant_links\": relevant_links\n",
    "                }]\n",
    "            )\n",
    "\n",
    "print(\"Landmark RAG successfully rebuilt with structured metadata & optimized chunking!\")"
   ]
  },
  {
   "cell_type": "markdown",
   "metadata": {},
   "source": [
    "**Step No. 1: Metadata Reading and Extraction**"
   ]
  },
  {
   "cell_type": "code",
   "execution_count": 15,
   "metadata": {},
   "outputs": [
    {
     "name": "stdout",
     "output_type": "stream",
     "text": [
      "Sample Processed Docs: [Document(metadata={'title': 'Academia del Perpetuo Socorro', 'coordinates': '18.45444, -66.08472', 'categories': 'Religion', 'relevant_links': 'https://en.wikipedia.org/w/index.php?title=Academia_del_Perpetuo_Socorro&oldid=1225685073, https://en.wikipedia.org/wiki/academia_del_perpetuo_socorro'}, page_content='Contents\\nAcademia del Perpetuo Socorro\\nMrs. Jeannette Sánchez (1-6)\\\\n\\nAcademia del Perpetuo Socorro (English: \"Academy of Our Lady of Perpetual Help\") was founded in 1921 as a Catholic parochial school of the Perpetuo Socorro Parish at the Archdiocese of San Juan, Puerto Rico . The school is located in Miramar in Puerto Rico \\\\\\'s capital city of San Juan . Students, teachers and alumni commonly refer to their school as Perpetuo.  \\\\n\\nMission\\nThe goal of the  Academia del Perpetuo Socorro is the complete development of the student - spiritually, mentally, morally, socially, culturally, and physically in order to live a full life and to prepare for his/her final goal - union with God. To this end, the school works to create a Catholic academic community in which faith, knowledge, and recreation are shared in a spirit of freedom, love, and creativity. The school, however, does not emphasize religion over other subjects, accepts students of all faiths and does not impose religious requirements such as baptism, confirmation or church attendance as a condition for continued attendance.\\\\n\\nMotto\\n\"Esto Perpetua\" translated as \"This Endures\" stressing how the Catholic values and formal academic education learned at this school, symbolized in the school seal by the oil lamp over the open book, (as in burning the midnight oil) are to permeate individuals and society forever.\\\\n\\nClubs\\nSports teams\\nAcademia del Perpetuo Socorro has the largest gymnasium in the Caribbean. This gymnasium has three wooden volleyball courts that can also be transformed into two basketball courts. The gymnasium also has a small gym where athletes, faculty members, and students can go to do exercise.\\\\n\\nPerpetuo has a varsity program in ten sports:\\\\n\\nIn popular media\\nThe school is featured prominently in Magali García Ramis \\\\\\'s novel Felices Días, Tío Sergio . The school was the main film location for the movie Casi casi (2006) and forms the basis for the fictional school featured in the film.\\\\n\\nNotable alumni\\nReferences'), Document(metadata={'title': 'Academia Interamericana Metro', 'coordinates': '18.4485306, -66.0721222', 'categories': 'Religion', 'relevant_links': 'https://en.wikipedia.org/w/index.php?title=Academia_Interamericana_Metro&action=edit, https://en.wikipedia.org/w/index.php?title=Academia_Interamericana_Metro&oldid=1166002895, https://en.wikipedia.org/wiki/academia_interamericana_metro'}, page_content='Contents\\nAcademia Interamericana Metro\\nThe Academia Interamericana Metro (before Academia del Sagrado Corazón ) was founded in 1928 as a private and religious school in Santurce , Puerto Rico by Inter American University of Puerto Rico - Metro Cumpus.  The school provides elementary and high school education and is located in Avenida Ponce de León , at the Parada 19 in Santurce.\\\\n\\nBefore foundation\\nBefore the school was founded, a small school affiliated with the church had existed on the current parking lot grounds of the church.  This early school was housed in a wooden structure that was destroyed when Hurricane Philip struck Puerto Rico in 1928.  This early school had only been an elementary school that had added a new grade every year.  \\\\n\\nReferences\\nExternal links\\n\\\\n\\nThis Puerto Rican school-related article is a stub . You can help Wikipedia by expanding it .\\nThis article about a Catholic school is a stub . You can help Wikipedia by expanding it .'), Document(metadata={'title': 'Academia Maria Reina', 'coordinates': '18.383442, -66.085516', 'categories': 'Food, Culture', 'relevant_links': 'https://en.wikipedia.org/w/index.php?title=Academia_Maria_Reina&oldid=1246262741, https://en.wikipedia.org/wiki/academia_maria_reina'}, page_content='Contents\\nAcademia Maria Reina\\nAcademia Maria Reina is a Catholic middle (7th to 12th) and high school for girls in San Juan , Puerto Rico.  \\\\n\\nEducative mission\\nAcademia Maria Reina is a school of the Sisters of Saint Joseph of Brentwood, New York . The educative mission of this congregation has its roots in the mission of Jesus: to evangelize, to heal, to pardon, to redeem and liberate all, through love that achieves union and reconciliation. During the year 2010-2011, the new 7th graders received the record of the most entries in the academy ever in school history. As they say in Academia Maria Reina: \"Fuerza Conlleva Honor\", which means \"Strength Carries Honor\". The Academia Maria Reina is one of the most prestigious schools for girls in Puerto Rico, where girls are educated by qualified teachers, who are paid an American salary scale above $ 25 per hour to $ 27 an hour. \\\\n\\nPhilosophy\\nAcademia Maria Reina is a Catholic private middle school and high school. It is dedicated to the total development of its students, that aspire to continue university studies and doing so with authentically Christian values. The goal of the school is the growth of its students in the Catholic faith and the development of a critical mind. The final goal is to have students be agents of their own development and simultaneously be at the service of the community in which they live in order for this society to be equal to all. Academia Maria Reina, conscientious of its philosophy, aspires to help develop a well rounded Puerto Rican woman of faith and devoted to her society. \\\\n\\nFrom 7-10 grades, the students will many electives as options and they choose one, some of these include dance, art, French, Italian, culinary arts (cooking), theater, creative writing, public speaking, and much more. The students of 11th will receive few electives and will choose two, and the 12th graders choose three electives. Starting in 10th grade, the students will get to learn from different AP courses such as calculus, world history, U.S. history, and more. In each grade in all of the school, the students are given different one-semester classes, such as, in 7th grade, the students pass or fail from Computer Science and English Literature. In 8th grade, the students exercise in Physical Education and Computer Application; in 9th grade, the students take Women Values and Sexuality with \\\\\\'drafting\\\\\\'; in 10th grade, the students once again have Physical Education and so on. Students also have an 8 day cycle schedule, once a cycle they have guidance class with the grade guidance counselor in which they discuss different things.\\\\n\\nThe school did fund-raising events after Hurricane Maria devastated Puerto Rico on September 20, 2017.  \\\\n\\nNotable alumni\\nReferences')]\n"
     ]
    }
   ],
   "source": [
    "import json\n",
    "import os\n",
    "from langchain.schema import Document\n",
    "\n",
    "DATA_PATH = r\"C:\\Users\\larry\\OneDrive\\Documents\\GitHub\\project-aieng-interactive-travel-planner\\data\\landmarks_cleaning\\11Feb25_final_step03_chars_title_clean\"\n",
    "\n",
    "def process_txt_file(filepath):\n",
    "    \"\"\" Extract metadata and content from a .txt file \"\"\"\n",
    "    with open(filepath, \"r\", encoding=\"utf-8\") as f:\n",
    "        data = json.loads(f.read())  # Assuming JSON structure inside .txt\n",
    "\n",
    "    # Extract content\n",
    "    content = data.get(\"main_content\", \"\")\n",
    "\n",
    "    # Extract metadata\n",
    "    geo_metadata = data.get(\"geo_metadata\", {}) or {}\n",
    "    title = geo_metadata.get(\"title\", \"Unknown Title\")\n",
    "    coordinates = geo_metadata.get(\"coordinates\", [None, None])\n",
    "\n",
    "    # Convert coordinates to a string\n",
    "    coordinates_str = f\"{coordinates[0]}, {coordinates[1]}\" if all(coordinates) else \"Unknown\"\n",
    "\n",
    "    # Extract categories\n",
    "    categories = \", \".join(data.get(\"categories\", []))  \n",
    "\n",
    "    # Extract relevant links\n",
    "    relevant_links = \", \".join(data.get(\"relevant_links\", []))  \n",
    "\n",
    "    return Document(\n",
    "        page_content=content,\n",
    "        metadata={\n",
    "            \"title\": title,\n",
    "            \"coordinates\": coordinates_str,\n",
    "            \"categories\": categories,\n",
    "            \"relevant_links\": relevant_links\n",
    "        }\n",
    "    )\n",
    "\n",
    "# Process all .txt files\n",
    "documents = []\n",
    "for filename in os.listdir(DATA_PATH):\n",
    "    if filename.endswith(\".txt\"):\n",
    "        filepath = os.path.join(DATA_PATH, filename)\n",
    "        doc = process_txt_file(filepath)\n",
    "        documents.append(doc)\n",
    "\n",
    "# Check some processed documents\n",
    "print(\"Sample Processed Docs:\", documents[:3])"
   ]
  },
  {
   "cell_type": "code",
   "execution_count": 16,
   "metadata": {},
   "outputs": [
    {
     "name": "stdout",
     "output_type": "stream",
     "text": [
      "Successfully saved 574 documents to C:\\Users\\larry\\OneDrive\\Documents\\GitHub\\project-aieng-interactive-travel-planner\\data\\pre-chunk clean data\\landmarks_step1_docs_ext.json\n"
     ]
    }
   ],
   "source": [
    "import json\n",
    "\n",
    "# Define the output file path\n",
    "output_file = r\"C:\\Users\\larry\\OneDrive\\Documents\\GitHub\\project-aieng-interactive-travel-planner\\data\\pre-chunk clean data\\landmarks_step1_docs_ext.json\"\n",
    "\n",
    "# Convert Document objects to a serializable format\n",
    "serializable_docs = [\n",
    "    {\n",
    "        \"metadata\": doc.metadata,\n",
    "        \"page_content\": doc.page_content\n",
    "    }\n",
    "    for doc in documents\n",
    "]\n",
    "\n",
    "# Save to JSON file\n",
    "with open(output_file, \"w\", encoding=\"utf-8\") as f:\n",
    "    json.dump(serializable_docs, f, indent=4, ensure_ascii=False)\n",
    "\n",
    "print(f\"Successfully saved {len(documents)} documents to {output_file}\")"
   ]
  },
  {
   "cell_type": "code",
   "execution_count": 19,
   "metadata": {},
   "outputs": [
    {
     "name": "stdout",
     "output_type": "stream",
     "text": [
      "Title: Cerro De Punta\n",
      "Categories: Soft Adventure, Wildlife, Luxury & Resorts, Outdoor, Family-Friendly\n",
      "\n",
      "Title: Cerro Las Tetas\n",
      "Categories: Outdoor, Soft Adventure, Family-Friendly\n",
      "\n",
      "Title: Cerro Maravilla\n",
      "Categories: Culture\n",
      "\n",
      "Title: Cerro Morales (utuado, Puerto Rico)\n",
      "Categories: \n",
      "\n",
      "Title: Cerro Rosa\n",
      "Categories: \n",
      "\n"
     ]
    }
   ],
   "source": [
    "for doc in documents:\n",
    "    if \"Cerro\" in doc.metadata[\"title\"]:\n",
    "        print(f\"Title: {doc.metadata['title']}\\nCategories: {doc.metadata['categories']}\\n\")"
   ]
  },
  {
   "cell_type": "markdown",
   "metadata": {},
   "source": [
    "**Step No. 1a: Updating Documents**"
   ]
  },
  {
   "cell_type": "code",
   "execution_count": 37,
   "metadata": {},
   "outputs": [
    {
     "name": "stdout",
     "output_type": "stream",
     "text": [
      "Title: Academia del Perpetuo Socorro\n",
      "Categories: Educational Institution, Religion\n",
      "\n",
      "Title: Academia Interamericana Metro\n",
      "Categories: Educational Institution, Religion\n",
      "\n",
      "Title: Academia Maria Reina\n",
      "Categories: Culture, Educational Institution, Food\n",
      "\n",
      "Title: Academia San Jorge\n",
      "Categories: Culture, Educational Institution, Religion\n",
      "\n",
      "Title: Adjuntas Barrio-pueblo\n",
      "Categories: Beach, Culture, Festivals & Events, Outdoor, Religion\n",
      "\n"
     ]
    }
   ],
   "source": [
    "from collections import defaultdict\n",
    "\n",
    "processed_docs = documents.copy()  # Avoid modifying the original list\n",
    "\n",
    "# Function to update categories properly\n",
    "def update_landmark_categories(processed_docs, missing_landmarks, educational_landmarks):\n",
    "    \"\"\"\n",
    "    Updates missing landmark categories by assigning proper default categories.\n",
    "    Appends 'Educational Institution' to specific landmarks.\n",
    "\n",
    "    Args:\n",
    "        processed_docs (list): List of processed document dictionaries.\n",
    "        missing_landmarks (dict): Dictionary with landmark titles as keys and default categories as values.\n",
    "        educational_landmarks (list): List of landmarks that should include 'Educational Institution'.\n",
    "\n",
    "    Returns:\n",
    "        list: Updated processed documents.\n",
    "    \"\"\"\n",
    "    updated_docs = []\n",
    "    processed_docs = documents.copy()  # Avoid modifying the original list\n",
    "\n",
    "    for doc in processed_docs:\n",
    "        title = doc.metadata.get(\"title\", \"\").strip()\n",
    "        categories = set(doc.metadata.get(\"categories\", \"\").split(\", \"))\n",
    "\n",
    "        # Assign missing categories\n",
    "        if title in missing_landmarks:\n",
    "            categories.update(missing_landmarks[title])  # Add suggested categories\n",
    "        \n",
    "        # Append 'Educational Institution' where necessary\n",
    "        if title in educational_landmarks:\n",
    "            categories.add(\"Educational Institution\")\n",
    "        \n",
    "        # Ensure unique categories and update document metadata\n",
    "        doc.metadata[\"categories\"] = \", \".join(sorted(filter(None, categories)))  # Sort for consistency\n",
    "        updated_docs.append(doc)\n",
    "    \n",
    "    return updated_docs\n",
    "\n",
    "# Dictionary of landmarks with missing categories and their proposed categories\n",
    "missing_landmarks = {\n",
    "    \"Braulio Castillo\": [\"Culture\"],\n",
    "    \"Carraízo Dam\": [\"Outdoor\"],\n",
    "    \"Casa Franceschi Antongiorgi\": [\"Culture\", \"Family-Friendly\"],\n",
    "    \"Faro del Castillo San Felipe del Morro\": [\"Culture\", \"Outdoor\"],\n",
    "    \"Cementerio Civil de Ponce\": [\"Religion\", \"Culture\"],\n",
    "    \"Cerro Morales (utuado, Puerto Rico)\": [\"Outdoor\", \"Adventure\"],\n",
    "    \"Cerro Rosa\": [\"Outdoor\", \"Adventure\"],\n",
    "    \"Coliseo Manuel Iguina\": [\"Sports\", \"Culture\"],\n",
    "    \"Dos Bocas Lake\": [\"Outdoor\", \"Water Activities\"],\n",
    "    \"Edificio Comunidad De Orgullo Gay De Puerto Rico\": [\"Culture\", \"LGBTQ+\"],\n",
    "    \"Edificio Del Valle\": [\"Culture\", \"Architecture\"],\n",
    "    \"Edificio Oliver\": [\"Culture\", \"Architecture\"],\n",
    "    \"Edificio Victory Garden\": [\"Culture\", \"Architecture\"],\n",
    "    \"El Gigante Dormido\": [\"Outdoor\", \"Adventure\"],\n",
    "    \"El Monumento De La Recordación\": [\"Culture\", \"History\"],\n",
    "    \"Escuela Brambaugh\": [\"Culture\", \"History\"],\n",
    "    \"Estadio Country Club\": [\"Sports\", \"Culture\"],\n",
    "    \"Cardona Island Light\": [\"Culture\", \"Outdoor\"],\n",
    "    \"Filardi House\": [\"Culture\", \"Architecture\"],\n",
    "    \"Fuerte De La Concepción\": [\"Culture\", \"History\"],\n",
    "    \"Guánica Light\": [\"Culture\", \"Outdoor\"],\n",
    "    \"Gómez Residence\": [\"Culture\", \"Architecture\"],\n",
    "    \"Hacienda Santa Rita\": [\"Culture\", \"History\"],\n",
    "    \"Hacienda San Francisco\": [\"Culture\", \"History\"],\n",
    "    \"House At 659 Concordia Street\": [\"Culture\", \"Architecture\"],\n",
    "    \"House At 659 La Paz Street\": [\"Culture\", \"Architecture\"],\n",
    "    \"House At 663 La Paz Street\": [\"Culture\", \"Architecture\"],\n",
    "    \"Lago Dos Bocas\": [\"Outdoor\", \"Water Activities\"],\n",
    "    \"Las Cabañas Bridge\": [\"Culture\", \"Architecture\"],\n",
    "    \"La Giralda (San Juan, Puerto Rico)\": [\"Culture\", \"Architecture\"],\n",
    "    \"La Liendre Bridge\": [\"Culture\", \"Architecture\"],\n",
    "    \"Logia Masónica Hijos De La Luz\": [\"Culture\", \"History\"],\n",
    "    \"Los Tres Picachos\": [\"Outdoor\", \"Adventure\"],\n",
    "    \"Los Túneles Subterráneos De San Germán\": [\"Culture\", \"History\"],\n",
    "    \"Loíza Lake\": [\"Outdoor\", \"Water Activities\"],\n",
    "    \"Luis A. Ferré United States Courthouse And Post Office Building\": [\"Culture\", \"Government\"],\n",
    "    \"Mario Morales Coliseum\": [\"Sports\", \"Culture\"],\n",
    "    \"Monte Jayuya\": [\"Outdoor\", \"Adventure\"],\n",
    "    \"Monumento al Jíbaro Puertorriqueño\": [\"Culture\", \"History\"],\n",
    "    \"Monumento a los héroes de El Polvorín (obelisk)\": [\"Culture\", \"History\"],\n",
    "    \"Parque De Bombas Maximiliano Merced\": [\"Culture\", \"History\"],\n",
    "    \"Paseo Víctor Rojas\": [\"Culture\", \"Family-Friendly\"],\n",
    "    \"Puente Blanco\": [\"Culture\", \"Architecture\"],\n",
    "    \"Puerto Del Rey Marina\": [\"Outdoor\", \"Water Activities\"],\n",
    "    \"Roberto Clemente Stadium\": [\"Sports\", \"Culture\"],\n",
    "    \"Rum Planetarium\": [\"Culture\", \"Science\", \"Educational Institution\"],\n",
    "    \"Sabana Grande Masonic Cemetery\": [\"Religion\", \"Culture\"],\n",
    "    \"Teodoro Moscoso Bridge\": [\"Culture\", \"Infrastructure\"],\n",
    "    \"U.s. Post Office And Courthouse (mayagüez, Puerto Rico)\": [\"Culture\", \"Government\"],\n",
    "    \"University Of Puerto Rico At Cayey\": [\"Educational Institution\"]\n",
    "}\n",
    "\n",
    "# List of landmarks that should include \"Educational Institution\"\n",
    "educational_landmarks = [\n",
    "    \"University Of Puerto Rico, Río Piedras Campus\",\n",
    "    \"University Of Puerto Rico School Of Medicine\",\n",
    "    \"University Of Puerto Rico, Medical Sciences Campus\",\n",
    "    \"University Of Puerto Rico At Mayagüez\",\n",
    "    \"Center For Advanced Studies On Puerto Rico And The Caribbean\",\n",
    "    \"Universidad Del Sagrado Corazón\",\n",
    "    \"Interamerican University Of Puerto Rico At Ponce\",\n",
    "    \"Interamerican University Of Puerto Rico\",\n",
    "    \"University Of Puerto Rico At Humacao\",\n",
    "    \"University Of Puerto Rico At Ponce\",\n",
    "    \"University Gardens High School\",\n",
    "    \"University High School (San Juan)\",\n",
    "    \"Polytechnic University Of Puerto Rico\",\n",
    "    \"School Of Tropical Medicine (puerto Rico)\",\n",
    "    \"Mizpa Pentecostal University\",\n",
    "    \"Pontificia Universidad Católica de Puerto Rico\",\n",
    "    \"Ponce School Of Medicine\",\n",
    "    \"Escuela De Artes Plásticas Y Diseño De Puerto Rico\",\n",
    "    \"Academia Interamericana Metro\",\n",
    "    \"Academia del Perpetuo Socorro\",\n",
    "    \"Escuela Brambaugh\",\n",
    "    \"Conservatory Of Music Of Puerto Rico\",\n",
    "    \"Saint John's School (San Juan)\",\n",
    "    \"Arecibo Observatory\",\n",
    "    \"Albizu University\",\n",
    "    \"Academia San Jorge\",\n",
    "    \"Academia Maria Reina\",\n",
    "    \"Ana G. Méndez University\",\n",
    "    \"Colegio San Conrado\",\n",
    "    \"Ponce High School\",\n",
    "    \"Central High School (san Juan, Puerto Rico)\",\n",
    "    \"Colegio Ponceño\",\n",
    "    \"Biblioteca Carnegie\",\n",
    "    \"Albergue Olímpico\"\n",
    "]\n",
    "\n",
    "# Apply the updates\n",
    "updated_docs = update_landmark_categories(processed_docs, missing_landmarks, educational_landmarks)\n",
    "\n",
    "# Display some sample results\n",
    "for doc in updated_docs[:5]:  # Show first 5 updated docs\n",
    "    print(f\"Title: {doc.metadata['title']}\\nCategories: {doc.metadata['categories']}\\n\")"
   ]
  },
  {
   "cell_type": "code",
   "execution_count": 22,
   "metadata": {},
   "outputs": [
    {
     "name": "stdout",
     "output_type": "stream",
     "text": [
      "Sample Processed Docs: [Document(metadata={'title': 'Academia del Perpetuo Socorro', 'coordinates': '18.45444, -66.08472', 'categories': 'Educational Institution, Religion', 'relevant_links': 'https://en.wikipedia.org/w/index.php?title=Academia_del_Perpetuo_Socorro&oldid=1225685073, https://en.wikipedia.org/wiki/academia_del_perpetuo_socorro'}, page_content='Contents\\nAcademia del Perpetuo Socorro\\nMrs. Jeannette Sánchez (1-6)\\\\n\\nAcademia del Perpetuo Socorro (English: \"Academy of Our Lady of Perpetual Help\") was founded in 1921 as a Catholic parochial school of the Perpetuo Socorro Parish at the Archdiocese of San Juan, Puerto Rico . The school is located in Miramar in Puerto Rico \\\\\\'s capital city of San Juan . Students, teachers and alumni commonly refer to their school as Perpetuo.  \\\\n\\nMission\\nThe goal of the  Academia del Perpetuo Socorro is the complete development of the student - spiritually, mentally, morally, socially, culturally, and physically in order to live a full life and to prepare for his/her final goal - union with God. To this end, the school works to create a Catholic academic community in which faith, knowledge, and recreation are shared in a spirit of freedom, love, and creativity. The school, however, does not emphasize religion over other subjects, accepts students of all faiths and does not impose religious requirements such as baptism, confirmation or church attendance as a condition for continued attendance.\\\\n\\nMotto\\n\"Esto Perpetua\" translated as \"This Endures\" stressing how the Catholic values and formal academic education learned at this school, symbolized in the school seal by the oil lamp over the open book, (as in burning the midnight oil) are to permeate individuals and society forever.\\\\n\\nClubs\\nSports teams\\nAcademia del Perpetuo Socorro has the largest gymnasium in the Caribbean. This gymnasium has three wooden volleyball courts that can also be transformed into two basketball courts. The gymnasium also has a small gym where athletes, faculty members, and students can go to do exercise.\\\\n\\nPerpetuo has a varsity program in ten sports:\\\\n\\nIn popular media\\nThe school is featured prominently in Magali García Ramis \\\\\\'s novel Felices Días, Tío Sergio . The school was the main film location for the movie Casi casi (2006) and forms the basis for the fictional school featured in the film.\\\\n\\nNotable alumni\\nReferences'), Document(metadata={'title': 'Academia Interamericana Metro', 'coordinates': '18.4485306, -66.0721222', 'categories': 'Educational Institution, Religion', 'relevant_links': 'https://en.wikipedia.org/w/index.php?title=Academia_Interamericana_Metro&action=edit, https://en.wikipedia.org/w/index.php?title=Academia_Interamericana_Metro&oldid=1166002895, https://en.wikipedia.org/wiki/academia_interamericana_metro'}, page_content='Contents\\nAcademia Interamericana Metro\\nThe Academia Interamericana Metro (before Academia del Sagrado Corazón ) was founded in 1928 as a private and religious school in Santurce , Puerto Rico by Inter American University of Puerto Rico - Metro Cumpus.  The school provides elementary and high school education and is located in Avenida Ponce de León , at the Parada 19 in Santurce.\\\\n\\nBefore foundation\\nBefore the school was founded, a small school affiliated with the church had existed on the current parking lot grounds of the church.  This early school was housed in a wooden structure that was destroyed when Hurricane Philip struck Puerto Rico in 1928.  This early school had only been an elementary school that had added a new grade every year.  \\\\n\\nReferences\\nExternal links\\n\\\\n\\nThis Puerto Rican school-related article is a stub . You can help Wikipedia by expanding it .\\nThis article about a Catholic school is a stub . You can help Wikipedia by expanding it .'), Document(metadata={'title': 'Academia Maria Reina', 'coordinates': '18.383442, -66.085516', 'categories': 'Culture, Educational Institution, Food', 'relevant_links': 'https://en.wikipedia.org/w/index.php?title=Academia_Maria_Reina&oldid=1246262741, https://en.wikipedia.org/wiki/academia_maria_reina'}, page_content='Contents\\nAcademia Maria Reina\\nAcademia Maria Reina is a Catholic middle (7th to 12th) and high school for girls in San Juan , Puerto Rico.  \\\\n\\nEducative mission\\nAcademia Maria Reina is a school of the Sisters of Saint Joseph of Brentwood, New York . The educative mission of this congregation has its roots in the mission of Jesus: to evangelize, to heal, to pardon, to redeem and liberate all, through love that achieves union and reconciliation. During the year 2010-2011, the new 7th graders received the record of the most entries in the academy ever in school history. As they say in Academia Maria Reina: \"Fuerza Conlleva Honor\", which means \"Strength Carries Honor\". The Academia Maria Reina is one of the most prestigious schools for girls in Puerto Rico, where girls are educated by qualified teachers, who are paid an American salary scale above $ 25 per hour to $ 27 an hour. \\\\n\\nPhilosophy\\nAcademia Maria Reina is a Catholic private middle school and high school. It is dedicated to the total development of its students, that aspire to continue university studies and doing so with authentically Christian values. The goal of the school is the growth of its students in the Catholic faith and the development of a critical mind. The final goal is to have students be agents of their own development and simultaneously be at the service of the community in which they live in order for this society to be equal to all. Academia Maria Reina, conscientious of its philosophy, aspires to help develop a well rounded Puerto Rican woman of faith and devoted to her society. \\\\n\\nFrom 7-10 grades, the students will many electives as options and they choose one, some of these include dance, art, French, Italian, culinary arts (cooking), theater, creative writing, public speaking, and much more. The students of 11th will receive few electives and will choose two, and the 12th graders choose three electives. Starting in 10th grade, the students will get to learn from different AP courses such as calculus, world history, U.S. history, and more. In each grade in all of the school, the students are given different one-semester classes, such as, in 7th grade, the students pass or fail from Computer Science and English Literature. In 8th grade, the students exercise in Physical Education and Computer Application; in 9th grade, the students take Women Values and Sexuality with \\\\\\'drafting\\\\\\'; in 10th grade, the students once again have Physical Education and so on. Students also have an 8 day cycle schedule, once a cycle they have guidance class with the grade guidance counselor in which they discuss different things.\\\\n\\nThe school did fund-raising events after Hurricane Maria devastated Puerto Rico on September 20, 2017.  \\\\n\\nNotable alumni\\nReferences')]\n"
     ]
    }
   ],
   "source": [
    "print(\"Sample Processed Docs:\", updated_docs[:3])"
   ]
  },
  {
   "cell_type": "code",
   "execution_count": 46,
   "metadata": {},
   "outputs": [
    {
     "name": "stdout",
     "output_type": "stream",
     "text": [
      "Title: Albizu University\n",
      "Categories: Culture, Educational Institution\n",
      "\n",
      "Title: Ana G. Méndez University\n",
      "Categories: Culture, Educational Institution, Shopping\n",
      "\n",
      "Title: Interamerican University Of Puerto Rico\n",
      "Categories: Culture, Educational Institution, Outdoor, Religion\n",
      "\n",
      "Title: Interamerican University Of Puerto Rico At Ponce\n",
      "Categories: Culture, Educational Institution\n",
      "\n",
      "Title: Mizpa Pentecostal University\n",
      "Categories: Culture, Educational Institution, Religion\n",
      "\n",
      "Title: Polytechnic University Of Puerto Rico\n",
      "Categories: Culture, Educational Institution\n",
      "\n",
      "Title: University Gardens High School\n",
      "Categories: Culture, Educational Institution\n",
      "\n",
      "Title: University High School (San Juan)\n",
      "Categories: Culture, Educational Institution\n",
      "\n",
      "Title: University Of Puerto Rico, Medical Sciences Campus\n",
      "Categories: Culture, Educational Institution\n",
      "\n",
      "Title: University Of Puerto Rico, Río Piedras Campus\n",
      "Categories: Culture, Educational Institution, Festivals & Events, Nightlife, Outdoor\n",
      "\n",
      "Title: University Of Puerto Rico At Cayey\n",
      "Categories: Educational Institution\n",
      "\n",
      "Title: University Of Puerto Rico At Humacao\n",
      "Categories: Culture, Educational Institution, Family-Friendly, Wellness & Relaxation\n",
      "\n",
      "Title: University Of Puerto Rico At Mayagüez\n",
      "Categories: Culture, Educational Institution, Festivals & Events, Luxury & Resorts, Outdoor\n",
      "\n",
      "Title: University Of Puerto Rico At Ponce\n",
      "Categories: Culture, Educational Institution\n",
      "\n",
      "Title: University Of Puerto Rico School Of Medicine\n",
      "Categories: Culture, Educational Institution, Family-Friendly\n",
      "\n"
     ]
    }
   ],
   "source": [
    "for doc in updated_docs:\n",
    "    if \"University\" in doc.metadata[\"title\"]:\n",
    "        print(f\"Title: {doc.metadata['title']}\\nCategories: {doc.metadata['categories']}\\n\")"
   ]
  },
  {
   "cell_type": "code",
   "execution_count": 47,
   "metadata": {},
   "outputs": [
    {
     "name": "stdout",
     "output_type": "stream",
     "text": [
      "Title: Coliseo Manuel Iguina\n",
      "Categories: Culture, Sports\n",
      "\n",
      "Title: Coliseo Rubén Rodríguez\n",
      "Categories: Culture, Festivals & Events\n",
      "\n"
     ]
    }
   ],
   "source": [
    "for doc in updated_docs:\n",
    "    if \"Coliseo\" in doc.metadata[\"title\"]:\n",
    "        print(f\"Title: {doc.metadata['title']}\\nCategories: {doc.metadata['categories']}\\n\")"
   ]
  },
  {
   "cell_type": "code",
   "execution_count": 49,
   "metadata": {},
   "outputs": [
    {
     "name": "stdout",
     "output_type": "stream",
     "text": [
      "Title: Condado Lagoon\n",
      "Categories: Beach, Luxury & Resorts\n",
      "\n",
      "Title: Joyuda Lagoon\n",
      "Categories: Beach\n",
      "\n",
      "Title: Lago Dos Bocas\n",
      "Categories: Outdoor, Water Activities\n",
      "\n",
      "Title: Tortuguero Lagoon\n",
      "Categories: Beach, Outdoor, Wildlife\n",
      "\n"
     ]
    }
   ],
   "source": [
    "for doc in updated_docs:\n",
    "    if \"Lago\" in doc.metadata[\"title\"]:\n",
    "        print(f\"Title: {doc.metadata['title']}\\nCategories: {doc.metadata['categories']}\\n\")"
   ]
  },
  {
   "cell_type": "code",
   "execution_count": 50,
   "metadata": {},
   "outputs": [
    {
     "name": "stdout",
     "output_type": "stream",
     "text": [
      "Successfully saved 574 documents to C:\\Users\\larry\\OneDrive\\Documents\\GitHub\\project-aieng-interactive-travel-planner\\data\\pre-chunk clean data\\landmarks_step1a_updated_cat.json\n"
     ]
    }
   ],
   "source": [
    "import json\n",
    "\n",
    "# Define the output file path\n",
    "output_file = r\"C:\\Users\\larry\\OneDrive\\Documents\\GitHub\\project-aieng-interactive-travel-planner\\data\\pre-chunk clean data\\landmarks_step1a_updated_cat.json\"\n",
    "\n",
    "# Convert Document objects to a serializable format\n",
    "serializable_docs = [\n",
    "    {\n",
    "        \"metadata\": doc.metadata,\n",
    "        \"page_content\": doc.page_content\n",
    "    }\n",
    "    for doc in updated_docs\n",
    "]\n",
    "\n",
    "# Save to JSON file\n",
    "with open(output_file, \"w\", encoding=\"utf-8\") as f:\n",
    "    json.dump(serializable_docs, f, indent=4, ensure_ascii=False)\n",
    "\n",
    "print(f\"Successfully saved {len(updated_docs)} documents to {output_file}\")"
   ]
  },
  {
   "cell_type": "code",
   "execution_count": 3,
   "metadata": {},
   "outputs": [
    {
     "name": "stdout",
     "output_type": "stream",
     "text": [
      "Successfully loaded 574 documents from C:\\Users\\larry\\OneDrive\\Documents\\GitHub\\project-aieng-interactive-travel-planner\\data\\pre-chunk clean data\\landmarks_updated_11feb25.json\n"
     ]
    }
   ],
   "source": [
    "import json\n",
    "from langchain.schema import Document\n",
    "\n",
    "# Define the output file path\n",
    "output_file = r\"C:\\Users\\larry\\OneDrive\\Documents\\GitHub\\project-aieng-interactive-travel-planner\\data\\pre-chunk clean data\\landmarks_updated_11feb25.json\"\n",
    "\n",
    "# Load from JSON file\n",
    "with open(output_file, \"r\", encoding=\"utf-8\") as f:\n",
    "    loaded_docs = json.load(f)\n",
    "\n",
    "# Convert back to Document objects\n",
    "restored_docs = [\n",
    "    Document(metadata=doc[\"metadata\"], page_content=doc[\"page_content\"])\n",
    "    for doc in loaded_docs\n",
    "]\n",
    "\n",
    "print(f\"Successfully loaded {len(restored_docs)} documents from {output_file}\")\n",
    "\n",
    "updated_docs=restored_docs.copy()"
   ]
  },
  {
   "cell_type": "markdown",
   "metadata": {},
   "source": [
    "**Step No. 2: Chunking Documents**"
   ]
  },
  {
   "cell_type": "code",
   "execution_count": 51,
   "metadata": {},
   "outputs": [
    {
     "name": "stdout",
     "output_type": "stream",
     "text": [
      "Total chunks created: 5088\n"
     ]
    }
   ],
   "source": [
    "from langchain.text_splitter import RecursiveCharacterTextSplitter\n",
    "\n",
    "# Adaptive chunking strategy\n",
    "SMALL_DOC_THRESHOLD = 500\n",
    "MEDIUM_DOC_THRESHOLD = 2000\n",
    "\n",
    "# Define chunking parameters dynamically\n",
    "def get_chunk_parameters(doc_length):\n",
    "    if doc_length <= SMALL_DOC_THRESHOLD:\n",
    "        return None  # No chunking needed\n",
    "    elif doc_length <= MEDIUM_DOC_THRESHOLD:\n",
    "        return {\"chunk_size\": 500, \"chunk_overlap\": 50}\n",
    "    else:\n",
    "        return {\"chunk_size\": 1000, \"chunk_overlap\": 100}\n",
    "\n",
    "chunked_documents = []\n",
    "\n",
    "processed_docs = updated_docs.copy()  # Assuming we have processed the updated_docs from previous step\n",
    "\n",
    "for doc in processed_docs:\n",
    "    title = doc.metadata.get(\"title\", \"Unknown Title\")\n",
    "    coordinates = doc.metadata.get(\"coordinates\", \"Unknown\")\n",
    "    categories = doc.metadata.get(\"categories\", \"Unknown\")\n",
    "    relevant_links = doc.metadata.get(\"relevant_links\", \"\")\n",
    "\n",
    "    doc_length = len(doc.page_content.split())\n",
    "\n",
    "    chunk_params = get_chunk_parameters(doc_length)\n",
    "    if chunk_params is None:\n",
    "        # Small docs, no chunking, add as-is\n",
    "        chunked_documents.append({\n",
    "            \"content\": doc.page_content,\n",
    "            \"metadata\": {\n",
    "                \"title\": title,\n",
    "                \"coordinates\": coordinates,\n",
    "                \"categories\": categories,\n",
    "                \"relevant_links\": relevant_links\n",
    "            }\n",
    "        })\n",
    "    else:\n",
    "        # Apply chunking\n",
    "        text_splitter = RecursiveCharacterTextSplitter(\n",
    "            chunk_size=chunk_params[\"chunk_size\"],\n",
    "            chunk_overlap=chunk_params[\"chunk_overlap\"]\n",
    "        )\n",
    "        chunks = text_splitter.split_text(doc.page_content)\n",
    "\n",
    "        for chunk in chunks:\n",
    "            chunked_documents.append({\n",
    "                \"content\": chunk,\n",
    "                \"metadata\": {\n",
    "                    \"title\": title,\n",
    "                    \"coordinates\": coordinates,\n",
    "                    \"categories\": categories,\n",
    "                    \"relevant_links\": relevant_links\n",
    "                }\n",
    "            })\n",
    "\n",
    "print(f\"Total chunks created: {len(chunked_documents)}\")"
   ]
  },
  {
   "cell_type": "markdown",
   "metadata": {},
   "source": [
    "**Step No. 3: Qucik Chunks Verification**"
   ]
  },
  {
   "cell_type": "code",
   "execution_count": 52,
   "metadata": {},
   "outputs": [
    {
     "name": "stdout",
     "output_type": "stream",
     "text": [
      "🔹 Chunk 1: 325 words | Title: Academia del Perpetuo Socorro\n",
      "Contents\n",
      "Academia del Perpetuo Socorro\n",
      "Mrs. Jeannette Sánchez (1-6)\\n\n",
      "Academia del Perpetuo Socorro (English: \"Academy of Our Lady of Perpetual Help\") was founded in 1921 as a Catholic parochial school of the Perpetuo Socorro Parish at the Archdiocese of San Juan, Puerto Rico . The school is located\n",
      "--------------------------------------------------------------------------------\n",
      "🔹 Chunk 2: 164 words | Title: Academia Interamericana Metro\n",
      "Contents\n",
      "Academia Interamericana Metro\n",
      "The Academia Interamericana Metro (before Academia del Sagrado Corazón ) was founded in 1928 as a private and religious school in Santurce , Puerto Rico by Inter American University of Puerto Rico - Metro Cumpus.  The school provides elementary and high school \n",
      "--------------------------------------------------------------------------------\n",
      "🔹 Chunk 3: 462 words | Title: Academia Maria Reina\n",
      "Contents\n",
      "Academia Maria Reina\n",
      "Academia Maria Reina is a Catholic middle (7th to 12th) and high school for girls in San Juan , Puerto Rico.  \\n\n",
      "Educative mission\n",
      "Academia Maria Reina is a school of the Sisters of Saint Joseph of Brentwood, New York . The educative mission of this congregation has its\n",
      "--------------------------------------------------------------------------------\n",
      "🔹 Chunk 4: 73 words | Title: Academia San Jorge\n",
      "Contents\n",
      "Academia San Jorge\n",
      "Academia San Jorge (\"Saint George Academy\") is a private, Roman Catholic school in San Juan, Puerto Rico founded in 1925 by Rev. Msgr. José M. Rivera as a parochial school with 53 students from grades K-3. Shortly after, the school started construction on the first buildi\n",
      "--------------------------------------------------------------------------------\n",
      "🔹 Chunk 5: 68 words | Title: Academia San Jorge\n",
      "History\n",
      "In 1939, the Sisters of St. Joseph came to teach and administer the school until their departure in 1973. \\n\n",
      "In 1959, its founder Msgr. José M. Rivera died and was replaced as parish priest by father Benito Cabrera. Father Cabrera started a campaign to remodel the school and the church, but \n",
      "--------------------------------------------------------------------------------\n"
     ]
    }
   ],
   "source": [
    "# Check first 5 chunks for verification\n",
    "for i, chunk in enumerate(chunked_documents[:5]):\n",
    "    print(f\"🔹 Chunk {i+1}: {len(chunk['content'].split())} words | Title: {chunk['metadata']['title']}\")\n",
    "    print(chunk['content'][:300])  # Preview first 300 chars\n",
    "    print(\"-\" * 80)"
   ]
  },
  {
   "cell_type": "markdown",
   "metadata": {},
   "source": [
    "**Step No. 4: Categories Distribution Verification**"
   ]
  },
  {
   "cell_type": "code",
   "execution_count": 53,
   "metadata": {},
   "outputs": [
    {
     "name": "stdout",
     "output_type": "stream",
     "text": [
      "Counter({'Culture': 251, 'Culture, Religion': 202, 'Beach, Culture, Festivals & Events, Food, Luxury & Resorts, Nightlife, Outdoor, Religion, Wildlife': 130, 'Beach, Culture, Festivals & Events, Nightlife, Outdoor, Wellness & Relaxation': 129, 'Culture, Family-Friendly': 113, 'Culture, Family-Friendly, Festivals & Events, Food, Luxury & Resorts, Nightlife, Outdoor, Religion': 109, 'Culture, Family-Friendly, Outdoor': 103, 'Beach, Culture, Family-Friendly, Food, Luxury & Resorts, Outdoor, Religion, Shopping, Wildlife': 100, 'Culture, Educational Institution': 99, 'Beach, Culture': 99, 'Culture, Extreme Adventure, Family-Friendly, Festivals & Events, Food, Luxury & Resorts, Nightlife, Outdoor, Religion, Shopping, Wildlife': 96, 'Culture, Luxury & Resorts': 81, 'Culture, Outdoor': 76, 'Culture, Family-Friendly, Festivals & Events, Food, Luxury & Resorts, Nightlife, Outdoor': 75, 'Beach, Culture, Family-Friendly, Festivals & Events, Luxury & Resorts, Outdoor, Shopping': 71, 'Culture, Shopping': 70, 'Culture, Family-Friendly, Festivals & Events, Outdoor': 70, 'Culture, Festivals & Events, Religion': 66, 'Beach, Culture, Extreme Adventure, Family-Friendly, Food, Outdoor, Soft Adventure, Wellness & Relaxation, Wildlife': 66, 'Culture, Festivals & Events, Food, Luxury & Resorts, Nightlife': 65, 'Beach, Culture, Family-Friendly, Outdoor': 61, 'Culture, Educational Institution, Festivals & Events': 60, 'Outdoor': 57, 'Culture, Family-Friendly, Festivals & Events, Food, Nightlife, Outdoor': 56, 'Beach, Culture, Family-Friendly': 54, 'Beach, Culture, Outdoor, Wildlife': 51, 'Beach, Culture, Family-Friendly, Festivals & Events, Food, Nightlife, Religion': 50, 'Culture, Family-Friendly, Festivals & Events, Nightlife': 47, 'Beach, Culture, Family-Friendly, Food, Outdoor, Religion, Shopping, Soft Adventure, Wildlife': 46, 'Culture, Family-Friendly, Nightlife, Outdoor, Wellness & Relaxation': 45, 'Culture, Family-Friendly, Outdoor, Soft Adventure, Wildlife': 44, 'Culture, Food, Shopping': 44, 'Beach, Culture, Extreme Adventure, Family-Friendly, Food, Outdoor, Soft Adventure, Wildlife': 40, 'Wildlife': 39, 'Beach, Culture, Family-Friendly, Festivals & Events, Food, Luxury & Resorts, Outdoor': 38, 'Culture, Festivals & Events, Luxury & Resorts, Religion': 38, 'Culture, Educational Institution, Festivals & Events, Nightlife, Outdoor': 38, 'Culture, Educational Institution, Family-Friendly, Wellness & Relaxation': 38, 'Beach, Food, Outdoor, Religion, Wildlife': 38, 'Family-Friendly, Festivals & Events, Luxury & Resorts': 36, 'Beach, Outdoor, Wildlife': 35, 'Culture, Family-Friendly, Food, Outdoor, Shopping': 35, 'Beach, Culture, Family-Friendly, Food, Luxury & Resorts, Outdoor': 35, 'Beach, Culture, Nightlife, Shopping': 35, 'Culture, Outdoor, Wildlife': 33, 'Beach, Culture, Family-Friendly, Outdoor, Shopping': 33, 'Culture, Family-Friendly, Food, Nightlife, Outdoor': 33, 'Culture, Luxury & Resorts, Religion': 32, 'Beach, Culture, Family-Friendly, Outdoor, Religion': 31, 'Culture, Family-Friendly, Religion': 31, 'Culture, Festivals & Events, Nightlife, Wellness & Relaxation': 31, 'Culture, Family-Friendly, Festivals & Events, Religion': 30, 'Beach, Culture, Family-Friendly, Outdoor, Shopping, Wildlife': 29, 'Culture, Family-Friendly, Festivals & Events, Food, Nightlife, Outdoor, Religion': 29, 'Culture, Food, Nightlife, Outdoor, Shopping': 29, 'Beach, Culture, Family-Friendly, Festivals & Events, Outdoor, Religion': 29, 'Culture, Family-Friendly, Shopping': 28, 'Beach, Culture, Outdoor, Soft Adventure, Wildlife': 28, 'Culture, Family-Friendly, Food, Outdoor, Shopping, Wellness & Relaxation, Wildlife': 28, 'Culture, Luxury & Resorts, Shopping': 28, 'Beach, Culture, Family-Friendly, Luxury & Resorts, Outdoor': 27, 'Culture, Festivals & Events': 27, 'Culture, Food, Nightlife, Shopping': 27, 'Culture, Educational Institution, Family-Friendly': 27, 'Culture, Family-Friendly, Festivals & Events, Food, Luxury & Resorts, Nightlife, Outdoor, Wellness & Relaxation': 25, 'Culture, Family-Friendly, Nightlife, Outdoor': 25, 'Beach, Food, Outdoor, Wildlife': 25, 'Culture, Family-Friendly, Food, Shopping': 24, 'Culture, Family-Friendly, Nightlife, Religion': 24, 'Culture, Family-Friendly, Festivals & Events, Food, Luxury & Resorts, Outdoor': 24, 'Culture, Family-Friendly, Luxury & Resorts, Shopping': 23, 'Food, Outdoor, Religion, Wellness & Relaxation': 23, 'Culture, Extreme Adventure, Outdoor, Soft Adventure, Wildlife': 23, 'Beach, Culture, Family-Friendly, Food, Outdoor, Wellness & Relaxation, Wildlife': 22, 'Culture, Food, Luxury & Resorts, Nightlife': 22, 'Culture, Food, Luxury & Resorts, Shopping': 22, 'Culture, Educational Institution, Shopping': 21, 'Culture, Food, Luxury & Resorts, Wellness & Relaxation': 21, 'Beach, Culture, Family-Friendly, Nightlife, Shopping, Wildlife': 21, 'Beach, Culture, Family-Friendly, Outdoor, Wellness & Relaxation': 20, 'Culture, Family-Friendly, Luxury & Resorts': 20, 'Culture, Festivals & Events, Food, Shopping': 20, 'Culture, Family-Friendly, Festivals & Events, Food, Nightlife, Outdoor, Wildlife': 20, 'Culture, Family-Friendly, Festivals & Events, Food, Luxury & Resorts': 20, 'Culture, Family-Friendly, Festivals & Events, Outdoor, Shopping': 20, 'Religion': 19, 'Culture, Nightlife': 19, 'Culture, Extreme Adventure, Family-Friendly, Wildlife': 19, 'Culture, Family-Friendly, Festivals & Events, Religion, Shopping': 19, 'Culture, Educational Institution, Festivals & Events, Religion': 19, 'Beach, Culture, Outdoor': 19, 'Beach, Culture, Educational Institution': 19, 'Culture, Family-Friendly, Outdoor, Wildlife': 18, 'Culture, Family-Friendly, Outdoor, Religion, Wildlife': 18, 'Beach, Culture, Family-Friendly, Festivals & Events, Food, Nightlife, Outdoor, Religion, Wildlife': 18, 'Family-Friendly, Outdoor': 18, 'Culture, Family-Friendly, Festivals & Events, Food, Outdoor': 18, 'Culture, Family-Friendly, Religion, Shopping': 18, 'Culture, Educational Institution, Festivals & Events, Luxury & Resorts, Outdoor': 18, 'Beach': 17, 'Beach, Culture, Family-Friendly, Luxury & Resorts': 17, 'Beach, Culture, Family-Friendly, Festivals & Events, Food, Outdoor, Religion': 17, 'Beach, Culture, Luxury & Resorts, Shopping': 17, 'Culture, Educational Institution, Wellness & Relaxation': 17, 'Culture, Family-Friendly, Festivals & Events, Food, Outdoor, Shopping': 17, 'Culture, Family-Friendly, Festivals & Events, Food, Nightlife, Religion': 17, 'Culture, Outdoor, Religion': 16, 'Beach, Outdoor': 16, 'Culture, Family-Friendly, Outdoor, Religion, Soft Adventure, Wildlife': 16, 'Beach, Family-Friendly, Luxury & Resorts, Outdoor': 16, 'Beach, Culture, Food, Shopping': 16, 'Culture, Family-Friendly, Food, Luxury & Resorts, Shopping': 15, 'Beach, Culture, Family-Friendly, Luxury & Resorts, Religion, Shopping': 15, 'Culture, Festivals & Events, Luxury & Resorts, Shopping': 14, 'Culture, Family-Friendly, Luxury & Resorts, Outdoor, Religion': 14, 'Family-Friendly, Festivals & Events, Shopping': 14, 'Culture, Family-Friendly, Festivals & Events, Food, Luxury & Resorts, Nightlife, Outdoor, Shopping': 14, 'Culture, Food, Nightlife, Religion': 13, 'Beach, Culture, Shopping': 13, 'Culture, Family-Friendly, Food, Outdoor': 13, 'Family-Friendly, Outdoor, Soft Adventure': 13, 'Culture, Family-Friendly, Nightlife': 13, 'Culture, Food, Outdoor, Wildlife': 12, 'Architecture, Culture': 12, 'Beach, Family-Friendly, Food, Outdoor, Soft Adventure, Wildlife': 12, 'Beach, Culture, Family-Friendly, Food, Luxury & Resorts, Nightlife, Outdoor, Soft Adventure': 12, 'Beach, Family-Friendly, Food, Outdoor, Wildlife': 12, 'Culture, Family-Friendly, Nightlife, Outdoor, Shopping, Wellness & Relaxation': 12, 'Culture, Educational Institution, Religion': 11, 'Beach, Culture, Family-Friendly, Luxury & Resorts, Outdoor, Soft Adventure, Wildlife': 11, 'Food, Nightlife': 11, 'Beach, Culture, Religion': 10, 'Culture, Festivals & Events, Religion, Shopping': 10, 'Culture, Family-Friendly, Luxury & Resorts, Nightlife': 10, 'Family-Friendly, Luxury & Resorts, Outdoor, Soft Adventure, Wildlife': 10, 'Culture, Family-Friendly, Festivals & Events, Food, Religion': 10, 'Beach, Family-Friendly, Food': 10, 'Culture, History': 9, 'Beach, Culture, Food, Luxury & Resorts, Nightlife, Religion, Shopping': 9, 'Culture, Food, Nightlife': 9, 'Beach, Culture, Family-Friendly, Festivals & Events, Food, Luxury & Resorts, Nightlife, Outdoor, Wildlife': 8, 'Adventure, Outdoor': 5, 'Culture, Sports': 4, 'Outdoor, Water Activities': 4, 'Beach, Outdoor, Soft Adventure': 3, 'Beach, Family-Friendly, Outdoor': 3, 'Educational Institution, Religion': 2, 'Culture, Extreme Adventure, Family-Friendly, Outdoor': 2, 'Beach, Family-Friendly, Outdoor, Soft Adventure': 2, 'Beach, Outdoor, Soft Adventure, Wildlife': 2, 'Luxury & Resorts': 2, 'Culture, Family-Friendly, Outdoor, Religion': 2, 'Beach, Culture, Food': 2, 'Culture, Festivals & Events, Outdoor': 2, 'Beach, Culture, Family-Friendly, Wellness & Relaxation': 2, 'Beach, Luxury & Resorts': 2, 'Family-Friendly': 2, 'Beach, Food': 2, 'Family-Friendly, Outdoor, Religion': 2, 'Outdoor, Wildlife': 2, 'Culture, Government': 2, 'Beach, Family-Friendly, Food, Outdoor': 2, 'Festivals & Events': 2, 'Culture, Educational Institution, Food': 1, 'Beach, Culture, Festivals & Events, Outdoor, Religion': 1, 'Festivals & Events, Religion': 1, 'Culture, Festivals & Events, Food': 1, 'Family-Friendly, Nightlife, Outdoor': 1, 'Beach, Festivals & Events': 1, 'Beach, Family-Friendly, Outdoor, Soft Adventure, Wildlife': 1, 'Culture, Nightlife, Outdoor, Shopping, Wildlife': 1, 'Beach, Family-Friendly, Soft Adventure': 1, 'Beach, Culture, Family-Friendly, Food, Outdoor': 1, 'Beach, Soft Adventure': 1, 'Culture, LGBTQ+': 1, 'Culture, Educational Institution, History': 1, 'Culture, Food, Outdoor': 1, 'Food, Luxury & Resorts': 1, 'Beach, Culture, Outdoor, Religion': 1, 'Culture, Food, Luxury & Resorts, Nightlife, Outdoor': 1, 'Beach, Culture, Family-Friendly, Outdoor, Soft Adventure, Wildlife': 1, 'Culture, Educational Institution, Outdoor, Religion': 1, 'Beach, Culture, Festivals & Events, Soft Adventure': 1, 'Beach, Religion, Wildlife': 1, 'Beach, Festivals & Events, Nightlife, Outdoor': 1, 'Beach, Culture, Food, Outdoor, Religion, Soft Adventure': 1, 'Family-Friendly, Outdoor, Soft Adventure, Wildlife': 1, 'Food, Shopping': 1, 'Extreme Adventure, Family-Friendly, Outdoor': 1, 'Culture, Food': 1, 'Family-Friendly, Food': 1, 'Culture, Family-Friendly, Festivals & Events, Luxury & Resorts, Outdoor, Wildlife': 1, 'Beach, Culture, Luxury & Resorts, Outdoor, Shopping': 1, 'Beach, Culture, Family-Friendly, Luxury & Resorts, Wellness & Relaxation': 1, 'Family-Friendly, Outdoor, Wildlife': 1, 'Beach, Festivals & Events, Outdoor': 1, 'Shopping': 1, 'Culture, Educational Institution, Science': 1, 'Beach, Culture, Luxury & Resorts': 1, 'Culture, Family-Friendly, Outdoor, Soft Adventure': 1, 'Culture, Infrastructure': 1, 'Educational Institution': 1, 'Culture, Family-Friendly, Food, Religion, Shopping': 1})\n"
     ]
    }
   ],
   "source": [
    "# Check categories distribution\n",
    "from collections import Counter\n",
    "category_counts = Counter([doc['metadata']['categories'] for doc in chunked_documents])\n",
    "print(category_counts)"
   ]
  },
  {
   "cell_type": "code",
   "execution_count": 54,
   "metadata": {},
   "outputs": [
    {
     "name": "stdout",
     "output_type": "stream",
     "text": [
      "Landmarks Missing Categories: 0\n",
      "[]\n"
     ]
    }
   ],
   "source": [
    "# Check which documents are missing categories\n",
    "missing_categories = [doc['metadata']['title'] for doc in chunked_documents if not doc['metadata']['categories']]\n",
    "print(\"Landmarks Missing Categories:\", len(missing_categories))\n",
    "print(missing_categories)"
   ]
  },
  {
   "cell_type": "code",
   "execution_count": 56,
   "metadata": {},
   "outputs": [
    {
     "name": "stdout",
     "output_type": "stream",
     "text": [
      "Successfully saved 5088 chunks to C:\\Users\\larry\\OneDrive\\Documents\\GitHub\\project-aieng-interactive-travel-planner\\data\\chunked data\\landmarks_chunks_11feb25.json\n"
     ]
    }
   ],
   "source": [
    "import json\n",
    "\n",
    "# Define the output file path\n",
    "output_file = r\"C:\\Users\\larry\\OneDrive\\Documents\\GitHub\\project-aieng-interactive-travel-planner\\data\\chunked data\\landmarks_chunks_11feb25.json\"\n",
    "\n",
    "# Save chunked documents as JSON\n",
    "with open(output_file, \"w\", encoding=\"utf-8\") as f:\n",
    "    json.dump(chunked_documents, f, indent=4, ensure_ascii=False)\n",
    "\n",
    "print(f\"Successfully saved {len(chunked_documents)} chunks to {output_file}\")"
   ]
  },
  {
   "cell_type": "code",
   "execution_count": 59,
   "metadata": {},
   "outputs": [
    {
     "name": "stdout",
     "output_type": "stream",
     "text": [
      "Loaded 5088 chunks\n",
      "Sample Chunk: {'content': 'Contents\\nAcademia del Perpetuo Socorro\\nMrs. Jeannette Sánchez (1-6)\\\\n\\nAcademia del Perpetuo Socorro (English: \"Academy of Our Lady of Perpetual Help\") was founded in 1921 as a Catholic parochial school of the Perpetuo Socorro Parish at the Archdiocese of San Juan, Puerto Rico . The school is located in Miramar in Puerto Rico \\\\\\'s capital city of San Juan . Students, teachers and alumni commonly refer to their school as Perpetuo.  \\\\n\\nMission\\nThe goal of the  Academia del Perpetuo Socorro is the complete development of the student - spiritually, mentally, morally, socially, culturally, and physically in order to live a full life and to prepare for his/her final goal - union with God. To this end, the school works to create a Catholic academic community in which faith, knowledge, and recreation are shared in a spirit of freedom, love, and creativity. The school, however, does not emphasize religion over other subjects, accepts students of all faiths and does not impose religious requirements such as baptism, confirmation or church attendance as a condition for continued attendance.\\\\n\\nMotto\\n\"Esto Perpetua\" translated as \"This Endures\" stressing how the Catholic values and formal academic education learned at this school, symbolized in the school seal by the oil lamp over the open book, (as in burning the midnight oil) are to permeate individuals and society forever.\\\\n\\nClubs\\nSports teams\\nAcademia del Perpetuo Socorro has the largest gymnasium in the Caribbean. This gymnasium has three wooden volleyball courts that can also be transformed into two basketball courts. The gymnasium also has a small gym where athletes, faculty members, and students can go to do exercise.\\\\n\\nPerpetuo has a varsity program in ten sports:\\\\n\\nIn popular media\\nThe school is featured prominently in Magali García Ramis \\\\\\'s novel Felices Días, Tío Sergio . The school was the main film location for the movie Casi casi (2006) and forms the basis for the fictional school featured in the film.\\\\n\\nNotable alumni\\nReferences', 'metadata': {'title': 'Academia del Perpetuo Socorro', 'coordinates': '18.45444, -66.08472', 'categories': 'Educational Institution, Religion', 'relevant_links': 'https://en.wikipedia.org/w/index.php?title=Academia_del_Perpetuo_Socorro&oldid=1225685073, https://en.wikipedia.org/wiki/academia_del_perpetuo_socorro'}}\n"
     ]
    }
   ],
   "source": [
    "print(f\"Loaded {len(chunked_documents)} chunks\")\n",
    "print(\"Sample Chunk:\", chunked_documents[0])"
   ]
  },
  {
   "cell_type": "markdown",
   "metadata": {},
   "source": [
    "**Step No. 5: Creation of the Vectorstore with ChromaDB**"
   ]
  },
  {
   "cell_type": "code",
   "execution_count": null,
   "metadata": {},
   "outputs": [],
   "source": [
    "#!pip install -U langchain langchain-community langchain-chroma chromadb"
   ]
  },
  {
   "cell_type": "code",
   "execution_count": 77,
   "metadata": {},
   "outputs": [
    {
     "name": "stdout",
     "output_type": "stream",
     "text": [
      "ChromaDB Vectorstore successfully created and stored at: C:\\Users\\larry\\chromadb_store\\landmarks_db\n"
     ]
    }
   ],
   "source": [
    "import os\n",
    "import json\n",
    "import chromadb\n",
    "from langchain_openai import OpenAIEmbeddings\n",
    "from langchain_chroma import Chroma\n",
    "from langchain.schema import Document\n",
    "\n",
    "# Initialize the OpenAI embedding model\n",
    "embedding_model = OpenAIEmbeddings(model=\"text-embedding-ada-002\")  # Adjust model if needed\n",
    "\n",
    "# Define the ChromaDB storage path\n",
    "chroma_db_path = r\"C:\\Users\\larry\\chromadb_store\\landmarks_db\"\n",
    "\n",
    "# Initialize a persistent ChromaDB client\n",
    "chroma_client = chromadb.PersistentClient(path=chroma_db_path)\n",
    "\n",
    "# Convert chunked documents into LangChain Document objects\n",
    "docs = [\n",
    "    Document(\n",
    "        page_content=chunk[\"content\"],\n",
    "        metadata=chunk[\"metadata\"]\n",
    "    ) \n",
    "    for chunk in chunked_documents\n",
    "]\n",
    "\n",
    "# Create and store the vector database with ChromaDB\n",
    "vectorstore = Chroma.from_documents(\n",
    "    documents=docs, \n",
    "    embedding=embedding_model, \n",
    "    persist_directory=chroma_db_path\n",
    ")\n",
    "\n",
    "print(\"ChromaDB Vectorstore successfully created and stored at:\", chroma_db_path)"
   ]
  },
  {
   "cell_type": "markdown",
   "metadata": {},
   "source": [
    "**Step No. 6: Perform a Retrieval Test**"
   ]
  },
  {
   "cell_type": "code",
   "execution_count": 78,
   "metadata": {},
   "outputs": [
    {
     "name": "stdout",
     "output_type": "stream",
     "text": [
      "\n",
      "**Search Results:**\n",
      "\n",
      "Result 1:\n",
      "Title: Letras de Ponce\n",
      "Snippet: from Ponce.  The landmark is said to be \"known to every Puerto Rican.\"  \\n...\n",
      "--------------------------------------------------------------------------------\n",
      "Result 2:\n",
      "Title: Old San Juan\n",
      "Snippet: Historic designations\n",
      "The San Juan National Historic Site  was established in 1949 to preserve historic fortifications in Old San Juan and the National Register of Historic Places listed it in 1966.  Both that site and La Fortaleza ( English : The Fortress ) were then declared a single World Heritag...\n",
      "--------------------------------------------------------------------------------\n",
      "Result 3:\n",
      "Title: Paseo de la Princesa\n",
      "Snippet: Other landmarks and attractions are the Americas Heritage Fountain , the San Justo y Pastor Bastion , the La Concepción Bastion , and a playground for children. The promenade also hosts an open air café and a restaurant that serves traditional Puerto Rican food called Princesa Gastrobar .  Piraguas ...\n",
      "--------------------------------------------------------------------------------\n",
      "Result 4:\n",
      "Title: Puerto Rico\n",
      "Snippet: Old San Juan is one of the two barrios , in addition to Santurce , that made up the municipality of San Juan from 1864 to 1951, at which time the former independent municipality of Río Piedras was annexed. With its abundance of shops, historic places, museums, open air cafés, restaurants, gracious h...\n",
      "--------------------------------------------------------------------------------\n",
      "Result 5:\n",
      "Title: Puerta De Tierra, San Juan\n",
      "Snippet: Contents\n",
      "Puerta de Tierra, San Juan...\n",
      "--------------------------------------------------------------------------------\n"
     ]
    }
   ],
   "source": [
    "# Load the stored vectorstore from ChromaDB\n",
    "vectorstore = Chroma(\n",
    "    persist_directory=chroma_db_path, \n",
    "    embedding_function=embedding_model\n",
    ")\n",
    "\n",
    "# Perform a test query\n",
    "query = \"historical landmarks in San Juan\"\n",
    "results = vectorstore.similarity_search(query, k=5)  # Retrieve top 5 most relevant results\n",
    "\n",
    "# Display retrieved results\n",
    "print(\"\\n**Search Results:**\\n\")\n",
    "for idx, doc in enumerate(results):\n",
    "    print(f\"Result {idx+1}:\")\n",
    "    print(f\"Title: {doc.metadata.get('title', 'Unknown')}\")\n",
    "    print(f\"Snippet: {doc.page_content[:300]}...\")  # Display first 300 characters\n",
    "    print(\"-\" * 80)"
   ]
  },
  {
   "cell_type": "code",
   "execution_count": 79,
   "metadata": {},
   "outputs": [
    {
     "name": "stdout",
     "output_type": "stream",
     "text": [
      "\n",
      "**Search Results with Similarity Scores:**\n",
      "\n",
      "Result 1:\n",
      "Title: Letras de Ponce\n",
      "Similarity Score: 0.2129\n",
      "Snippet: from Ponce.  The landmark is said to be \"known to every Puerto Rican.\"  \\n...\n",
      "--------------------------------------------------------------------------------\n",
      "Result 2:\n",
      "Title: Old San Juan\n",
      "Similarity Score: 0.2556\n",
      "Snippet: Historic designations\n",
      "The San Juan National Historic Site  was established in 1949 to preserve historic fortifications in Old San Juan and the National Register of Historic Places listed it in 1966.  Both that site and La Fortaleza ( English : The Fortress ) were then declared a single World Heritag...\n",
      "--------------------------------------------------------------------------------\n",
      "Result 3:\n",
      "Title: Paseo de la Princesa\n",
      "Similarity Score: 0.2593\n",
      "Snippet: Other landmarks and attractions are the Americas Heritage Fountain , the San Justo y Pastor Bastion , the La Concepción Bastion , and a playground for children. The promenade also hosts an open air café and a restaurant that serves traditional Puerto Rican food called Princesa Gastrobar .  Piraguas ...\n",
      "--------------------------------------------------------------------------------\n",
      "Result 4:\n",
      "Title: Puerto Rico\n",
      "Similarity Score: 0.2617\n",
      "Snippet: Old San Juan is one of the two barrios , in addition to Santurce , that made up the municipality of San Juan from 1864 to 1951, at which time the former independent municipality of Río Piedras was annexed. With its abundance of shops, historic places, museums, open air cafés, restaurants, gracious h...\n",
      "--------------------------------------------------------------------------------\n",
      "Result 5:\n",
      "Title: Puerta De Tierra, San Juan\n",
      "Similarity Score: 0.2622\n",
      "Snippet: Contents\n",
      "Puerta de Tierra, San Juan...\n",
      "--------------------------------------------------------------------------------\n"
     ]
    }
   ],
   "source": [
    "# Load the stored vectorstore from ChromaDB\n",
    "vectorstore = Chroma(\n",
    "    persist_directory=chroma_db_path, \n",
    "    embedding_function=embedding_model\n",
    ")\n",
    "\n",
    "# Perform a test query\n",
    "query = \"historical landmarks in San Juan\"\n",
    "results = vectorstore.similarity_search_with_score(query, k=5)\n",
    "\n",
    "# Display retrieved results with similarity scores\n",
    "print(\"\\n**Search Results with Similarity Scores:**\\n\")\n",
    "for idx, (doc, score) in enumerate(results):\n",
    "    print(f\"Result {idx+1}:\")\n",
    "    print(f\"Title: {doc.metadata.get('title', 'Unknown')}\")\n",
    "    print(f\"Similarity Score: {score:.4f}\")  # Display similarity score\n",
    "    print(f\"Snippet: {doc.page_content[:300]}...\")  # Show first 300 characters\n",
    "    print(\"-\" * 80)\n"
   ]
  },
  {
   "cell_type": "code",
   "execution_count": 80,
   "metadata": {},
   "outputs": [
    {
     "name": "stdout",
     "output_type": "stream",
     "text": [
      "[-0.029638236794412798, -0.004587519045408049, 0.003929724504965821, -0.003231031165929953, -0.009611295667771934]\n"
     ]
    }
   ],
   "source": [
    "# To verify if the embeddings are working correctly, we can embed a query and check the first few values of the embedding vector.\n",
    "from langchain.embeddings import OpenAIEmbeddings\n",
    "\n",
    "embedding_model = OpenAIEmbeddings(model=\"text-embedding-ada-002\")\n",
    "\n",
    "query = \"historical landmarks in San Juan\"\n",
    "query_embedding = embedding_model.embed_query(query)\n",
    "\n",
    "print(query_embedding[:5])  # Show first 5 values to verify"
   ]
  },
  {
   "cell_type": "markdown",
   "metadata": {},
   "source": [
    "**Step No. 7: Inspecting the RAG Vector Database Structure and Content**"
   ]
  },
  {
   "cell_type": "code",
   "execution_count": null,
   "metadata": {},
   "outputs": [],
   "source": [
    "#!pip install -U langchain-chroma"
   ]
  },
  {
   "cell_type": "code",
   "execution_count": 81,
   "metadata": {},
   "outputs": [
    {
     "name": "stdout",
     "output_type": "stream",
     "text": [
      "\n",
      "Total Number of Documents in RAG: 5088\n",
      "\n",
      "=== Random Document Samples ===\n",
      "No data found for document 1002\n",
      "No data found for document 3607\n",
      "No data found for document 560\n",
      "No data found for document 1304\n",
      "No data found for document 3670\n",
      "\n",
      "RAG Database Inspection Completed.\n"
     ]
    }
   ],
   "source": [
    "import chromadb\n",
    "from langchain_chroma import Chroma\n",
    "from langchain_openai import OpenAIEmbeddings\n",
    "import random\n",
    "\n",
    "# Define the path to the vectorstore (RAG system)\n",
    "VECTORSTORE_PATH = \"C:\\chromadb\\landmarks_db\"\n",
    "\n",
    "# Initialize embeddings and vectorstore\n",
    "embeddings = OpenAIEmbeddings()\n",
    "vectorstore = Chroma(persist_directory=VECTORSTORE_PATH, embedding_function=embeddings)\n",
    "\n",
    "# Check the total number of indexed documents\n",
    "num_docs = vectorstore._collection.count()\n",
    "print(f\"\\nTotal Number of Documents in RAG: {num_docs}\")\n",
    "\n",
    "# Retrieve random sample documents to inspect content and metadata\n",
    "sample_size = min(5, num_docs)  # Limit to 5 samples\n",
    "random_indices = random.sample(range(num_docs), sample_size)\n",
    "print(\"\\n=== Random Document Samples ===\")\n",
    "\n",
    "for idx in random_indices:\n",
    "    doc = vectorstore._collection.get(include=[\"metadatas\", \"documents\"], ids=[str(idx)])\n",
    "    \n",
    "    if doc and \"documents\" in doc and len(doc[\"documents\"]) > 0:\n",
    "        doc_content = doc[\"documents\"][0][:500]  # Show first 500 characters\n",
    "        doc_metadata = doc[\"metadatas\"][0] if \"metadatas\" in doc and len(doc[\"metadatas\"]) > 0 else \"No metadata\"\n",
    "        print(f\"\\n**Document {idx}**\")\n",
    "        print(f\"Title: {doc_metadata.get('title', 'Unknown')}\")\n",
    "        print(f\"Metadata: {doc_metadata}\")\n",
    "        print(f\"Content Preview: {doc_content}...\\n\")\n",
    "    else:\n",
    "        print(f\"No data found for document {idx}\")\n",
    "\n",
    "print(\"\\nRAG Database Inspection Completed.\")"
   ]
  },
  {
   "cell_type": "code",
   "execution_count": 82,
   "metadata": {},
   "outputs": [
    {
     "ename": "AttributeError",
     "evalue": "'str' object has no attribute 'metadata'",
     "output_type": "error",
     "traceback": [
      "\u001b[1;31m---------------------------------------------------------------------------\u001b[0m",
      "\u001b[1;31mAttributeError\u001b[0m                            Traceback (most recent call last)",
      "Cell \u001b[1;32mIn[82], line 3\u001b[0m\n\u001b[0;32m      1\u001b[0m sample_docs \u001b[38;5;241m=\u001b[39m vectorstore\u001b[38;5;241m.\u001b[39mget([\u001b[38;5;124m\"\u001b[39m\u001b[38;5;124m1\u001b[39m\u001b[38;5;124m\"\u001b[39m, \u001b[38;5;124m\"\u001b[39m\u001b[38;5;124m2\u001b[39m\u001b[38;5;124m\"\u001b[39m, \u001b[38;5;124m\"\u001b[39m\u001b[38;5;124m3\u001b[39m\u001b[38;5;124m\"\u001b[39m])  \u001b[38;5;66;03m# Retrieve first few stored docs\u001b[39;00m\n\u001b[0;32m      2\u001b[0m \u001b[38;5;28;01mfor\u001b[39;00m doc \u001b[38;5;129;01min\u001b[39;00m sample_docs:\n\u001b[1;32m----> 3\u001b[0m     \u001b[38;5;28mprint\u001b[39m(\u001b[43mdoc\u001b[49m\u001b[38;5;241;43m.\u001b[39;49m\u001b[43mmetadata\u001b[49m)\n\u001b[0;32m      4\u001b[0m     \u001b[38;5;28mprint\u001b[39m(doc\u001b[38;5;241m.\u001b[39mpage_content[:\u001b[38;5;241m200\u001b[39m])  \u001b[38;5;66;03m# Show first 200 characters\u001b[39;00m\n",
      "\u001b[1;31mAttributeError\u001b[0m: 'str' object has no attribute 'metadata'"
     ]
    }
   ],
   "source": [
    "sample_docs = vectorstore.get([\"1\", \"2\", \"3\"])  # Retrieve first few stored docs\n",
    "for doc in sample_docs:\n",
    "    print(doc.metadata)\n",
    "    print(doc.page_content[:200])  # Show first 200 characters"
   ]
  },
  {
   "cell_type": "code",
   "execution_count": 66,
   "metadata": {},
   "outputs": [
    {
     "ename": "AttributeError",
     "evalue": "'str' object has no attribute 'metadata'",
     "output_type": "error",
     "traceback": [
      "\u001b[1;31m---------------------------------------------------------------------------\u001b[0m",
      "\u001b[1;31mAttributeError\u001b[0m                            Traceback (most recent call last)",
      "Cell \u001b[1;32mIn[66], line 4\u001b[0m\n\u001b[0;32m      1\u001b[0m sample_docs \u001b[38;5;241m=\u001b[39m vectorstore\u001b[38;5;241m.\u001b[39mget([\u001b[38;5;124m\"\u001b[39m\u001b[38;5;124m1\u001b[39m\u001b[38;5;124m\"\u001b[39m, \u001b[38;5;124m\"\u001b[39m\u001b[38;5;124m10\u001b[39m\u001b[38;5;124m\"\u001b[39m, \u001b[38;5;124m\"\u001b[39m\u001b[38;5;124m50\u001b[39m\u001b[38;5;124m\"\u001b[39m])  \u001b[38;5;66;03m# Retrieve sample docs\u001b[39;00m\n\u001b[0;32m      3\u001b[0m \u001b[38;5;28;01mfor\u001b[39;00m doc \u001b[38;5;129;01min\u001b[39;00m sample_docs:\n\u001b[1;32m----> 4\u001b[0m     \u001b[38;5;28mprint\u001b[39m(\u001b[38;5;124m\"\u001b[39m\u001b[38;5;124mTitle:\u001b[39m\u001b[38;5;124m\"\u001b[39m, \u001b[43mdoc\u001b[49m\u001b[38;5;241;43m.\u001b[39;49m\u001b[43mmetadata\u001b[49m\u001b[38;5;241m.\u001b[39mget(\u001b[38;5;124m\"\u001b[39m\u001b[38;5;124mtitle\u001b[39m\u001b[38;5;124m\"\u001b[39m, \u001b[38;5;124m\"\u001b[39m\u001b[38;5;124mUnknown\u001b[39m\u001b[38;5;124m\"\u001b[39m))\n\u001b[0;32m      5\u001b[0m     \u001b[38;5;28mprint\u001b[39m(\u001b[38;5;124m\"\u001b[39m\u001b[38;5;124mCategories:\u001b[39m\u001b[38;5;124m\"\u001b[39m, doc\u001b[38;5;241m.\u001b[39mmetadata\u001b[38;5;241m.\u001b[39mget(\u001b[38;5;124m\"\u001b[39m\u001b[38;5;124mcategories\u001b[39m\u001b[38;5;124m\"\u001b[39m, \u001b[38;5;124m\"\u001b[39m\u001b[38;5;124mUnknown\u001b[39m\u001b[38;5;124m\"\u001b[39m))\n\u001b[0;32m      6\u001b[0m     \u001b[38;5;28mprint\u001b[39m(\u001b[38;5;124m\"\u001b[39m\u001b[38;5;124mSnippet:\u001b[39m\u001b[38;5;124m\"\u001b[39m, doc\u001b[38;5;241m.\u001b[39mpage_content[:\u001b[38;5;241m300\u001b[39m], \u001b[38;5;124m\"\u001b[39m\u001b[38;5;124m...\u001b[39m\u001b[38;5;124m\"\u001b[39m)\n",
      "\u001b[1;31mAttributeError\u001b[0m: 'str' object has no attribute 'metadata'"
     ]
    }
   ],
   "source": [
    "sample_docs = vectorstore.get([\"1\", \"10\", \"50\"])  # Retrieve sample docs\n",
    "\n",
    "for doc in sample_docs:\n",
    "    print(\"Title:\", doc.metadata.get(\"title\", \"Unknown\"))\n",
    "    print(\"Categories:\", doc.metadata.get(\"categories\", \"Unknown\"))\n",
    "    print(\"Snippet:\", doc.page_content[:300], \"...\")\n",
    "    print(\"-\" * 80)"
   ]
  },
  {
   "cell_type": "code",
   "execution_count": 67,
   "metadata": {},
   "outputs": [
    {
     "name": "stdout",
     "output_type": "stream",
     "text": [
      "\n",
      "**Document 0**\n",
      "Title: Academia del Perpetuo Socorro\n",
      "Metadata: {'categories': 'Educational Institution, Religion', 'coordinates': '18.45444, -66.08472', 'relevant_links': 'https://en.wikipedia.org/w/index.php?title=Academia_del_Perpetuo_Socorro&oldid=1225685073, https://en.wikipedia.org/wiki/academia_del_perpetuo_socorro', 'title': 'Academia del Perpetuo Socorro'}\n",
      "Content Preview: Contents\n",
      "Academia del Perpetuo Socorro\n",
      "Mrs. Jeannette Sánchez (1-6)\\n\n",
      "Academia del Perpetuo Socorro (English: \"Academy of Our Lady of Perpetual Help\") was founded in 1921 as a Catholic parochial school of the Perpetuo Socorro Parish at the Archdiocese of San Juan, Puerto Rico . The school is located in Miramar in Puerto Rico \\'s capital city of San Juan . Students, teachers and alumni commonly refer to their school as Perpetuo.  \\n\n",
      "Mission\n",
      "The goal of the  Academia del Perpetuo Socorro is the co...\n",
      "\n",
      "\n",
      "**Document 1**\n",
      "Title: Academia Interamericana Metro\n",
      "Metadata: {'categories': 'Educational Institution, Religion', 'coordinates': '18.4485306, -66.0721222', 'relevant_links': 'https://en.wikipedia.org/w/index.php?title=Academia_Interamericana_Metro&action=edit, https://en.wikipedia.org/w/index.php?title=Academia_Interamericana_Metro&oldid=1166002895, https://en.wikipedia.org/wiki/academia_interamericana_metro', 'title': 'Academia Interamericana Metro'}\n",
      "Content Preview: Contents\n",
      "Academia Interamericana Metro\n",
      "The Academia Interamericana Metro (before Academia del Sagrado Corazón ) was founded in 1928 as a private and religious school in Santurce , Puerto Rico by Inter American University of Puerto Rico - Metro Cumpus.  The school provides elementary and high school education and is located in Avenida Ponce de León , at the Parada 19 in Santurce.\\n\n",
      "Before foundation\n",
      "Before the school was founded, a small school affiliated with the church had existed on the curren...\n",
      "\n",
      "\n",
      "**Document 2**\n",
      "Title: Academia Maria Reina\n",
      "Metadata: {'categories': 'Culture, Educational Institution, Food', 'coordinates': '18.383442, -66.085516', 'relevant_links': 'https://en.wikipedia.org/w/index.php?title=Academia_Maria_Reina&oldid=1246262741, https://en.wikipedia.org/wiki/academia_maria_reina', 'title': 'Academia Maria Reina'}\n",
      "Content Preview: Contents\n",
      "Academia Maria Reina\n",
      "Academia Maria Reina is a Catholic middle (7th to 12th) and high school for girls in San Juan , Puerto Rico.  \\n\n",
      "Educative mission\n",
      "Academia Maria Reina is a school of the Sisters of Saint Joseph of Brentwood, New York . The educative mission of this congregation has its roots in the mission of Jesus: to evangelize, to heal, to pardon, to redeem and liberate all, through love that achieves union and reconciliation. During the year 2010-2011, the new 7th graders recei...\n",
      "\n",
      "\n",
      "**Document 3**\n",
      "Title: Academia San Jorge\n",
      "Metadata: {'categories': 'Culture, Educational Institution, Religion', 'coordinates': '18.45056, -66.06167', 'relevant_links': 'https://en.wikipedia.org/w/index.php?title=Academia_San_Jorge&oldid=1093218725, https://en.wikipedia.org/wiki/academia_san_jorge', 'title': 'Academia San Jorge'}\n",
      "Content Preview: Contents\n",
      "Academia San Jorge\n",
      "Academia San Jorge (\"Saint George Academy\") is a private, Roman Catholic school in San Juan, Puerto Rico founded in 1925 by Rev. Msgr. José M. Rivera as a parochial school with 53 students from grades K-3. Shortly after, the school started construction on the first building , which still exists today, and added grades 4-12.  The school is located on San Jorge Avenue in San Juan\\'s Santurce district.\\n\n",
      "History...\n",
      "\n",
      "\n",
      "**Document 4**\n",
      "Title: Academia San Jorge\n",
      "Metadata: {'categories': 'Culture, Educational Institution, Religion', 'coordinates': '18.45056, -66.06167', 'relevant_links': 'https://en.wikipedia.org/w/index.php?title=Academia_San_Jorge&oldid=1093218725, https://en.wikipedia.org/wiki/academia_san_jorge', 'title': 'Academia San Jorge'}\n",
      "Content Preview: History\n",
      "In 1939, the Sisters of St. Joseph came to teach and administer the school until their departure in 1973. \\n\n",
      "In 1959, its founder Msgr. José M. Rivera died and was replaced as parish priest by father Benito Cabrera. Father Cabrera started a campaign to remodel the school and the church, but was replaced in 1962 by Msgr. Thomas Maysonet who administered the school until 1972. \\n...\n",
      "\n"
     ]
    }
   ],
   "source": [
    "# Retrieve a few available documents\n",
    "doc_sample = vectorstore._collection.get(include=[\"metadatas\", \"documents\"], limit=5)  # Get first 5 docs\n",
    "\n",
    "if doc_sample and \"documents\" in doc_sample:\n",
    "    for i in range(len(doc_sample[\"documents\"])):\n",
    "        doc_content = doc_sample[\"documents\"][i][:500]  # First 500 characters\n",
    "        doc_metadata = doc_sample[\"metadatas\"][i] if \"metadatas\" in doc_sample else \"No metadata\"\n",
    "        \n",
    "        print(f\"\\n**Document {i}**\")\n",
    "        print(f\"Title: {doc_metadata.get('title', 'Unknown')}\")\n",
    "        print(f\"Metadata: {doc_metadata}\")\n",
    "        print(f\"Content Preview: {doc_content}...\\n\")\n",
    "else:\n",
    "    print(\"No documents retrieved from the collection.\")"
   ]
  },
  {
   "cell_type": "code",
   "execution_count": 83,
   "metadata": {},
   "outputs": [
    {
     "name": "stdout",
     "output_type": "stream",
     "text": [
      "{'ids': ['ddc0eddf-0a85-4bb1-a8a3-2a392c587222', '68857fa8-2905-43b3-8690-671d76a9b8e1', '27897e93-9505-43e9-a9c4-2f0c1d0e4538', '6610138d-be5f-4ef9-b247-5adc6c6e80f6', 'f5bfd013-a0d5-4305-a1e4-6c8bea0802ec'], 'embeddings': None, 'documents': ['Contents\\nAcademia del Perpetuo Socorro\\nMrs. Jeannette Sánchez (1-6)\\\\n\\nAcademia del Perpetuo Socorro (English: \"Academy of Our Lady of Perpetual Help\") was founded in 1921 as a Catholic parochial school of the Perpetuo Socorro Parish at the Archdiocese of San Juan, Puerto Rico . The school is located in Miramar in Puerto Rico \\\\\\'s capital city of San Juan . Students, teachers and alumni commonly refer to their school as Perpetuo.  \\\\n\\nMission\\nThe goal of the  Academia del Perpetuo Socorro is the complete development of the student - spiritually, mentally, morally, socially, culturally, and physically in order to live a full life and to prepare for his/her final goal - union with God. To this end, the school works to create a Catholic academic community in which faith, knowledge, and recreation are shared in a spirit of freedom, love, and creativity. The school, however, does not emphasize religion over other subjects, accepts students of all faiths and does not impose religious requirements such as baptism, confirmation or church attendance as a condition for continued attendance.\\\\n\\nMotto\\n\"Esto Perpetua\" translated as \"This Endures\" stressing how the Catholic values and formal academic education learned at this school, symbolized in the school seal by the oil lamp over the open book, (as in burning the midnight oil) are to permeate individuals and society forever.\\\\n\\nClubs\\nSports teams\\nAcademia del Perpetuo Socorro has the largest gymnasium in the Caribbean. This gymnasium has three wooden volleyball courts that can also be transformed into two basketball courts. The gymnasium also has a small gym where athletes, faculty members, and students can go to do exercise.\\\\n\\nPerpetuo has a varsity program in ten sports:\\\\n\\nIn popular media\\nThe school is featured prominently in Magali García Ramis \\\\\\'s novel Felices Días, Tío Sergio . The school was the main film location for the movie Casi casi (2006) and forms the basis for the fictional school featured in the film.\\\\n\\nNotable alumni\\nReferences', 'Contents\\nAcademia Interamericana Metro\\nThe Academia Interamericana Metro (before Academia del Sagrado Corazón ) was founded in 1928 as a private and religious school in Santurce , Puerto Rico by Inter American University of Puerto Rico - Metro Cumpus.  The school provides elementary and high school education and is located in Avenida Ponce de León , at the Parada 19 in Santurce.\\\\n\\nBefore foundation\\nBefore the school was founded, a small school affiliated with the church had existed on the current parking lot grounds of the church.  This early school was housed in a wooden structure that was destroyed when Hurricane Philip struck Puerto Rico in 1928.  This early school had only been an elementary school that had added a new grade every year.  \\\\n\\nReferences\\nExternal links\\n\\\\n\\nThis Puerto Rican school-related article is a stub . You can help Wikipedia by expanding it .\\nThis article about a Catholic school is a stub . You can help Wikipedia by expanding it .', 'Contents\\nAcademia Maria Reina\\nAcademia Maria Reina is a Catholic middle (7th to 12th) and high school for girls in San Juan , Puerto Rico.  \\\\n\\nEducative mission\\nAcademia Maria Reina is a school of the Sisters of Saint Joseph of Brentwood, New York . The educative mission of this congregation has its roots in the mission of Jesus: to evangelize, to heal, to pardon, to redeem and liberate all, through love that achieves union and reconciliation. During the year 2010-2011, the new 7th graders received the record of the most entries in the academy ever in school history. As they say in Academia Maria Reina: \"Fuerza Conlleva Honor\", which means \"Strength Carries Honor\". The Academia Maria Reina is one of the most prestigious schools for girls in Puerto Rico, where girls are educated by qualified teachers, who are paid an American salary scale above $ 25 per hour to $ 27 an hour. \\\\n\\nPhilosophy\\nAcademia Maria Reina is a Catholic private middle school and high school. It is dedicated to the total development of its students, that aspire to continue university studies and doing so with authentically Christian values. The goal of the school is the growth of its students in the Catholic faith and the development of a critical mind. The final goal is to have students be agents of their own development and simultaneously be at the service of the community in which they live in order for this society to be equal to all. Academia Maria Reina, conscientious of its philosophy, aspires to help develop a well rounded Puerto Rican woman of faith and devoted to her society. \\\\n\\nFrom 7-10 grades, the students will many electives as options and they choose one, some of these include dance, art, French, Italian, culinary arts (cooking), theater, creative writing, public speaking, and much more. The students of 11th will receive few electives and will choose two, and the 12th graders choose three electives. Starting in 10th grade, the students will get to learn from different AP courses such as calculus, world history, U.S. history, and more. In each grade in all of the school, the students are given different one-semester classes, such as, in 7th grade, the students pass or fail from Computer Science and English Literature. In 8th grade, the students exercise in Physical Education and Computer Application; in 9th grade, the students take Women Values and Sexuality with \\\\\\'drafting\\\\\\'; in 10th grade, the students once again have Physical Education and so on. Students also have an 8 day cycle schedule, once a cycle they have guidance class with the grade guidance counselor in which they discuss different things.\\\\n\\nThe school did fund-raising events after Hurricane Maria devastated Puerto Rico on September 20, 2017.  \\\\n\\nNotable alumni\\nReferences', 'Contents\\nAcademia San Jorge\\nAcademia San Jorge (\"Saint George Academy\") is a private, Roman Catholic school in San Juan, Puerto Rico founded in 1925 by Rev. Msgr. José M. Rivera as a parochial school with 53 students from grades K-3. Shortly after, the school started construction on the first building , which still exists today, and added grades 4-12.  The school is located on San Jorge Avenue in San Juan\\\\\\'s Santurce district.\\\\n\\nHistory', 'History\\nIn 1939, the Sisters of St. Joseph came to teach and administer the school until their departure in 1973. \\\\n\\nIn 1959, its founder Msgr. José M. Rivera died and was replaced as parish priest by father Benito Cabrera. Father Cabrera started a campaign to remodel the school and the church, but was replaced in 1962 by Msgr. Thomas Maysonet who administered the school until 1972. \\\\n'], 'uris': None, 'data': None, 'metadatas': [{'categories': 'Educational Institution, Religion', 'coordinates': '18.45444, -66.08472', 'relevant_links': 'https://en.wikipedia.org/w/index.php?title=Academia_del_Perpetuo_Socorro&oldid=1225685073, https://en.wikipedia.org/wiki/academia_del_perpetuo_socorro', 'title': 'Academia del Perpetuo Socorro'}, {'categories': 'Educational Institution, Religion', 'coordinates': '18.4485306, -66.0721222', 'relevant_links': 'https://en.wikipedia.org/w/index.php?title=Academia_Interamericana_Metro&action=edit, https://en.wikipedia.org/w/index.php?title=Academia_Interamericana_Metro&oldid=1166002895, https://en.wikipedia.org/wiki/academia_interamericana_metro', 'title': 'Academia Interamericana Metro'}, {'categories': 'Culture, Educational Institution, Food', 'coordinates': '18.383442, -66.085516', 'relevant_links': 'https://en.wikipedia.org/w/index.php?title=Academia_Maria_Reina&oldid=1246262741, https://en.wikipedia.org/wiki/academia_maria_reina', 'title': 'Academia Maria Reina'}, {'categories': 'Culture, Educational Institution, Religion', 'coordinates': '18.45056, -66.06167', 'relevant_links': 'https://en.wikipedia.org/w/index.php?title=Academia_San_Jorge&oldid=1093218725, https://en.wikipedia.org/wiki/academia_san_jorge', 'title': 'Academia San Jorge'}, {'categories': 'Culture, Educational Institution, Religion', 'coordinates': '18.45056, -66.06167', 'relevant_links': 'https://en.wikipedia.org/w/index.php?title=Academia_San_Jorge&oldid=1093218725, https://en.wikipedia.org/wiki/academia_san_jorge', 'title': 'Academia San Jorge'}], 'included': [<IncludeEnum.documents: 'documents'>, <IncludeEnum.metadatas: 'metadatas'>]}\n"
     ]
    }
   ],
   "source": [
    "# Retrieve and inspect the first 5 documents stored in the database\n",
    "sample_docs = vectorstore._collection.get(include=[\"documents\", \"metadatas\"], limit=5)\n",
    "print(sample_docs)"
   ]
  },
  {
   "cell_type": "code",
   "execution_count": 87,
   "metadata": {},
   "outputs": [
    {
     "name": "stdout",
     "output_type": "stream",
     "text": [
      "\n",
      "Title: El Yunque National Forest\n",
      "Similarity Score: N/A\n",
      "Content Preview: Contents\n",
      "El Yunque National Forest\n",
      "El Yunque National Forest , formerly known as the Caribbean National Forest (or Bosque Nacional del Caribe ),   is a forest located in northeastern Puerto Rico . While there are both temperate and tropical rainforests in other states and territories, it is the only...\n",
      "\n",
      "\n",
      "Title: El Yunque National Forest\n",
      "Similarity Score: N/A\n",
      "Content Preview: Recreation\n",
      "In addition to being an important ecological forest reserve, El Yunque National Forest is one of the most popular tourist attractions in Puerto Rico,  both for locals and visitors, and it offers numerous recreational opportunities such as picnicking, birdwatching, and biking in designated...\n",
      "\n",
      "\n",
      "Title: El Yunque National Forest\n",
      "Similarity Score: N/A\n",
      "Content Preview: History\n",
      "\\nThe area of the El Yunque National Forest has been notable since the pre-Columbian era. The forest today is home to several archaeological sites related to the indigenous Taínos , such as the Río Blanco petroglyphs , although no evidence of permanent settlement has been found in the area, ...\n",
      "\n",
      "\n",
      "Title: El Yunque National Forest\n",
      "Similarity Score: N/A\n",
      "Content Preview: Pico El Yunque Trail (or just El Yunque Trail) is the main hiking trail (or at least the most popular) [ citation needed ] of the forest and it extends for about 5.4 miles that lead to the summit of El Yunque , the second highest point of the Sierra de Luquillo. Although considered moderate in diffi...\n",
      "\n",
      "\n",
      "Title: El Yunque National Forest\n",
      "Similarity Score: N/A\n",
      "Content Preview: Miscellaneous\n",
      "El Yunque National Forest has been incorrectly called the only rainforest in the United States National Forest Service, [ note 1 ] but it is actually the only tropical rainforest.  There are others that are temperate rainforests including some in Alaska and the Pacific Northwest .  \\n\n",
      "...\n",
      "\n"
     ]
    }
   ],
   "source": [
    "query = \"Tell me about El Yunque National Forest.\"\n",
    "docs = vectorstore.similarity_search(query, k=5)\n",
    "\n",
    "for doc in docs:\n",
    "    print(f\"\\nTitle: {doc.metadata.get('title', 'Unknown')}\")\n",
    "    print(f\"Similarity Score: {doc.metadata.get('similarity', 'N/A')}\")\n",
    "    print(f\"Content Preview: {doc.page_content[:300]}...\\n\")"
   ]
  },
  {
   "cell_type": "code",
   "execution_count": 70,
   "metadata": {},
   "outputs": [
    {
     "name": "stdout",
     "output_type": "stream",
     "text": [
      "Total Number of Indexed Documents: 0\n",
      "Unique Titles in RAG: 0 (duplicates exist if this is lower than total docs)\n",
      "Category Distribution:\n"
     ]
    }
   ],
   "source": [
    "import chromadb\n",
    "\n",
    "# Load the vectorstore\n",
    "VECTORSTORE_PATH = r\"C:\\chromadb\\landmarks_db\"\n",
    "vectorstore = chromadb.PersistentClient(path=VECTORSTORE_PATH).get_or_create_collection(name=\"landmarks\")\n",
    "\n",
    "# Get all documents\n",
    "all_documents = vectorstore.get(include=[\"documents\", \"metadatas\"])\n",
    "\n",
    "# Extract metadata\n",
    "metadata_list = all_documents[\"metadatas\"]\n",
    "\n",
    "# 1️ Check total number of indexed documents\n",
    "num_docs = len(metadata_list)\n",
    "print(f\"Total Number of Indexed Documents: {num_docs}\")\n",
    "\n",
    "# 2️ Check unique titles to detect duplicate entries\n",
    "unique_titles = set(meta.get(\"title\", \"Unknown Title\") for meta in metadata_list)\n",
    "print(f\"Unique Titles in RAG: {len(unique_titles)} (duplicates exist if this is lower than total docs)\")\n",
    "\n",
    "# 3️ Verify metadata completeness\n",
    "missing_metadata = [meta for meta in metadata_list if not all(k in meta for k in [\"title\", \"coordinates\", \"categories\"])]\n",
    "if missing_metadata:\n",
    "    print(f\"{len(missing_metadata)} documents are missing metadata fields.\")\n",
    "\n",
    "# 4️ Check category distribution\n",
    "category_counts = {}\n",
    "for meta in metadata_list:\n",
    "    categories = meta.get(\"categories\", \"Unknown\").split(\", \")\n",
    "    for category in categories:\n",
    "        category_counts[category] = category_counts.get(category, 0) + 1\n",
    "\n",
    "print(\"Category Distribution:\")\n",
    "for category, count in sorted(category_counts.items(), key=lambda x: x[1], reverse=True):\n",
    "    print(f\"  - {category}: {count} documents\")\n",
    "\n",
    "# 5️ Identify documents without categories\n",
    "no_category_docs = [meta[\"title\"] for meta in metadata_list if meta.get(\"categories\") in [None, \"\", \"Unknown\"]]\n",
    "if no_category_docs:\n",
    "    print(f\"{len(no_category_docs)} documents are missing categories.\")\n",
    "    print(\"Sample missing category docs:\", no_category_docs[:5])\n",
    "\n",
    "# 6️ Check if coordinates exist for all landmarks\n",
    "missing_coordinates = [meta[\"title\"] for meta in metadata_list if meta.get(\"coordinates\") in [None, \"\", \"Unknown\"]]\n",
    "if missing_coordinates:\n",
    "    print(f\"{len(missing_coordinates)} documents are missing coordinates.\")\n",
    "    print(\"Sample missing coordinate docs:\", missing_coordinates[:5])\n"
   ]
  },
  {
   "cell_type": "code",
   "execution_count": 71,
   "metadata": {},
   "outputs": [
    {
     "ename": "AttributeError",
     "evalue": "'Collection' object has no attribute '_collection'",
     "output_type": "error",
     "traceback": [
      "\u001b[1;31m---------------------------------------------------------------------------\u001b[0m",
      "\u001b[1;31mAttributeError\u001b[0m                            Traceback (most recent call last)",
      "Cell \u001b[1;32mIn[71], line 4\u001b[0m\n\u001b[0;32m      1\u001b[0m \u001b[38;5;28;01mimport\u001b[39;00m\u001b[38;5;250m \u001b[39m\u001b[38;5;21;01mnumpy\u001b[39;00m\u001b[38;5;250m \u001b[39m\u001b[38;5;28;01mas\u001b[39;00m\u001b[38;5;250m \u001b[39m\u001b[38;5;21;01mnp\u001b[39;00m\n\u001b[0;32m      3\u001b[0m query_embedding \u001b[38;5;241m=\u001b[39m embedding_model\u001b[38;5;241m.\u001b[39membed_query(\u001b[38;5;124m\"\u001b[39m\u001b[38;5;124mhistorical landmarks in San Juan\u001b[39m\u001b[38;5;124m\"\u001b[39m)\n\u001b[1;32m----> 4\u001b[0m doc_embedding \u001b[38;5;241m=\u001b[39m \u001b[43mvectorstore\u001b[49m\u001b[38;5;241;43m.\u001b[39;49m\u001b[43m_collection\u001b[49m\u001b[38;5;241m.\u001b[39mget(ids\u001b[38;5;241m=\u001b[39m[\u001b[38;5;124m\"\u001b[39m\u001b[38;5;124m1\u001b[39m\u001b[38;5;124m\"\u001b[39m])[\u001b[38;5;124m\"\u001b[39m\u001b[38;5;124membeddings\u001b[39m\u001b[38;5;124m\"\u001b[39m][\u001b[38;5;241m0\u001b[39m]\n\u001b[0;32m      6\u001b[0m similarity \u001b[38;5;241m=\u001b[39m np\u001b[38;5;241m.\u001b[39mdot(query_embedding, doc_embedding) \u001b[38;5;241m/\u001b[39m (np\u001b[38;5;241m.\u001b[39mlinalg\u001b[38;5;241m.\u001b[39mnorm(query_embedding) \u001b[38;5;241m*\u001b[39m np\u001b[38;5;241m.\u001b[39mlinalg\u001b[38;5;241m.\u001b[39mnorm(doc_embedding))\n\u001b[0;32m      8\u001b[0m \u001b[38;5;28mprint\u001b[39m(\u001b[38;5;124mf\u001b[39m\u001b[38;5;124m\"\u001b[39m\u001b[38;5;124mCosine similarity between query and doc[1]: \u001b[39m\u001b[38;5;132;01m{\u001b[39;00msimilarity\u001b[38;5;132;01m:\u001b[39;00m\u001b[38;5;124m.4f\u001b[39m\u001b[38;5;132;01m}\u001b[39;00m\u001b[38;5;124m\"\u001b[39m)\n",
      "\u001b[1;31mAttributeError\u001b[0m: 'Collection' object has no attribute '_collection'"
     ]
    }
   ],
   "source": [
    "import numpy as np\n",
    "\n",
    "query_embedding = embedding_model.embed_query(\"historical landmarks in San Juan\")\n",
    "doc_embedding = vectorstore._collection.get(ids=[\"1\"])[\"embeddings\"][0]\n",
    "\n",
    "similarity = np.dot(query_embedding, doc_embedding) / (np.linalg.norm(query_embedding) * np.linalg.norm(doc_embedding))\n",
    "\n",
    "print(f\"Cosine similarity between query and doc[1]: {similarity:.4f}\")"
   ]
  },
  {
   "cell_type": "code",
   "execution_count": 73,
   "metadata": {},
   "outputs": [
    {
     "name": "stdout",
     "output_type": "stream",
     "text": [
      "First 5 docs before indexing: [Document(id='674e4d75-9bac-4573-bfc4-fe1cc3be6e0e', metadata={'categories': 'Beach, Culture, Extreme Adventure, Family-Friendly, Food, Outdoor, Soft Adventure, Wildlife', 'coordinates': '18.317, -65.783', 'relevant_links': 'https://es.wikipedia.org/wiki/Bosque_nacional_El_Yunque, https://en.wikivoyage.org/wiki/El_Yunque_National_Forest, https://en.wikipedia.org/w/index.php?title=El_Yunque_National_Forest&oldid=1247942399, https://www.discoverpuertorico.com/list/top-places-to-see-puerto-rico#!grid~~~random~1, https://en.wikipedia.org/wiki/el_yunque_national_forest', 'title': 'El Yunque National Forest'}, page_content='Contents\\nEl Yunque National Forest\\nEl Yunque National Forest , formerly known as the Caribbean National Forest (or Bosque Nacional del Caribe ),   is a forest located in northeastern Puerto Rico . While there are both temperate and tropical rainforests in other states and territories, it is the only tropical rainforest in the United States National Forest System and the United States Forest Service .  El Yunque National Forest is located on the slopes of the Sierra de Luquillo mountains, encompassing more than 28,000 acres (43.753\\xa0mi 2 or 113.32\\xa0km 2 ) of land, making it the largest block of public land in Puerto Rico .\\\\n\\nThe forest contains and is named after named Pico El Yunque , the second highest mountain in the Sierra de Luquillo . Other peaks within the national forest are Pico del Este , Pico del Oeste, El Cacique and the highest peak, El Toro , which is the highest point in the national forest and in eastern Puerto Rico rising 3,494 feet (1,065 m) above sea level.\\\\n'), Document(id='c730ddea-2af1-4b40-aaf3-ecf0c15c30b6', metadata={'categories': 'Beach, Culture, Extreme Adventure, Family-Friendly, Food, Outdoor, Soft Adventure, Wildlife', 'coordinates': '18.317, -65.783', 'relevant_links': 'https://es.wikipedia.org/wiki/Bosque_nacional_El_Yunque, https://en.wikivoyage.org/wiki/El_Yunque_National_Forest, https://en.wikipedia.org/w/index.php?title=El_Yunque_National_Forest&oldid=1247942399, https://www.discoverpuertorico.com/list/top-places-to-see-puerto-rico#!grid~~~random~1, https://en.wikipedia.org/wiki/el_yunque_national_forest', 'title': 'El Yunque National Forest'}, page_content='Recreation\\nIn addition to being an important ecological forest reserve, El Yunque National Forest is one of the most popular tourist attractions in Puerto Rico,  both for locals and visitors, and it offers numerous recreational opportunities such as picnicking, birdwatching, and biking in designated areas. Camping is allowed in designated areas (depending on the size of the group) and there are also cabins available for rent. Additionally, the forest is known for its vista points and observation towers: Yokahu Tower and Mount Britton Tower.  \\\\n\\nHiking is probably the most popular activity in El Yunque National Forest.  The forest offers several trails with varying difficulties.  The 35.9 mile (57.8\\xa0km) long Puerto Rican Northeast Trail also connects to and traverses through El Yunque.  \\\\n'), Document(id='21d7b355-bde7-4eb9-a5c3-425863df24d3', metadata={'categories': 'Beach, Culture, Extreme Adventure, Family-Friendly, Food, Outdoor, Soft Adventure, Wildlife', 'coordinates': '18.317, -65.783', 'relevant_links': 'https://es.wikipedia.org/wiki/Bosque_nacional_El_Yunque, https://en.wikivoyage.org/wiki/El_Yunque_National_Forest, https://en.wikipedia.org/w/index.php?title=El_Yunque_National_Forest&oldid=1247942399, https://www.discoverpuertorico.com/list/top-places-to-see-puerto-rico#!grid~~~random~1, https://en.wikipedia.org/wiki/el_yunque_national_forest', 'title': 'El Yunque National Forest'}, page_content='History\\n\\\\nThe area of the El Yunque National Forest has been notable since the pre-Columbian era. The forest today is home to several archaeological sites related to the indigenous Taínos , such as the Río Blanco petroglyphs , although no evidence of permanent settlement has been found in the area, which suggests that it was possibly avoided and most likely considered sacred .'), Document(id='13569c56-2a23-4303-95c4-031acd323e1c', metadata={'categories': 'Beach, Culture, Extreme Adventure, Family-Friendly, Food, Outdoor, Soft Adventure, Wildlife', 'coordinates': '18.317, -65.783', 'relevant_links': 'https://es.wikipedia.org/wiki/Bosque_nacional_El_Yunque, https://en.wikivoyage.org/wiki/El_Yunque_National_Forest, https://en.wikipedia.org/w/index.php?title=El_Yunque_National_Forest&oldid=1247942399, https://www.discoverpuertorico.com/list/top-places-to-see-puerto-rico#!grid~~~random~1, https://en.wikipedia.org/wiki/el_yunque_national_forest', 'title': 'El Yunque National Forest'}, page_content='Pico El Yunque Trail (or just El Yunque Trail) is the main hiking trail (or at least the most popular) [ citation needed ] of the forest and it extends for about 5.4 miles that lead to the summit of El Yunque , the second highest point of the Sierra de Luquillo. Although considered moderate in difficulty, some of its side trails are considered to be more challenging; the trail itself has an elevation gain of 1,748 feet. The trailhead is located close to the end of PR-191 and La Mina Falls, next to the Palo Colorado Information Center, in an area of the national forest often referred to as the La Mina Recreational Area. The trail crosses all four biomes of the national forest. It is open year-round and dogs are also allowed on this trail but must be kept on a leash at all times.   \\\\n'), Document(id='ca49f343-29ae-4b48-b908-a36d7096c83a', metadata={'categories': 'Beach, Culture, Extreme Adventure, Family-Friendly, Food, Outdoor, Soft Adventure, Wildlife', 'coordinates': '18.317, -65.783', 'relevant_links': 'https://es.wikipedia.org/wiki/Bosque_nacional_El_Yunque, https://en.wikivoyage.org/wiki/El_Yunque_National_Forest, https://en.wikipedia.org/w/index.php?title=El_Yunque_National_Forest&oldid=1247942399, https://www.discoverpuertorico.com/list/top-places-to-see-puerto-rico#!grid~~~random~1, https://en.wikipedia.org/wiki/el_yunque_national_forest', 'title': 'El Yunque National Forest'}, page_content='Miscellaneous\\nEl Yunque National Forest has been incorrectly called the only rainforest in the United States National Forest Service, [ note 1 ] but it is actually the only tropical rainforest.  There are others that are temperate rainforests including some in Alaska and the Pacific Northwest .  \\\\n\\nIn 2002, the U.S. Congress designated areas bounded by the Río Mameyes , Río de la Mina , and Río Icacos in the Caribbean National Forest as components of the National Wild and Scenic Rivers System .  \\\\n\\nContrary to the popular assumption, El Yunque Peak is not the highest mountain in either the Sierra de Luquillo or Puerto Rico. The highest mountain of the Sierra de Luquillo is El Toro , also located in the national forest, while the highest mountain in Puerto Rico is Cerro de Punta in the Cordillera Central on the border between Jayuya and Ponce .  \\\\n')]\n"
     ]
    }
   ],
   "source": [
    "print(f\"First 5 docs before indexing: {docs[:5]}\")"
   ]
  },
  {
   "cell_type": "code",
   "execution_count": 74,
   "metadata": {},
   "outputs": [
    {
     "ename": "AttributeError",
     "evalue": "'Collection' object has no attribute '_collection'",
     "output_type": "error",
     "traceback": [
      "\u001b[1;31m---------------------------------------------------------------------------\u001b[0m",
      "\u001b[1;31mAttributeError\u001b[0m                            Traceback (most recent call last)",
      "Cell \u001b[1;32mIn[74], line 1\u001b[0m\n\u001b[1;32m----> 1\u001b[0m sample_docs \u001b[38;5;241m=\u001b[39m \u001b[43mvectorstore\u001b[49m\u001b[38;5;241;43m.\u001b[39;49m\u001b[43m_collection\u001b[49m\u001b[38;5;241m.\u001b[39mget(include\u001b[38;5;241m=\u001b[39m[\u001b[38;5;124m\"\u001b[39m\u001b[38;5;124mdocuments\u001b[39m\u001b[38;5;124m\"\u001b[39m, \u001b[38;5;124m\"\u001b[39m\u001b[38;5;124mmetadatas\u001b[39m\u001b[38;5;124m\"\u001b[39m], limit\u001b[38;5;241m=\u001b[39m\u001b[38;5;241m5\u001b[39m)\n",
      "\u001b[1;31mAttributeError\u001b[0m: 'Collection' object has no attribute '_collection'"
     ]
    }
   ],
   "source": [
    "sample_docs = vectorstore._collection.get(include=[\"documents\", \"metadatas\"], limit=5)"
   ]
  },
  {
   "cell_type": "code",
   "execution_count": 84,
   "metadata": {},
   "outputs": [
    {
     "name": "stdout",
     "output_type": "stream",
     "text": [
      "Total documents in vectorstore: 5088\n"
     ]
    }
   ],
   "source": [
    "print(f\"Total documents in vectorstore: {vectorstore._collection.count()}\")"
   ]
  },
  {
   "cell_type": "code",
   "execution_count": 85,
   "metadata": {},
   "outputs": [
    {
     "name": "stdout",
     "output_type": "stream",
     "text": [
      "\n",
      "**Document 0**\n",
      "Title: Academia del Perpetuo Socorro\n",
      "Metadata: {'categories': 'Educational Institution, Religion', 'coordinates': '18.45444, -66.08472', 'relevant_links': 'https://en.wikipedia.org/w/index.php?title=Academia_del_Perpetuo_Socorro&oldid=1225685073, https://en.wikipedia.org/wiki/academia_del_perpetuo_socorro', 'title': 'Academia del Perpetuo Socorro'}\n",
      "Content Preview: Contents\n",
      "Academia del Perpetuo Socorro\n",
      "Mrs. Jeannette Sánchez (1-6)\\n\n",
      "Academia del Perpetuo Socorro (English: \"Academy of Our Lady of Perpetual Help\") was founded in 1921 as a Catholic parochial school of the Perpetuo Socorro Parish at the Archdiocese of San Juan, Puerto Rico . The school is located in Miramar in Puerto Rico \\'s capital city of San Juan . Students, teachers and alumni commonly refer to their school as Perpetuo.  \\n\n",
      "Mission\n",
      "The goal of the  Academia del Perpetuo Socorro is the co...\n",
      "\n",
      "\n",
      "**Document 1**\n",
      "Title: Academia Interamericana Metro\n",
      "Metadata: {'categories': 'Educational Institution, Religion', 'coordinates': '18.4485306, -66.0721222', 'relevant_links': 'https://en.wikipedia.org/w/index.php?title=Academia_Interamericana_Metro&action=edit, https://en.wikipedia.org/w/index.php?title=Academia_Interamericana_Metro&oldid=1166002895, https://en.wikipedia.org/wiki/academia_interamericana_metro', 'title': 'Academia Interamericana Metro'}\n",
      "Content Preview: Contents\n",
      "Academia Interamericana Metro\n",
      "The Academia Interamericana Metro (before Academia del Sagrado Corazón ) was founded in 1928 as a private and religious school in Santurce , Puerto Rico by Inter American University of Puerto Rico - Metro Cumpus.  The school provides elementary and high school education and is located in Avenida Ponce de León , at the Parada 19 in Santurce.\\n\n",
      "Before foundation\n",
      "Before the school was founded, a small school affiliated with the church had existed on the curren...\n",
      "\n",
      "\n",
      "**Document 2**\n",
      "Title: Academia Maria Reina\n",
      "Metadata: {'categories': 'Culture, Educational Institution, Food', 'coordinates': '18.383442, -66.085516', 'relevant_links': 'https://en.wikipedia.org/w/index.php?title=Academia_Maria_Reina&oldid=1246262741, https://en.wikipedia.org/wiki/academia_maria_reina', 'title': 'Academia Maria Reina'}\n",
      "Content Preview: Contents\n",
      "Academia Maria Reina\n",
      "Academia Maria Reina is a Catholic middle (7th to 12th) and high school for girls in San Juan , Puerto Rico.  \\n\n",
      "Educative mission\n",
      "Academia Maria Reina is a school of the Sisters of Saint Joseph of Brentwood, New York . The educative mission of this congregation has its roots in the mission of Jesus: to evangelize, to heal, to pardon, to redeem and liberate all, through love that achieves union and reconciliation. During the year 2010-2011, the new 7th graders recei...\n",
      "\n",
      "\n",
      "**Document 3**\n",
      "Title: Academia San Jorge\n",
      "Metadata: {'categories': 'Culture, Educational Institution, Religion', 'coordinates': '18.45056, -66.06167', 'relevant_links': 'https://en.wikipedia.org/w/index.php?title=Academia_San_Jorge&oldid=1093218725, https://en.wikipedia.org/wiki/academia_san_jorge', 'title': 'Academia San Jorge'}\n",
      "Content Preview: Contents\n",
      "Academia San Jorge\n",
      "Academia San Jorge (\"Saint George Academy\") is a private, Roman Catholic school in San Juan, Puerto Rico founded in 1925 by Rev. Msgr. José M. Rivera as a parochial school with 53 students from grades K-3. Shortly after, the school started construction on the first building , which still exists today, and added grades 4-12.  The school is located on San Jorge Avenue in San Juan\\'s Santurce district.\\n\n",
      "History...\n",
      "\n",
      "\n",
      "**Document 4**\n",
      "Title: Academia San Jorge\n",
      "Metadata: {'categories': 'Culture, Educational Institution, Religion', 'coordinates': '18.45056, -66.06167', 'relevant_links': 'https://en.wikipedia.org/w/index.php?title=Academia_San_Jorge&oldid=1093218725, https://en.wikipedia.org/wiki/academia_san_jorge', 'title': 'Academia San Jorge'}\n",
      "Content Preview: History\n",
      "In 1939, the Sisters of St. Joseph came to teach and administer the school until their departure in 1973. \\n\n",
      "In 1959, its founder Msgr. José M. Rivera died and was replaced as parish priest by father Benito Cabrera. Father Cabrera started a campaign to remodel the school and the church, but was replaced in 1962 by Msgr. Thomas Maysonet who administered the school until 1972. \\n...\n",
      "\n"
     ]
    }
   ],
   "source": [
    "# Retrieve a sample of stored documents\n",
    "sample_docs = vectorstore._collection.get(include=[\"documents\", \"metadatas\"], limit=5)\n",
    "\n",
    "# Check if documents exist\n",
    "if \"documents\" in sample_docs and sample_docs[\"documents\"]:\n",
    "    for i in range(len(sample_docs[\"documents\"])):\n",
    "        doc_content = sample_docs[\"documents\"][i][:500]  # First 500 characters\n",
    "        doc_metadata = sample_docs[\"metadatas\"][i] if \"metadatas\" in sample_docs else \"No metadata\"\n",
    "\n",
    "        print(f\"\\n**Document {i}**\")\n",
    "        print(f\"Title: {doc_metadata.get('title', 'Unknown')}\")\n",
    "        print(f\"Metadata: {doc_metadata}\")\n",
    "        print(f\"Content Preview: {doc_content}...\\n\")\n",
    "else:\n",
    "    print(\"No documents retrieved from the collection.\")"
   ]
  },
  {
   "cell_type": "code",
   "execution_count": 86,
   "metadata": {},
   "outputs": [
    {
     "name": "stdout",
     "output_type": "stream",
     "text": [
      "Cosine similarity between query and first document: 0.7663\n"
     ]
    }
   ],
   "source": [
    "import numpy as np\n",
    "\n",
    "# Generate an embedding for a sample query\n",
    "query_embedding = embedding_model.embed_query(\"historical landmarks in San Juan\")\n",
    "\n",
    "# Retrieve embeddings for a stored document\n",
    "doc_embedding = vectorstore._collection.get(include=[\"embeddings\"], limit=1)[\"embeddings\"][0]\n",
    "\n",
    "# Compute cosine similarity\n",
    "similarity = np.dot(query_embedding, doc_embedding) / (np.linalg.norm(query_embedding) * np.linalg.norm(doc_embedding))\n",
    "\n",
    "print(f\"Cosine similarity between query and first document: {similarity:.4f}\")"
   ]
  },
  {
   "cell_type": "markdown",
   "metadata": {},
   "source": [
    "# **Pre-RAG Verification Code (Full Implementation)**"
   ]
  },
  {
   "cell_type": "code",
   "execution_count": null,
   "metadata": {},
   "outputs": [],
   "source": [
    "import chromadb\n",
    "import pandas as pd\n",
    "from langchain.vectorstores import Chroma\n",
    "from langchain_openai import OpenAIEmbeddings\n",
    "\n",
    "# Define the path to the vectorstore (RAG system)\n",
    "VECTORSTORE_PATH = \"/path/to/chromadb/landmarks_db\"  # Update this with the actual path\n",
    "\n",
    "# Initialize embeddings and vectorstore\n",
    "embeddings = OpenAIEmbeddings()\n",
    "vectorstore = Chroma(persist_directory=VECTORSTORE_PATH, embedding_function=embeddings)\n",
    "\n",
    "# Define test queries for RAG verification\n",
    "test_queries = [\n",
    "    \"Where is El Yunque National Forest located?\",\n",
    "    \"Tell me about Castillo San Felipe del Morro.\",\n",
    "    \"What are the most famous beaches in Puerto Rico?\",\n",
    "    \"Which landmarks should I visit in Old San Juan?\",\n",
    "    \"What are the best hiking trails in Puerto Rico?\"\n",
    "]\n",
    "\n",
    "# Initialize an empty list to store retrieval results\n",
    "retrieval_results = []\n",
    "\n",
    "# Function to check retrieval quality\n",
    "def evaluate_retrieval(query):\n",
    "    \"\"\"Retrieves documents from the RAG system and logs similarity scores.\"\"\"\n",
    "    docs = vectorstore.similarity_search(query, k=3)  # Retrieve top 3 documents\n",
    "    retrieved_chunks = []\n",
    "    \n",
    "    for doc in docs:\n",
    "        chunk_data = {\n",
    "            \"query\": query,\n",
    "            \"retrieved_text\": doc.page_content[:300] + \"...\",  # Show only first 300 chars\n",
    "            \"source_title\": doc.metadata.get(\"title\", \"Unknown\"),\n",
    "            \"similarity_score\": doc.metadata.get(\"similarity\", \"N/A\")\n",
    "        }\n",
    "        retrieved_chunks.append(chunk_data)\n",
    "    \n",
    "    return retrieved_chunks\n",
    "\n",
    "# Run retrieval tests on all queries\n",
    "for query in test_queries:\n",
    "    retrieval_results.extend(evaluate_retrieval(query))\n",
    "\n",
    "# Convert results to DataFrame for better readability\n",
    "retrieval_df = pd.DataFrame(retrieval_results)\n",
    "\n",
    "# Display verification results\n",
    "print(\"\\n=== Pre-RAG Verification Results ===\")\n",
    "print(retrieval_df.to_string(index=False))\n",
    "\n",
    "# Save results to a CSV file for further analysis\n",
    "retrieval_df.to_csv(\"rag_verification_results.csv\", index=False)"
   ]
  },
  {
   "cell_type": "markdown",
   "metadata": {},
   "source": [
    "# **RAG - Landmarks: Retreival Performance Test and Metrics**"
   ]
  },
  {
   "cell_type": "code",
   "execution_count": null,
   "metadata": {},
   "outputs": [],
   "source": [
    "#!pip install matplotlib"
   ]
  },
  {
   "cell_type": "code",
   "execution_count": null,
   "metadata": {},
   "outputs": [],
   "source": [
    "#!pip install nltk"
   ]
  },
  {
   "cell_type": "code",
   "execution_count": null,
   "metadata": {},
   "outputs": [],
   "source": [
    "#!pip install rouge"
   ]
  },
  {
   "cell_type": "code",
   "execution_count": 10,
   "metadata": {},
   "outputs": [],
   "source": [
    "import os\n",
    "import json\n",
    "import time\n",
    "import psutil\n",
    "import chromadb\n",
    "import matplotlib.pyplot as plt\n",
    "from langchain.vectorstores import Chroma\n",
    "from langchain_openai import OpenAIEmbeddings\n",
    "from nltk.translate.bleu_score import sentence_bleu\n",
    "from rouge import Rouge\n",
    "from nltk.translate.meteor_score import meteor_score\n",
    "from nltk.tokenize import word_tokenize"
   ]
  },
  {
   "cell_type": "code",
   "execution_count": null,
   "metadata": {},
   "outputs": [
    {
     "name": "stderr",
     "output_type": "stream",
     "text": [
      "c:\\Users\\larry\\anaconda3\\envs\\travel2pr_ai\\lib\\site-packages\\nltk\\translate\\bleu_score.py:577: UserWarning: \n",
      "The hypothesis contains 0 counts of 3-gram overlaps.\n",
      "Therefore the BLEU score evaluates to 0, independently of\n",
      "how many N-gram overlaps of lower order it contains.\n",
      "Consider using lower n-gram order or use SmoothingFunction()\n",
      "  warnings.warn(_msg)\n",
      "c:\\Users\\larry\\anaconda3\\envs\\travel2pr_ai\\lib\\site-packages\\nltk\\translate\\bleu_score.py:577: UserWarning: \n",
      "The hypothesis contains 0 counts of 4-gram overlaps.\n",
      "Therefore the BLEU score evaluates to 0, independently of\n",
      "how many N-gram overlaps of lower order it contains.\n",
      "Consider using lower n-gram order or use SmoothingFunction()\n",
      "  warnings.warn(_msg)\n"
     ]
    },
    {
     "name": "stdout",
     "output_type": "stream",
     "text": [
      "RAG evaluation completed. Results saved to C:\\Users\\larry\\OneDrive\\Documents\\GitHub\\project-aieng-interactive-travel-planner\\RAG Tests\\lm_test01\\rag_evaluation_results.json\n"
     ]
    },
    {
     "data": {
      "image/png": "[encoded data removed]",
      "text/plain": [
       "<Figure size 1000x500 with 1 Axes>"
      ]
     },
     "metadata": {},
     "output_type": "display_data"
    },
    {
     "data": {
      "image/png": "[encoded data removed]",
      "text/plain": [
       "<Figure size 1000x500 with 1 Axes>"
      ]
     },
     "metadata": {},
     "output_type": "display_data"
    }
   ],
   "source": [
    "# Set paths\n",
    "VECTORSTORE_PATH = r\"C:\\chromadb\\landmarks_db\"\n",
    "TEST_SET_PATH = r\"C:\\Users\\larry\\OneDrive\\Documents\\GitHub\\project-aieng-interactive-travel-planner\\RAG Tests\\lm_test02\\rag_test_queries.json\"\n",
    "RESULTS_OUTPUT_PATH = r\"C:\\Users\\larry\\OneDrive\\Documents\\GitHub\\project-aieng-interactive-travel-planner\\RAG Tests\\lm_test02\\rag_evaluation_results.json\"\n",
    "\n",
    "# Load embeddings & vectorstore\n",
    "embeddings = OpenAIEmbeddings()\n",
    "vectorstore = Chroma(persist_directory=VECTORSTORE_PATH, embedding_function=embeddings)\n",
    "\n",
    "# Load test queries\n",
    "with open(TEST_SET_PATH, \"r\", encoding=\"utf-8\") as f:\n",
    "    test_queries = json.load(f)\n",
    "\n",
    "# Initialize performance log\n",
    "evaluation_results = []\n",
    "\n",
    "def measure_cpu():\n",
    "    \"\"\"Returns CPU usage as a percentage.\"\"\"\n",
    "    return psutil.cpu_percent(interval=1)\n",
    "\n",
    "def evaluate_retrieval(query):\n",
    "    \"\"\"Runs the query, retrieves documents, measures similarity, and evaluates the response.\"\"\"\n",
    "    start_time = time.time()\n",
    "    cpu_before = measure_cpu()\n",
    "\n",
    "    # Run retrieval\n",
    "    docs = vectorstore.similarity_search(query, k=3)  # Using top-k = 3\n",
    "\n",
    "    cpu_after = measure_cpu()\n",
    "    latency = time.time() - start_time\n",
    "\n",
    "    # Extract retrieved texts\n",
    "    retrieved_texts = [doc.page_content for doc in docs]\n",
    "    retrieved_titles = [doc.metadata.get(\"title\", \"Unknown\") for doc in docs]\n",
    "\n",
    "    return retrieved_texts, retrieved_titles, cpu_before, cpu_after, latency\n",
    "\n",
    "# Initialize evaluation metrics\n",
    "rouge = Rouge()\n",
    "rouge_scores, meteor_scores, bleu_scores = [], [], []\n",
    "\n",
    "# Run evaluation on all queries\n",
    "for entry in test_queries:\n",
    "    query = entry[\"query\"]\n",
    "    expected_answers = entry[\"expected_answers\"]\n",
    "\n",
    "    # Retrieve the text using the RAG retriever\n",
    "    retrieved_texts, retrieved_titles, cpu_before, cpu_after, latency = evaluate_retrieval(query)\n",
    "\n",
    "    # Tokenize the expected answers and retrieved texts for METEOR\n",
    "    expected_tokens = [word_tokenize(answer) for answer in expected_answers]\n",
    "    retrieved_tokens = word_tokenize(\" \".join(retrieved_texts))\n",
    "\n",
    "    # Calculate evaluation metrics\n",
    "    rouge_score = rouge.get_scores(\" \".join(retrieved_texts), \" \".join(expected_answers))[0][\"rouge-l\"][\"f\"]\n",
    "    meteor_score_value = meteor_score(expected_tokens, retrieved_tokens)\n",
    "    bleu_score = sentence_bleu([answer.split() for answer in expected_answers], \" \".join(retrieved_texts).split())\n",
    "\n",
    "    rouge_scores.append(rouge_score)\n",
    "    meteor_scores.append(meteor_score_value)\n",
    "    bleu_scores.append(bleu_score)\n",
    "\n",
    "    avg_rouge = sum(rouge_scores) / len(rouge_scores)\n",
    "    avg_meteor = sum(meteor_scores) / len(meteor_scores)\n",
    "    avg_bleu = sum(bleu_scores) / len(bleu_scores)\n",
    "\n",
    "    # Log results\n",
    "    result_entry = {\n",
    "        \"query\": query,\n",
    "        \"expected_answers\": expected_answers,\n",
    "        \"retrieved_texts\": retrieved_texts,\n",
    "        \"retrieved_titles\": retrieved_titles,\n",
    "        \"retrieval_scores\": {\n",
    "            \"ROUGE-L\": avg_rouge,\n",
    "            \"METEOR\": avg_meteor,\n",
    "            \"BLEU\": avg_bleu\n",
    "        },\n",
    "        \"cpu_usage\": f\"{cpu_before}% -> {cpu_after}%\",\n",
    "        \"latency\": f\"{latency:.4f} seconds\"\n",
    "    }\n",
    "    evaluation_results.append(result_entry)\n",
    "\n",
    "# Save results\n",
    "with open(RESULTS_OUTPUT_PATH, \"w\", encoding=\"utf-8\") as f:\n",
    "    json.dump(evaluation_results, f, indent=4, ensure_ascii=False)\n",
    "\n",
    "print(f\"RAG evaluation completed. Results saved to {RESULTS_OUTPUT_PATH}\")\n",
    "\n",
    "# Visualization (CPU vs. Latency)\n",
    "cpu_usage_data = [float(entry[\"cpu_usage\"].split(\"->\")[1].strip()[:-1]) for entry in evaluation_results]\n",
    "latency_data = [float(entry[\"latency\"].split()[0]) for entry in evaluation_results]\n",
    "\n",
    "plt.figure(figsize=(10, 5))\n",
    "plt.plot(cpu_usage_data, label=\"CPU Usage (%)\", marker=\"o\", linestyle=\"--\")\n",
    "plt.plot(latency_data, label=\"Latency (seconds)\", marker=\"s\", linestyle=\"-\")\n",
    "plt.xlabel(\"Test Query\")\n",
    "plt.ylabel(\"Value\")\n",
    "plt.title(\"CPU Usage vs. Latency per Query\")\n",
    "plt.legend()\n",
    "plt.grid(True)\n",
    "plt.show()\n",
    "\n",
    "# Visualization (Retrieval Scores)\n",
    "bleu_scores = [entry[\"retrieval_scores\"][\"BLEU\"] for entry in evaluation_results]\n",
    "rouge_scores = [entry[\"retrieval_scores\"][\"ROUGE-L\"] for entry in evaluation_results]\n",
    "meteor_scores = [entry[\"retrieval_scores\"][\"METEOR\"] for entry in evaluation_results]\n",
    "\n",
    "plt.figure(figsize=(10, 5))\n",
    "plt.bar(range(len(bleu_scores)), bleu_scores, color=\"blue\", label=\"BLEU\")\n",
    "plt.bar(range(len(rouge_scores)), rouge_scores, color=\"red\", label=\"ROUGE-L\", alpha=0.7)\n",
    "plt.bar(range(len(meteor_scores)), meteor_scores, color=\"green\", label=\"METEOR\", alpha=0.7)\n",
    "plt.xlabel(\"Test Query\")\n",
    "plt.ylabel(\"Score\")\n",
    "plt.title(\"Retrieval Quality Metrics\")\n",
    "plt.legend()\n",
    "plt.show()"
   ]
  },
  {
   "cell_type": "code",
   "execution_count": null,
   "metadata": {},
   "outputs": [],
   "source": []
  }
 ],
 "metadata": {
  "kernelspec": {
   "display_name": "travel2pr_ai",
   "language": "python",
   "name": "python3"
  },
  "language_info": {
   "codemirror_mode": {
    "name": "ipython",
    "version": 3
   },
   "file_extension": ".py",
   "mimetype": "text/x-python",
   "name": "python",
   "nbconvert_exporter": "python",
   "pygments_lexer": "ipython3",
   "version": "3.10.16"
  }
 },
 "nbformat": 4,
 "nbformat_minor": 2
}
